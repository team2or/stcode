{
  "nbformat": 4,
  "nbformat_minor": 0,
  "metadata": {
    "colab": {
      "name": "20220216.ipynb",
      "provenance": [],
      "collapsed_sections": []
    },
    "kernelspec": {
      "name": "python3",
      "display_name": "Python 3"
    },
    "language_info": {
      "name": "python"
    }
  },
  "cells": [
    {
      "cell_type": "code",
      "execution_count": 42,
      "metadata": {
        "colab": {
          "base_uri": "https://localhost:8080/"
        },
        "id": "9uXXnG1NBdrg",
        "outputId": "cc38acb1-7a0c-40ee-9222-adfe903ff3b3"
      },
      "outputs": [
        {
          "output_type": "stream",
          "name": "stdout",
          "text": [
            "10\n",
            "3\n",
            "10 9 3 1\n"
          ]
        }
      ],
      "source": [
        "#1로 만들기 2 \n",
        "\n",
        "N=int(input())\n",
        "\n",
        "#제한사항\n",
        "if 1 <= N <= 10**6:\n",
        "    pass\n",
        "else:\n",
        "    print('N의 범위가 초과되었습니다.')\n",
        "\n",
        "N_measure=[] # N의 약수를 넣기 위해\n",
        "answer=[str(N)] #처음값 문자열로 리스트에 추가\n",
        "cnt=0 #회수를 나타내기위해\n",
        "\n",
        "#문제\n",
        "while N > 1:\n",
        "    #약수 리스트화\n",
        "    N_measure.clear() # 바뀐 N값으로 초기화하기위해\n",
        "    for n in range(1,N+1):\n",
        "        if N % n == 0:\n",
        "            if n != 1:\n",
        "                N_measure.append(n)\n",
        "\n",
        "    N_measure.sort(reverse=True)\n",
        "    if 1 not in [0 if n_ % 3 == 0 else 1 for n_ in N_measure]:\n",
        "        N /= 3\n",
        "    elif 1 not in [0 if n_ % 2 == 0 else 1 for n_ in N_measure]:\n",
        "        N /= 2\n",
        "    else:\n",
        "        N -= 1\n",
        "\n",
        "    N=int(N) # 정수로 만들기\n",
        "    answer.append(str(N)) #문자열로 추가하기\n",
        "    cnt+=1\n",
        "    \n",
        "print(cnt)\n",
        "print(' '.join(answer)) #출력 사이를 공백으로 나타내기\n",
        "\n",
        "\n",
        "#문제 출처 https://www.acmicpc.net/problem/12852"
      ]
    },
    {
      "cell_type": "code",
      "source": [
        "#NULL 처리하기\n",
        "# https://programmers.co.kr/learn/courses/30/lessons/59410\n",
        "\n",
        "SELECT ANIMAL_TYPE, ifnull(NAME,'No name') as name, SEX_UPON_INTAKE from ANIMAL_INS order by ANIMAL_ID asc"
      ],
      "metadata": {
        "id": "REmqT1sZBeb2"
      },
      "execution_count": null,
      "outputs": []
    },
    {
      "cell_type": "code",
      "source": [
        "# 루시와 엘라 찾기\n",
        "# https://programmers.co.kr/learn/courses/30/lessons/59046\n",
        "\n",
        "SELECT ANIMAL_ID, NAME, SEX_UPON_INTAKE from ANIMAL_INS where name in ('lucy','Ella','Pickle','Rogan','Sabrina','Mitty')"
      ],
      "metadata": {
        "id": "Mp8f9-4ABei1"
      },
      "execution_count": null,
      "outputs": []
    }
  ]
}