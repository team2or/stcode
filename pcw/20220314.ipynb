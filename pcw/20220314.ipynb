{
  "nbformat": 4,
  "nbformat_minor": 0,
  "metadata": {
    "colab": {
      "name": "20220314.ipynb",
      "provenance": [],
      "collapsed_sections": []
    },
    "kernelspec": {
      "name": "python3",
      "display_name": "Python 3"
    },
    "language_info": {
      "name": "python"
    }
  },
  "cells": [
    {
      "cell_type": "code",
      "source": [
        "def solution(bridge_length, weight, truck_weights):\n",
        "    answer = 0\n",
        "    weights = 0 #건너는 트럭 무게 합\n",
        "    bridge=[] #건너는 트럭 무게 리스트\n",
        "\n",
        "    while True:\n",
        "        if len(truck_weights) > 0:\n",
        "            truck = truck_weights.pop(0) \n",
        "            weights+=truck\n",
        "            if weights <= weight:\n",
        "                bridge.append([truck,0])\n",
        "            else:\n",
        "                #pop로 제거된 값을 다시 넣기위해 , 합한 값을 그대로 빼기\n",
        "                truck_weights.insert(0,truck)\n",
        "                weights-=truck\n",
        "        \n",
        "        #리스트 형태로 트럭이 무게에 따른 건너는 시간 넣어주기 \n",
        "        for i in bridge[:]:\n",
        "            i[1]+=1\n",
        "            #도착하기 전이니 합만 먼저 빼주어 다음값을 받을 준비하기\n",
        "            if i[1] == bridge_length:\n",
        "                weights-=i[0]\n",
        "            #도착하였으니 제거하기\n",
        "            if i[1] == bridge_length+1:\n",
        "                bridge.remove(i)\n",
        "\n",
        "        answer+=1 \n",
        "        \n",
        "        #정지\n",
        "        if len(bridge) == 0 and len(truck_weights) == 0:\n",
        "            break\n",
        "            \n",
        "    return answer\n",
        "\n",
        "# solution(2,10,[7,4,5,6])\n",
        "# solution(100,100,[10])\n",
        "solution(100,100,[10,10,10,10,10,10,10,10,10,10])"
      ],
      "metadata": {
        "colab": {
          "base_uri": "https://localhost:8080/"
        },
        "id": "abGbR3thVzzL",
        "outputId": "33396460-77f9-4645-c169-1cebd67f89b9"
      },
      "execution_count": 22,
      "outputs": [
        {
          "output_type": "execute_result",
          "data": {
            "text/plain": [
              "110"
            ]
          },
          "metadata": {},
          "execution_count": 22
        }
      ]
    },
    {
      "cell_type": "code",
      "source": [
        "# Population Census\n",
        "# https://www.hackerrank.com/challenges/asian-population/problem?isFullScreen=true\n",
        "\n",
        "select sum(a.population) from city a left join country b on a.countrycode = b.code where b.continent = 'asia';"
      ],
      "metadata": {
        "id": "dMhNAFDWgD1v"
      },
      "execution_count": null,
      "outputs": []
    },
    {
      "cell_type": "code",
      "source": [
        "# Revising Aggregations - Averages\n",
        "# https://www.hackerrank.com/challenges/revising-aggregations-the-average-function/problem?isFullScreen=true\n",
        "\n",
        "select avg(population) from city where district = 'California'"
      ],
      "metadata": {
        "id": "6Uac2U4IgD8J"
      },
      "execution_count": null,
      "outputs": []
    }
  ]
}