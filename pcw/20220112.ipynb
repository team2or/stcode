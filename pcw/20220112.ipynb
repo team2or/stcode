{
  "nbformat": 4,
  "nbformat_minor": 0,
  "metadata": {
    "colab": {
      "name": "20220112.ipynb",
      "provenance": [],
      "collapsed_sections": []
    },
    "kernelspec": {
      "name": "python3",
      "display_name": "Python 3"
    },
    "language_info": {
      "name": "python"
    }
  },
  "cells": [
    {
      "cell_type": "code",
      "execution_count": 26,
      "metadata": {
        "colab": {
          "base_uri": "https://localhost:8080/",
          "height": 35
        },
        "id": "pDXddg7k1Bi5",
        "outputId": "e82488c7-3824-467d-8b6b-71fd21a5c3c4"
      },
      "outputs": [
        {
          "output_type": "execute_result",
          "data": {
            "application/vnd.google.colaboratory.intrinsic+json": {
              "type": "string"
            },
            "text/plain": [
              "'abcdefghijklmn'"
            ]
          },
          "metadata": {},
          "execution_count": 26
        }
      ],
      "source": [
        "#신규 아이디 추천\n",
        "\n",
        "import re\n",
        "\n",
        "def solution(new_id):\n",
        "\n",
        "    answer=''\n",
        "\n",
        "    # special_char=['-','_','.','~','!','@','#','$','%','^','&','*','(',')','=','+','[','{',']','}',':','?',',','<','>','/']\n",
        "    #2단계 다른 방식\n",
        "\n",
        "    if 1 <= len(new_id) <= 1000:\n",
        "        new_id=re.sub(r'[^0-9a-zA-Z-_.~!@#$%^&*\\(\\)=+\\[{\\]}:?,<>/]','',new_id)\n",
        "    else:\n",
        "        return '길이가 초과 되었습니다.'\n",
        "\n",
        "    new_id=new_id.lower() #1단계\n",
        "\n",
        "    # for s_char in range(len(special_char[3:])): #2단계 다른 방식\n",
        "    #     new_id = new_id.replace(s_char,'')\n",
        "\n",
        "    new_id=re.sub(r\"[~!@#$%^&*\\(\\)=+\\[{\\]}:?,<>/]\",'',new_id) #2단계\n",
        "    new_id=new_id.replace('..','.') #3단계\n",
        "\n",
        "    while True:\n",
        "        if len(new_id) >= 1: #4단계\n",
        "            if new_id[0] == '.':\n",
        "                new_id=new_id[1:]\n",
        "                continue\n",
        "            elif new_id[-1] == '.':\n",
        "                new_id=new_id[:-1]\n",
        "                continue\n",
        "            else:\n",
        "                pass\n",
        "\n",
        "        else: #5단계\n",
        "            if new_id == '':\n",
        "                new_id='a'\n",
        "\n",
        "        new_id=new_id[:15] #6단계\n",
        "        if new_id[-1] == '.':\n",
        "            continue\n",
        "        else:\n",
        "            pass\n",
        "\n",
        "        if len(new_id) <= 2: #7단계\n",
        "            new_id += new_id[-1]\n",
        "            continue\n",
        "        else:\n",
        "            break\n",
        "\n",
        "    answer=new_id\n",
        "\n",
        "    return answer\n",
        "\n",
        "solution(\"abcdefghijklmn.p\")\n",
        "#문제 출처 https://programmers.co.kr/learn/courses/30/lessons/72410"
      ]
    },
    {
      "cell_type": "code",
      "source": [
        "#두 정수 사이의 합\n",
        "def solution(a,b):\n",
        "    answer=0\n",
        "    if -1000000 <= a <= 1000000 and -1000000 <= b <= 1000000:\n",
        "        if a == b:\n",
        "            answer = a\n",
        "        else:\n",
        "            if a>b:\n",
        "                for i in range(b,a+1):\n",
        "                    answer+=i\n",
        "            else:\n",
        "                for i in range(a,b+1):\n",
        "                    answer+=i\n",
        "\n",
        "        return answer\n",
        "solution(5,3)\n",
        "#문제 출처 https://programmers.co.kr/learn/courses/30/lessons/12912"
      ],
      "metadata": {
        "colab": {
          "base_uri": "https://localhost:8080/"
        },
        "id": "Qg1vkwBD1ehC",
        "outputId": "4894b4c2-297b-4032-94b5-fd09dbc9dc7a"
      },
      "execution_count": 12,
      "outputs": [
        {
          "output_type": "execute_result",
          "data": {
            "text/plain": [
              "12"
            ]
          },
          "metadata": {},
          "execution_count": 12
        }
      ]
    },
    {
      "cell_type": "code",
      "source": [
        ""
      ],
      "metadata": {
        "id": "8qYtEeiW2KBj"
      },
      "execution_count": null,
      "outputs": []
    }
  ]
}