{
  "nbformat": 4,
  "nbformat_minor": 0,
  "metadata": {
    "colab": {
      "name": "20220126.ipynb",
      "provenance": [],
      "collapsed_sections": []
    },
    "kernelspec": {
      "name": "python3",
      "display_name": "Python 3"
    },
    "language_info": {
      "name": "python"
    }
  },
  "cells": [
    {
      "cell_type": "code",
      "execution_count": 30,
      "metadata": {
        "colab": {
          "base_uri": "https://localhost:8080/"
        },
        "id": "F02l4oc8pdLo",
        "outputId": "7cca1963-fbf6-4512-c653-10bdd380e34a"
      },
      "outputs": [
        {
          "output_type": "execute_result",
          "data": {
            "text/plain": [
              "4"
            ]
          },
          "metadata": {},
          "execution_count": 30
        }
      ],
      "source": [
        "#예산\n",
        "import random\n",
        "def solution(d,budget):\n",
        "    answer=0\n",
        "    d_=[]\n",
        "    if 1 <= len(d) <= 100:\n",
        "        for D in d:\n",
        "            if 1 <= D <= 100000:\n",
        "                pass\n",
        "            else:\n",
        "                return '{} 부서의 신청금액이 초과'.format(d.index(D))\n",
        "    else:\n",
        "        return 'd 부서의 개수 초과'\n",
        "\n",
        "    if 1 <= budget <= 10000000:\n",
        "        pass\n",
        "    else:\n",
        "        return 'budget 값이 초과'\n",
        "\n",
        "    d.sort()\n",
        "    for i in d:\n",
        "        if budget >= i:\n",
        "            budget-=i\n",
        "            d_.append(i)\n",
        "        else:\n",
        "            pass\n",
        "\n",
        "    answer = len(d_)\n",
        "    return answer\n",
        "\n",
        "# solution([1,3,2,5,4],9)\n",
        "solution([2,2,3,3],10)\n",
        "\n",
        "#문제 출처 https://programmers.co.kr/learn/courses/30/lessons/12982"
      ]
    },
    {
      "cell_type": "code",
      "source": [
        "#최소 직사각형\n",
        "\n",
        "def solution(sizes):\n",
        "    answer=0\n",
        "    W,H = 0,0\n",
        "    if 1 <= len(sizes) <= 10000:\n",
        "        for w,h in sizes:\n",
        "            if 1 <= w <= 1000 and 1 <= h <= 1000:\n",
        "                pass\n",
        "            else:\n",
        "                return 'w,h 범위 초과'\n",
        "    else:\n",
        "        return 'sizes 길이 초과'\n",
        "\n",
        "    for size in sizes:\n",
        "        if W <= max(size):\n",
        "            W=max(size)\n",
        "        else:\n",
        "            pass\n",
        "\n",
        "        if H <= min(size):\n",
        "            H = min(size)\n",
        "        else:\n",
        "            pass\n",
        "        \n",
        "    answer=W*H\n",
        "\n",
        "    return answer\n",
        "# solution([[60, 50], [30, 70], [60, 30], [80, 40]])\n",
        "# solution([[10, 7], [12, 3], [8, 15], [14, 7], [5, 15]])\n",
        "solution([[14, 4], [19, 6], [6, 16], [18, 7], [7, 11]]\t)\n",
        "\n",
        "#문제 출처 https://programmers.co.kr/learn/courses/30/lessons/86491"
      ],
      "metadata": {
        "colab": {
          "base_uri": "https://localhost:8080/"
        },
        "id": "ojs2kLZdB9Cj",
        "outputId": "94ca778f-59cd-4ea1-a2b2-7c6d3e0340cf"
      },
      "execution_count": 13,
      "outputs": [
        {
          "output_type": "execute_result",
          "data": {
            "text/plain": [
              "133"
            ]
          },
          "metadata": {},
          "execution_count": 13
        }
      ]
    },
    {
      "cell_type": "code",
      "source": [
        ""
      ],
      "metadata": {
        "id": "gJuIEANJEbDh"
      },
      "execution_count": null,
      "outputs": []
    }
  ]
}