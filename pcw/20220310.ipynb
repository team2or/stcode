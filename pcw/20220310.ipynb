{
  "nbformat": 4,
  "nbformat_minor": 0,
  "metadata": {
    "colab": {
      "name": "20220310.ipynb",
      "provenance": [],
      "collapsed_sections": []
    },
    "kernelspec": {
      "name": "python3",
      "display_name": "Python 3"
    },
    "language_info": {
      "name": "python"
    }
  },
  "cells": [
    {
      "cell_type": "code",
      "execution_count": 22,
      "metadata": {
        "colab": {
          "base_uri": "https://localhost:8080/"
        },
        "id": "SHzEuvzKh610",
        "outputId": "7f955943-069d-4c4f-f18a-7e11f00f13ac"
      },
      "outputs": [
        {
          "output_type": "execute_result",
          "data": {
            "text/plain": [
              "5"
            ]
          },
          "metadata": {},
          "execution_count": 22
        }
      ],
      "source": [
        "# 프린터\n",
        "# https://programmers.co.kr/learn/courses/30/lessons/42587\n",
        "\n",
        "def solution(priorities, location):\n",
        "    answer = 0\n",
        "    p=[]\n",
        "    temp=[]\n",
        "\n",
        "    if 1 <= len(priorities) <= 100:\n",
        "        for i in priorities:\n",
        "            if 1 <= i <= 9:\n",
        "                if 0 <= location <= len(priorities) -1:\n",
        "                    pass\n",
        "                else:\n",
        "                    return 'location 의 범위 초과'\n",
        "            else:\n",
        "                return '중요도의 범위 초과'\n",
        "    else:\n",
        "        return '현재 대기목록 초과'\n",
        "    \n",
        "    #대기열 순서와 목록을 리스트로 나타내기위해\n",
        "    for i in range(len(priorities)):\n",
        "        p.append([i,priorities[i]])\n",
        "    \n",
        "    #\n",
        "    while len(p):\n",
        "        p_max=0\n",
        "        p_p=p.pop(0) # 대기 목록에서 가장 앞에 있는 문서 꺼내기\n",
        "        #남아 있는 대기 목록중 제일 높은 중요도의 문서 나타내기\n",
        "        for i in p:\n",
        "            if i[1] >= p_max:\n",
        "                p_max=i[1]\n",
        "        if p_p[1] < p_max:\n",
        "            p.append(p_p) #남아 있는 대기 목록중 제일 높은 중요도 문서보다 낮을 경우 다시 추가하기\n",
        "        else:\n",
        "            temp.append(p_p[0]) #인쇄 될 대기열 순서를 리스트화\n",
        "\n",
        "    answer=temp.index(location)+1 # 양의 정수로 반영하기에 +1\n",
        "\n",
        "    return answer\n",
        "\n",
        "# solution([2, 1, 3, 2],2)\n",
        "solution([1, 1, 9, 1, 1, 1],0)"
      ]
    },
    {
      "cell_type": "code",
      "source": [
        "# Weather Observation Station 12\n",
        "# https://www.hackerrank.com/challenges/weather-observation-station-12/problem?isFullScreen=true\n",
        "\n",
        "select distinct city from station where city regexp '^[^aeiou]' and city regexp '[^aeiou]$';"
      ],
      "metadata": {
        "id": "xpSHMoUQh7kH"
      },
      "execution_count": null,
      "outputs": []
    },
    {
      "cell_type": "code",
      "source": [
        "# Revising Aggregations - The Count Function\n",
        "# https://www.hackerrank.com/challenges/revising-aggregations-the-count-function/problem?isFullScreen=true\n",
        "\n",
        "select count(id) from city where population > 100000;"
      ],
      "metadata": {
        "id": "9fhK1ASGh7nR"
      },
      "execution_count": null,
      "outputs": []
    }
  ]
}