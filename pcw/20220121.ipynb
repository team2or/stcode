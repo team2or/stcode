{
  "nbformat": 4,
  "nbformat_minor": 0,
  "metadata": {
    "colab": {
      "name": "20220121.ipynb",
      "provenance": [],
      "collapsed_sections": []
    },
    "kernelspec": {
      "name": "python3",
      "display_name": "Python 3"
    },
    "language_info": {
      "name": "python"
    }
  },
  "cells": [
    {
      "cell_type": "code",
      "execution_count": 50,
      "metadata": {
        "colab": {
          "base_uri": "https://localhost:8080/"
        },
        "id": "M6FiIZcDiFVh",
        "outputId": "f42a4f82-a505-4449-c6b0-2b359d404d6c"
      },
      "outputs": [
        {
          "output_type": "execute_result",
          "data": {
            "text/plain": [
              "[123]"
            ]
          },
          "metadata": {},
          "execution_count": 50
        }
      ],
      "source": [
        "#튜플\n",
        "import re\n",
        "def solution(s):\n",
        "    answer=[]\n",
        "    s_list=[]\n",
        "    s_dic={}\n",
        "    cnt=0\n",
        "    #제한사항\n",
        "    if 5 <= len(s) <= 1000000:\n",
        "        for s1 in s:\n",
        "            if re.search('[0-9{},]+',s1):\n",
        "                pass\n",
        "            else:\n",
        "                return 's정규식'\n",
        "\n",
        "        s=s[2:-2].split('},{') #슬라이싱과 split()을 이용하여 리스트화\n",
        "\n",
        "        for i in s:\n",
        "            if i[0] != 0:\n",
        "                pass\n",
        "            else:\n",
        "                return 's=0'\n",
        "        # print(s)\n",
        "        # print(len(s))\n",
        "        # print(len(set(s)))\n",
        "        if len(s) == len(set(s)):\n",
        "            pass\n",
        "        else:\n",
        "            return 's 중복'\n",
        "    else:\n",
        "        return 's길이' \n",
        "\n",
        "    #문제\n",
        "    #리스트 안에 문자열을 리스트화\n",
        "    for i in range(len(s)):\n",
        "        s[i]=s[i].split(',')\n",
        "    # print(s)\n",
        "\n",
        "    # 제한 사항 및 리스트 안의 값을 s_list에 추가\n",
        "    for i in s:\n",
        "        for j in i: \n",
        "            #제한 사항\n",
        "            if 1 <= int(j) <= 100000:\n",
        "                s_list.append(int(j))\n",
        "            else:\n",
        "                return '튜플의 원소x'\n",
        "    # print(s_list)\n",
        "\n",
        "    #딕셔너리와 카운터를 이용\n",
        "    for i in s_list:\n",
        "        s_dic[i]=s_list.count(i)\n",
        "    # print(s_dic)\n",
        "\n",
        "    #values 값으로 정렬\n",
        "    s_dic=sorted(s_dic.items(),key=lambda x:x[1],reverse=True)\n",
        "    # print(s_dic)\n",
        "\n",
        "    #정렬된 순으로 추가\n",
        "    for i,j in s_dic:\n",
        "        answer.append(i)\n",
        "    # print(answer)\n",
        "            \n",
        "    #제한사항\n",
        "    if 1 <= len(answer) <= 500:\n",
        "        return answer\n",
        "    else:\n",
        "        return 'return 배열의 길이x'\n",
        "\n",
        "solution(\"{{123}}\")\n",
        "#문제 출처 https://programmers.co.kr/learn/courses/30/lessons/64065"
      ]
    },
    {
      "cell_type": "code",
      "source": [
        "#일요일\n",
        "T=int(input('')) #테스트케이스\n",
        "week=['MON','TUE','WED','THU','FRI','SAT','SUN'] #요일\n",
        "cnt=1\n",
        "for t in range(T):\n",
        "    S=input('') #입력\n",
        "    S=S.upper() #대문자화\n",
        "    if S in week:\n",
        "        for w in week:\n",
        "            if S == w:\n",
        "                next_sun=week.index('SUN')-week.index(w) #일요일 에서 입력한 요일 빼기\n",
        "                if next_sun == 0: \n",
        "                    next_sun = week.index('SUN')+1\n",
        "                print('#{} {}'.format(cnt,next_sun))\n",
        "                cnt+=1\n",
        "    else:\n",
        "        print('요일x')\n",
        "        break\n",
        "\n",
        "\n",
        "#문제 출처 https://swexpertacademy.com/main/code/problem/problemDetail.do?contestProbId=AX0SaDW6L2oDFASs&categoryId=AX0SaDW6L2oDFASs&categoryType=CODE&problemTitle=&orderBy=FIRST_REG_DATETIME&selectCodeLang=ALL&select-1=&pageSize=10&pageIndex=1&&&&&&&&&"
      ],
      "metadata": {
        "colab": {
          "base_uri": "https://localhost:8080/"
        },
        "id": "1bQZuiV8xhsV",
        "outputId": "5938b0a9-7b76-4b4b-c996-fed2ad5b803d"
      },
      "execution_count": 51,
      "outputs": [
        {
          "output_type": "stream",
          "name": "stdout",
          "text": [
            "3\n",
            "sun\n",
            "#1 6\n",
            "mon\n",
            "#2 6\n",
            "sat\n",
            "#3 1\n"
          ]
        }
      ]
    },
    {
      "cell_type": "code",
      "source": [
        ""
      ],
      "metadata": {
        "id": "lLu_dwz05x0M"
      },
      "execution_count": null,
      "outputs": []
    }
  ]
}