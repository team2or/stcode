{
 "cells": [
  {
   "cell_type": "code",
   "execution_count": null,
   "metadata": {
    "id": "FVrS9SjuSz5c"
   },
   "outputs": [],
   "source": [
    "#문제 출처 https://swexpertacademy.com/main/code/problem/problemDetail.do?problemLevel=1&problemLevel=2&contestProbId=AV5LrsUaDxcDFAXc&categoryId=AV5LrsUaDxcDFAXc&categoryType=CODE&problemTitle=&orderBy=FIRST_REG_DATETIME&selectCodeLang=PYTHON&select-1=2&pageSize=10&pageIndex=1"
   ]
  },
  {
   "cell_type": "code",
   "execution_count": 3,
   "metadata": {
    "colab": {
     "base_uri": "https://localhost:8080/"
    },
    "executionInfo": {
     "elapsed": 1654,
     "status": "ok",
     "timestamp": 1641235968188,
     "user": {
      "displayName": "CW Park",
      "photoUrl": "https://lh3.googleusercontent.com/a/default-user=s64",
      "userId": "18212891703674381783"
     },
     "user_tz": -540
    },
    "id": "hjOJDEsK9FJu",
    "outputId": "8e847d07-e8b7-4b91-aa45-e3e9da40f354"
   },
   "outputs": [
    {
     "name": "stdout",
     "output_type": "stream",
     "text": [
      "4\n",
      "7\n",
      "2 10 9 2 6 8 4 \n",
      "#1 16\n",
      "5\n",
      "10 10 5 6 10 \n",
      "#2 9\n",
      "9\n",
      "5 6 6 2 8 8 2 7 8 \n",
      "#3 20\n",
      "6\n",
      "10 1 2 1 6 4 \n",
      "#4 14\n"
     ]
    }
   ],
   "source": [
    "#백만 장자 프로젝트\n",
    "import random\n",
    "T=int(input(''))\n",
    "\n",
    "N2_list=[] # 매출 리스트화\n",
    "for t in range(1,T+1):\n",
    "    total_profit=0 # 총 이익 , 초기화를 위하여 반복문에 넣어줌\n",
    "    profit_list=[] # 이익 리스트화 , 초기화를 위하여 반복문에 넣어줌\n",
    "    N=random.randrange(2,11)\n",
    "    print(N) # 자연수 출력\n",
    "    for n in range(1,N+1):\n",
    "        sale_price=random.randrange(1,11)\n",
    "        print(sale_price,end=' ') # 매출 출력\n",
    "        N2_list.append(sale_price)\n",
    "    while True:\n",
    "        if len(N2_list)!=0:\n",
    "            initial_value = 0 # 초기값\n",
    "            N2_list_max=max(N2_list)*N2_list.index(max(N2_list)) #리스트내에 최대이익\n",
    "            if len(N2_list) >= 1:\n",
    "                for N2_list_sum in range(0,N2_list.index(max(N2_list))): # 최대이익값 되기전 매매가 합\n",
    "                    initial_value+=N2_list[N2_list_sum]\n",
    "                for N2_list_pop in range(0,N2_list.index(max(N2_list))+1): # 계산된 값 제외\n",
    "                    N2_list.pop(0)\n",
    "                profit_list.append(N2_list_max-initial_value) # 최대이익 - 매매가 합\n",
    "            else:\n",
    "                break\n",
    "        else:\n",
    "            break\n",
    "    for profit in profit_list:\n",
    "        total_profit+=profit # 총이익\n",
    "    print('')\n",
    "    print('#{} {}'.format(t,total_profit))\n",
    "\n",
    "    \n",
    "    "
   ]
  },
  {
   "cell_type": "code",
   "execution_count": null,
   "metadata": {
    "id": "XxopJKFQMaVZ"
   },
   "outputs": [],
   "source": [
    "#test\n",
    "a1=[629,3497,7202,7775,4325,3982,4784,8417,2156,1932]\n",
    "sum1=0\n",
    "sum1_l=[]\n",
    "sum2=0\n",
    "while True:\n",
    "    if len(a1)!=0:\n",
    "        sum1=0\n",
    "        s1=max(a1)*a1.index(max(a1))\n",
    "        if len(a1) >= 2:\n",
    "            for i in range(0,a1.index(max(a1))):\n",
    "                sum1+=a1[i]\n",
    "            for j in range(0,a1.index(max(a1))+1):\n",
    "                a1.pop(0)\n",
    "            sum1_l.append(s1-sum1)\n",
    "        else:\n",
    "            break\n",
    "    else:\n",
    "        break\n",
    "for i in sum1_l:\n",
    "    sum2+=i\n",
    "sum2"
   ]
  },
  {
   "cell_type": "code",
   "execution_count": 112,
   "metadata": {
    "colab": {
     "base_uri": "https://localhost:8080/",
     "height": 54
    },
    "executionInfo": {
     "elapsed": 2097,
     "status": "ok",
     "timestamp": 1641234579582,
     "user": {
      "displayName": "CW Park",
      "photoUrl": "https://lh3.googleusercontent.com/a/default-user=s64",
      "userId": "18212891703674381783"
     },
     "user_tz": -540
    },
    "id": "LT7bXcmgB_Yr",
    "outputId": "fd19c046-473a-4b02-981a-8be07eabf91f"
   },
   "outputs": [
    {
     "name": "stdout",
     "output_type": "stream",
     "text": [
      "629 3497 7202 7775 4325 3982 4784 8417 2156 1932\n"
     ]
    },
    {
     "data": {
      "application/vnd.google.colaboratory.intrinsic+json": {
       "type": "string"
      },
      "text/plain": [
       "'629,3497,7202,7775,4325,3982,4784,8417,2156,1932'"
      ]
     },
     "execution_count": 112,
     "metadata": {},
     "output_type": "execute_result"
    }
   ],
   "source": [
    "#test\n",
    "a1=input('')\n",
    "\n",
    "a1.replace(' ',',')"
   ]
  }
 ],
 "metadata": {
  "colab": {
   "authorship_tag": "ABX9TyNa+oSD6SOa6a7mi2uHEtIn",
   "collapsed_sections": [],
   "name": "20220103.ipynb",
   "provenance": []
  },
  "kernelspec": {
   "display_name": "Python 3 (ipykernel)",
   "language": "python",
   "name": "python3"
  },
  "language_info": {
   "codemirror_mode": {
    "name": "ipython",
    "version": 3
   },
   "file_extension": ".py",
   "mimetype": "text/x-python",
   "name": "python",
   "nbconvert_exporter": "python",
   "pygments_lexer": "ipython3",
   "version": "3.9.7"
  }
 },
 "nbformat": 4,
 "nbformat_minor": 1
}
