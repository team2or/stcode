{
  "nbformat": 4,
  "nbformat_minor": 0,
  "metadata": {
    "colab": {
      "name": "20220215.ipynb",
      "provenance": [],
      "collapsed_sections": []
    },
    "kernelspec": {
      "name": "python3",
      "display_name": "Python 3"
    },
    "language_info": {
      "name": "python"
    }
  },
  "cells": [
    {
      "cell_type": "code",
      "execution_count": 62,
      "metadata": {
        "colab": {
          "base_uri": "https://localhost:8080/"
        },
        "id": "uF22q61inWvu",
        "outputId": "753af1cb-8d91-4f82-f31d-6a443f7d6719"
      },
      "outputs": [
        {
          "output_type": "stream",
          "name": "stdout",
          "text": [
            "131\n"
          ]
        }
      ],
      "source": [
        "#도서관\n",
        "\n",
        "N,M=map(int,input().split())\n",
        "B_location=list(map(int,input().split()))\n",
        "\n",
        "answer=0\n",
        "positive=[] #양의 정수를 넣기위한 리스트\n",
        "negative=[] #음의 정수를 넣기위한 리스트\n",
        "B=B_location\n",
        "sum_integer=[] #합치기 위한 리스트\n",
        "\n",
        "#제한사항\n",
        "if 0 <= N <= 50 and 0 <= M <= 50:\n",
        "    for b in B:\n",
        "        if 1 <= abs(b) <= 10000:\n",
        "                #정수로 나누기\n",
        "                if 0 > b:\n",
        "                    negative.append(b)\n",
        "                else:\n",
        "                    positive.append(b)\n",
        "        else:\n",
        "            print('책의 위치 범위 초과')\n",
        "else:\n",
        "    print('책의 개수의 범위 초과')\n",
        "\n",
        "#정렬\n",
        "negative.sort()\n",
        "positive.sort(reverse=True)\n",
        "\n",
        "# print(negative)\n",
        "# print(positive)\n",
        "\n",
        "#한개의 리스트로 합치기\n",
        "for m in range(0,len(negative),M):\n",
        "    sum_integer.append(min(negative[m:m+M]))\n",
        "\n",
        "for p in range(0,len(positive),M):\n",
        "    sum_integer.append(max(positive[p:p+M]))\n",
        "\n",
        "#출력하기\n",
        "if len(B) == 1:\n",
        "    answer+=abs(sum_integer[0])\n",
        "else:\n",
        "    #절대값이 큰값 순으로 정렬하기\n",
        "    if abs(min(negative)) > abs(max(positive)):\n",
        "        pass\n",
        "    else:\n",
        "        sum_integer.sort(reverse=True) \n",
        "\n",
        "    #정렬한 순서대로 걸음수 구하기\n",
        "    for s in range(1,len(sum_integer)):\n",
        "        answer+=abs(sum_integer[s])*2\n",
        "    answer+=abs(sum_integer[0])\n",
        "\n",
        "print(answer)\n",
        "\n",
        "\n",
        "#문제 출처 https://www.acmicpc.net/problem/1461"
      ]
    },
    {
      "cell_type": "code",
      "source": [
        "#입력값\n",
        "\n",
        "'입력1'\n",
        "N=7\n",
        "M=2\n",
        "B_location=[-37 ,2 ,-6 ,-39 ,-29 ,11 ,-28]\n",
        "\n",
        "'입력2'\n",
        "N=8 \n",
        "M=3\n",
        "B_location=[-18, -9, -4, 50, 22, -26, 40, -45]\n",
        "\n",
        "'입력3'\n",
        "N=6 \n",
        "M=2\n",
        "B_location=[3, 4, 5, 6, 11, -1]\n",
        "\n",
        "'입력4'\n",
        "N=1\n",
        "M=50\n",
        "B_location=[1]"
      ],
      "metadata": {
        "id": "16EXXDoMXpjr"
      },
      "execution_count": null,
      "outputs": []
    },
    {
      "cell_type": "code",
      "source": [
        "#이름이 없는 동물의 아이디\n",
        "#문제 출처 https://programmers.co.kr/learn/courses/30/lessons/59039\n",
        "\n",
        "SELECT ANIMAL_ID from ANIMAL_INS where NAME is null order by ANIMAL_ID asc"
      ],
      "metadata": {
        "id": "frEf9ANNB3TJ"
      },
      "execution_count": null,
      "outputs": []
    },
    {
      "cell_type": "code",
      "source": [
        "#이름이 있는 동물의 아이디\n",
        "#문제 출처 https://programmers.co.kr/learn/courses/30/lessons/59407\n",
        "\n",
        "SELECT ANIMAL_ID from ANIMAL_INS where NAME is not null order by ANIMAL_ID asc"
      ],
      "metadata": {
        "id": "ihkqRT67B3XB"
      },
      "execution_count": null,
      "outputs": []
    }
  ]
}