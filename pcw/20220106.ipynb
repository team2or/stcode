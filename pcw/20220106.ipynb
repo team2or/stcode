{
  "nbformat": 4,
  "nbformat_minor": 0,
  "metadata": {
    "colab": {
      "name": "20220106.ipynb",
      "provenance": [],
      "collapsed_sections": []
    },
    "kernelspec": {
      "name": "python3",
      "display_name": "Python 3"
    },
    "language_info": {
      "name": "python"
    }
  },
  "cells": [
    {
      "cell_type": "code",
      "execution_count": 7,
      "metadata": {
        "colab": {
          "base_uri": "https://localhost:8080/"
        },
        "outputId": "b9a2d64c-a9e1-44a8-9be2-8dcdb0c27de6",
        "id": "WMd7DBpt12DB"
      },
      "outputs": [
        {
          "output_type": "stream",
          "name": "stdout",
          "text": [
            "100\n",
            "1 2 - 4 5 - 7 8 - 10 11 12 - 14 15 - 17 18 - 20 21 22 - 24 25 - 27 28 - - - - -- - - -- - - -- 40 41 42 - 44 45 - 47 48 - 50 51 52 - 54 55 - 57 58 - - - - -- - - -- - - -- 70 71 72 - 74 75 - 77 78 - 80 81 82 - 84 85 - 87 88 - - - - -- - - -- - - -- 100 "
          ]
        }
      ],
      "source": [
        "#간단한 369 게임\n",
        "\n",
        "n_list=[] #N을 문자형 리스트\n",
        "n_none='' # 빈 변수 버전호환용\n",
        "tsn=['3','6','9'] \n",
        "N=int(input(''))\n",
        "if N >= 10 and N <= 1000:\n",
        "    for n in range(1,N+1):\n",
        "        n_list.append([str(n)])\n",
        "\n",
        "    for f_l in range(0,len(n_list)):\n",
        "\n",
        "        for s_l in range(0,len(n_list[f_l])):\n",
        "            if len(n_list[f_l][s_l]) > 1:\n",
        "                n_app=[] # 빈 리스트\n",
        "                n_app2=[]\n",
        "                for t_l in range(0,len(n_list[f_l][s_l])):\n",
        "                    n_app.append(n_list[f_l][s_l][t_l])\n",
        "                    # print(n_app)\n",
        "                    \n",
        "                for i in tsn:\n",
        "                    for j in n_app:\n",
        "                        if i in j:\n",
        "                            n_app2.append('-')\n",
        "                        else:\n",
        "                            pass \n",
        "\n",
        "                if '-' in n_app2:\n",
        "                    n_none=','.join(n_app2)\n",
        "                    n_none=n_none.replace(',','')                \n",
        "                    n_list[f_l][s_l]=n_none\n",
        "                else:\n",
        "                    n_none=','.join(n_app)\n",
        "                    n_none=n_none.replace(',','')   \n",
        "                    n_list[f_l][s_l]=n_none\n",
        "            else:\n",
        "                if n_list[f_l][s_l] in tsn: # 일의자리 숫자\n",
        "                    n_list[f_l][s_l]='-'\n",
        "\n",
        "    for n in range(0,N):\n",
        "        print_n=','.join(n_list[n])\n",
        "        print(print_n,end=' ')\n",
        "\n",
        "else:\n",
        "    print('초과하였습니다.')"
      ]
    },
    {
      "cell_type": "code",
      "source": [
        "#지그재그 숫자\n",
        "\n",
        "T=int(input('테스트 케이스의 개수 : '))\n",
        "\n",
        "for t in range(1,T+1):\n",
        "    cal=0 #초기값\n",
        "    N=int(input(''))\n",
        "    if N >= 1 and N <= 10:\n",
        "        for n in range(1,N+1):\n",
        "            if n%2==0:\n",
        "                cal-=n\n",
        "            else:\n",
        "                cal+=n\n",
        "        print(cal)\n",
        "    else:\n",
        "        print('초과하였습니다.')\n",
        "#문제 출처 https://swexpertacademy.com/main/code/problem/problemDetail.do?problemLevel=2&contestProbId=AV5PxmBqAe8DFAUq&categoryId=AV5PxmBqAe8DFAUq&categoryType=CODE&problemTitle=&orderBy=FIRST_REG_DATETIME&selectCodeLang=PYTHON&select-1=2&pageSize=10&pageIndex=1&&&&&&&&&&"
      ],
      "metadata": {
        "colab": {
          "base_uri": "https://localhost:8080/"
        },
        "id": "ra-rdn94Oi6b",
        "outputId": "f64f26f8-09f4-4f7c-d437-5d24dd2f8dd0"
      },
      "execution_count": 9,
      "outputs": [
        {
          "output_type": "stream",
          "name": "stdout",
          "text": [
            "테스트 케이스의 개수 : 2\n",
            "5\n",
            "3\n",
            "6\n",
            "-3\n"
          ]
        }
      ]
    }
  ]
}