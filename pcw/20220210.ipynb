{
  "nbformat": 4,
  "nbformat_minor": 0,
  "metadata": {
    "colab": {
      "name": "20220210.ipynb",
      "provenance": [],
      "collapsed_sections": []
    },
    "kernelspec": {
      "name": "python3",
      "display_name": "Python 3"
    },
    "language_info": {
      "name": "python"
    }
  },
  "cells": [
    {
      "cell_type": "code",
      "execution_count": 18,
      "metadata": {
        "colab": {
          "base_uri": "https://localhost:8080/"
        },
        "id": "Rq4Hzqkn7WBM",
        "outputId": "34128512-6fae-44ef-a88b-522347f744d4"
      },
      "outputs": [
        {
          "output_type": "execute_result",
          "data": {
            "text/plain": [
              "2"
            ]
          },
          "metadata": {},
          "execution_count": 18
        }
      ],
      "source": [
        "#더 맵게\n",
        "\n",
        "def solution(scoville,K):\n",
        "    scoville_sum=0\n",
        "    answer=0\n",
        "    cnt=0\n",
        "    end=0 #반복문 끝내기용\n",
        "\n",
        "    # 제한사항\n",
        "    if 2 <= len(scoville) <= 1000000:\n",
        "        if 0 <= K <= 1000000000:\n",
        "            for scov in scoville:\n",
        "                if 0 <= scov <= 1000000:\n",
        "                    pass\n",
        "                else:\n",
        "                    return 'scoville 원소의 범위 초과'\n",
        "        else:\n",
        "            return 'K의 범위 초과'\n",
        "    else:\n",
        "        return 'scoville의 길이 초과'\n",
        "\n",
        "    #문제\n",
        "    while end < len(scoville):\n",
        "        end=0\n",
        "        scoville.sort()\n",
        "        scoville_sum=scoville[0]+(scoville[1]*2)\n",
        "        scoville.pop(0)\n",
        "        scoville.pop(0)\n",
        "        scoville.insert(0,scoville_sum)\n",
        "        cnt+=1\n",
        "        for i in scoville:\n",
        "            if i >= 7:\n",
        "                end+=1\n",
        "            else:\n",
        "                pass\n",
        "\n",
        "    answer=cnt\n",
        "    return answer\n",
        "\n",
        "solution([1, 2, 3, 9, 10, 12],7)\n",
        "\n",
        "#문제 출처 https://programmers.co.kr/learn/courses/30/lessons/42626"
      ]
    },
    {
      "cell_type": "code",
      "source": [
        "#동물 수 구하기\n",
        "#문제 출처 https://programmers.co.kr/learn/courses/30/lessons/59406\n",
        "\n",
        "SELECT COUNT(*) FROM ANIMAL_INS"
      ],
      "metadata": {
        "id": "X3ueb5ux8P8V"
      },
      "execution_count": null,
      "outputs": []
    },
    {
      "cell_type": "code",
      "source": [
        "#중복 제거하기\n",
        "#문제 출처 https://programmers.co.kr/learn/courses/30/lessons/59408\n",
        "\n",
        "SELECT COUNT(DISTINCT NAME) FROM ANIMAL_INS WHERE NAME IS NOT NULL;"
      ],
      "metadata": {
        "id": "WnjDFGCg8P-r"
      },
      "execution_count": null,
      "outputs": []
    }
  ]
}