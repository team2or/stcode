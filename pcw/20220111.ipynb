{
  "nbformat": 4,
  "nbformat_minor": 0,
  "metadata": {
    "colab": {
      "name": "20220111.ipynb",
      "provenance": [],
      "collapsed_sections": []
    },
    "kernelspec": {
      "name": "python3",
      "display_name": "Python 3"
    },
    "language_info": {
      "name": "python"
    }
  },
  "cells": [
    {
      "cell_type": "code",
      "execution_count": null,
      "metadata": {
        "colab": {
          "base_uri": "https://localhost:8080/"
        },
        "id": "lalcrAbVl3JS",
        "outputId": "993389ab-cb3e-4c12-c979-e3215cc23c29"
      },
      "outputs": [
        {
          "output_type": "execute_result",
          "data": {
            "text/plain": [
              "1234"
            ]
          },
          "metadata": {},
          "execution_count": 8
        }
      ],
      "source": [
        "#문자열 정수로 바꾸기\n",
        "def solution(s):\n",
        "    if len(s) >= 1 and len(s) <=5:\n",
        "        return int(s)\n",
        "\n",
        "solution('1234')\n",
        "\n",
        "#문제 출처 https://programmers.co.kr/learn/courses/30/lessons/12925"
      ]
    },
    {
      "cell_type": "code",
      "source": [
        "#체육복\n",
        "def solution(n,lost,reserve):\n",
        "    answer=0\n",
        "    uni=0\n",
        "    if n >= 2 and n <= 30  :\n",
        "        for i in lost:\n",
        "            for j in reserve:\n",
        "                if i-1 == j:\n",
        "                    uni+=1\n",
        "                    reserve.remove(j)\n",
        "                elif i+1 == j:\n",
        "                    uni+=1\n",
        "                    reserve.remove(j)\n",
        "                else:\n",
        "                    pass\n",
        "    answer=n-len(lost)+uni\n",
        "    return answer\n",
        "\n",
        "solution(3,[3],[1])\n",
        "\n",
        "#문제 출처 https://programmers.co.kr/learn/courses/30/lessons/42862"
      ],
      "metadata": {
        "colab": {
          "base_uri": "https://localhost:8080/"
        },
        "id": "lcjx_CNWnsip",
        "outputId": "42f32bf7-1bd2-44a0-d564-de59ccb6e8ca"
      },
      "execution_count": null,
      "outputs": [
        {
          "output_type": "execute_result",
          "data": {
            "text/plain": [
              "2"
            ]
          },
          "metadata": {},
          "execution_count": 27
        }
      ]
    }
  ]
}