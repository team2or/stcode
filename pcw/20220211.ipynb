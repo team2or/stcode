{
  "nbformat": 4,
  "nbformat_minor": 0,
  "metadata": {
    "colab": {
      "name": "20220211.ipynb",
      "provenance": [],
      "collapsed_sections": []
    },
    "kernelspec": {
      "name": "python3",
      "display_name": "Python 3"
    },
    "language_info": {
      "name": "python"
    }
  },
  "cells": [
    {
      "cell_type": "code",
      "execution_count": 66,
      "metadata": {
        "colab": {
          "base_uri": "https://localhost:8080/",
          "height": 0
        },
        "id": "mAlVMMTEMzwL",
        "outputId": "b50fbc1d-1446-43df-ced5-df2997524b36"
      },
      "outputs": [
        {
          "output_type": "execute_result",
          "data": {
            "text/plain": [
              "0"
            ]
          },
          "metadata": {},
          "execution_count": 66
        }
      ],
      "source": [
        "#짝지어 제거하기\n",
        "import re\n",
        "def solution(s):\n",
        "    #변수\n",
        "    cnt=0 #반복문 중지시키키위해\n",
        "    S=[]\n",
        "\n",
        "    #제한사항\n",
        "    if 1 <= len(s) <= 1000000:\n",
        "        if re.fullmatch('[a-z]+',s):\n",
        "            pass\n",
        "        else:\n",
        "            return '소문자가 아닙니다.'\n",
        "    else:\n",
        "        return 's값의 범위를 초과'\n",
        "    \n",
        "    #문제\n",
        "    #리스트화\n",
        "    for i in s:\n",
        "        S.append(i)\n",
        "    \n",
        "    while len(S) != 0:\n",
        "        for i in range(0,len(S)-1):\n",
        "            if len(set(S[i:i+2]))==1:\n",
        "                del S[i:i+2]\n",
        "                cnt=0 #제거될경우 카운터 초기화\n",
        "                break\n",
        "            else:\n",
        "                pass\n",
        "        cnt+=1\n",
        "        if cnt == len(S):\n",
        "            break\n",
        "\n",
        "    if len(S) == 0:\n",
        "        return 1\n",
        "    else:\n",
        "        return 0\n",
        "\n",
        "# solution('baabaa')\n",
        "solution('cdcd')\n",
        "\n",
        "#문제 출처 https://programmers.co.kr/learn/courses/30/lessons/12973"
      ]
    },
    {
      "cell_type": "code",
      "source": [
        "# 고양이와 개는 몇 마리 있을까\n",
        "# https://programmers.co.kr/learn/courses/30/lessons/59040\n",
        "\n",
        "SELECT distinct ANIMAL_TYPE,count(ANIMAL_TYPE ) from ANIMAL_INS group by ANIMAL_TYPE order by ANIMAL_TYPE asc "
      ],
      "metadata": {
        "id": "vB_U4tq7Q_Qf"
      },
      "execution_count": null,
      "outputs": []
    },
    {
      "cell_type": "code",
      "source": [
        "# 동명 동물 수 찾기\n",
        "# https://programmers.co.kr/learn/courses/30/lessons/59041\n",
        "\n",
        "SELECT distinct NAME,COUNT(name) from ANIMAL_INS where NAME is not null group by NAME HAVING COUNT(name) >= 2 order by name"
      ],
      "metadata": {
        "id": "BygFi8XoQ_ZB"
      },
      "execution_count": null,
      "outputs": []
    }
  ]
}