{
 "cells": [
  {
   "cell_type": "code",
   "execution_count": 236,
   "id": "f161b3a9",
   "metadata": {},
   "outputs": [
    {
     "name": "stdout",
     "output_type": "stream",
     "text": [
      "정수를 입력해 주세요 : \n",
      "asfasdf\n",
      "정수로 입력해 주세요\n"
     ]
    }
   ],
   "source": [
    "# 정수 제곱근 판별\n",
    "\n",
    "def int_exp():\n",
    "    try:\n",
    "        num=int(input('정수를 입력해 주세요 : \\n'))\n",
    "    except ValueError:\n",
    "        return '정수로 입력해 주세요'\n",
    "    else:\n",
    "        div=[] #몫을 넣기 위한 리스트\n",
    "        if num >=1 and num <= 50000000000000: #조건\n",
    "            for n in range(1,num+1): #반복범위지정\n",
    "                if num%n==0: # 나머지가 0인값 찾기\n",
    "                    div.append(n) #리스트에 넣기\n",
    "            for squ in div: \n",
    "                if (squ**2) == num: #정수의 제곱근 찾기\n",
    "                    return (squ+1)**2 #제곱근일때 +1후 제곱하여 리턴\n",
    "                else:\n",
    "                    if squ == div[-1] and squ**2 != num: #마지막 몫이고 제곱근이 아닐때\n",
    "                        return -1 # -1 리턴\n",
    "                    else:\n",
    "                        pass #넘어가기\n",
    "        else:\n",
    "            return '조건에 맞지않습니다.'\n",
    "\n",
    "int_exp()\n",
    "\n",
    "\n",
    "# ex)\n",
    "# input   121 , 3\n",
    "# output  144 , -1\n",
    "# 문제출처 https://programmers.co.kr/learn/courses/30/lessons/12934"
   ]
  },
  {
   "cell_type": "code",
   "execution_count": 270,
   "id": "564e7733",
   "metadata": {},
   "outputs": [
    {
     "name": "stdout",
     "output_type": "stream",
     "text": [
      "영문자를 입력해주세요 : \n",
      "try hello world\n"
     ]
    },
    {
     "data": {
      "text/plain": [
       "'TrY HeLlO WoRlD'"
      ]
     },
     "execution_count": 270,
     "metadata": {},
     "output_type": "execute_result"
    }
   ],
   "source": [
    "#이상한 문자 만들기\n",
    "\n",
    "def make_str():\n",
    "    change_list=[] #변경된 리스트값\n",
    "    s=input('영문자를 입력해주세요 : \\n')\n",
    "    s_rep=s.replace(' ','') #띄어쓰기 없애기\n",
    "    s_spl=s.split(' ') #띄어쓰기 기준으로 분리\n",
    "    if s_rep.isalpha()==True: #문자열일경우\n",
    "        for n in range(0,len(s_spl)): #첫번째 리스트\n",
    "            f_index=list(s_spl[n]) #첫번째 인덱스를 리스트화하기\n",
    "            for i in range(0,len(s_spl[n]),2):\n",
    "                f_index[i]=f_index[i].upper() #지정해준 범위 값 대문자로 변경\n",
    "            f_index_j=''.join(f_index) #변경해준값 리스트로 합치기\n",
    "            change_list.append(f_index_j) #합친값을 리스트에 추가하기\n",
    "            change_list_j=' '.join(change_list) #1차원 리스트로 합치기\n",
    "            \n",
    "        return change_list_j\n",
    "\n",
    "    else:\n",
    "        return '단어로 입력해 주세요'\n",
    "\n",
    "make_str()\n",
    "\n",
    "# ex)\n",
    "# input   try hello world\n",
    "# output  TrY HeLlO WoRlD\n",
    "# 문제출처 https://programmers.co.kr/learn/courses/30/lessons/12930"
   ]
  },
  {
   "cell_type": "code",
   "execution_count": null,
   "id": "1fbd7f95",
   "metadata": {},
   "outputs": [],
   "source": []
  }
 ],
 "metadata": {
  "kernelspec": {
   "display_name": "Python 3",
   "language": "python",
   "name": "python3"
  },
  "language_info": {
   "codemirror_mode": {
    "name": "ipython",
    "version": 3
   },
   "file_extension": ".py",
   "mimetype": "text/x-python",
   "name": "python",
   "nbconvert_exporter": "python",
   "pygments_lexer": "ipython3",
   "version": "3.8.8"
  }
 },
 "nbformat": 4,
 "nbformat_minor": 5
}
