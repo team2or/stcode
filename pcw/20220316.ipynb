{
  "nbformat": 4,
  "nbformat_minor": 0,
  "metadata": {
    "colab": {
      "name": "20220316.ipynb",
      "provenance": [],
      "collapsed_sections": []
    },
    "kernelspec": {
      "name": "python3",
      "display_name": "Python 3"
    },
    "language_info": {
      "name": "python"
    }
  },
  "cells": [
    {
      "cell_type": "code",
      "source": [
        "# 백설 공주와 일곱 난쟁이\n",
        "# https://www.acmicpc.net/problem/3040\n",
        "\n",
        "temp=[]\n",
        "s_num=0\n",
        "for _ in range(9):\n",
        "    num = int(input())\n",
        "    temp.append(num)\n",
        "    s_num+=num\n",
        "\n",
        "for i in range(len(temp)-1):\n",
        "    for j in range(i+1,len(temp)):\n",
        "        if s_num - temp[i] - temp[j] == 100:\n",
        "            a=temp[i]\n",
        "            b=temp[j]\n",
        "            break\n",
        "#리스트에서 제외하여준다\n",
        "temp.remove(a)\n",
        "temp.remove(b)\n",
        "\n",
        "for i in temp:\n",
        "    print(i)"
      ],
      "metadata": {
        "colab": {
          "base_uri": "https://localhost:8080/"
        },
        "id": "xTj-8Zv309SS",
        "outputId": "30a7b2fd-eb4f-4f46-cf84-2ca0d78ef550"
      },
      "execution_count": null,
      "outputs": [
        {
          "output_type": "stream",
          "name": "stdout",
          "text": [
            "8\n",
            "6\n",
            "5\n",
            "1\n",
            "30\n",
            "22\n",
            "28\n"
          ]
        }
      ]
    },
    {
      "cell_type": "code",
      "source": [
        "#다른 답안\n",
        "# https://jeonnew.tistory.com/99\n",
        "import itertools\n",
        "\n",
        "hat_num = []\n",
        "for i in range(9):\n",
        "    hat_num.append(int(input()))\n",
        "\n",
        "hats = list(itertools.combinations(hat_num,7))\n",
        "for i in hats:\n",
        "    if sum(i) == 100:\n",
        "        for j in i:\n",
        "            print(j)\n",
        "        break"
      ],
      "metadata": {
        "colab": {
          "base_uri": "https://localhost:8080/"
        },
        "id": "975Jk5CSwZPh",
        "outputId": "bbcf9e26-90a8-4587-a51c-e3abbd30c308"
      },
      "execution_count": null,
      "outputs": [
        {
          "output_type": "stream",
          "name": "stdout",
          "text": [
            "8\n",
            "6\n",
            "5\n",
            "1\n",
            "37\n",
            "30\n",
            "22\n",
            "36\n",
            "28\n",
            "8\n",
            "6\n",
            "5\n",
            "1\n",
            "30\n",
            "22\n",
            "28\n"
          ]
        }
      ]
    },
    {
      "cell_type": "code",
      "source": [
        "# African Cities\n",
        "# https://www.hackerrank.com/challenges/african-cities/problem?isFullScreen=true\n",
        "\n",
        "select city.name from city left join country on city.countrycode = country.code where country.continent = 'africa';"
      ],
      "metadata": {
        "id": "LKT3B04x7YYr"
      },
      "execution_count": null,
      "outputs": []
    },
    {
      "cell_type": "code",
      "source": [
        "# Draw The Triangle 2\n",
        "# https://www.hackerrank.com/challenges/draw-the-triangle-2/problem?isFullScreen=true\n",
        "\n",
        "set @num = 0;\n",
        "select repeat('* ',@num := @num+1) from information_schema.tables where @num < 20;"
      ],
      "metadata": {
        "id": "YucvT3NL7Yb3"
      },
      "execution_count": null,
      "outputs": []
    }
  ]
}