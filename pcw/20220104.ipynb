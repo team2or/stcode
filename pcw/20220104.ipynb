{
 "cells": [
  {
   "cell_type": "code",
   "execution_count": 17,
   "id": "943a0fd0",
   "metadata": {},
   "outputs": [
    {
     "name": "stdout",
     "output_type": "stream",
     "text": [
      "입력 : 123 100\n",
      "24\n"
     ]
    }
   ],
   "source": [
    "#서랍의 비밀번호\n",
    "\n",
    "pswd=0\n",
    "input_kp=input('입력 : ')\n",
    "input_list=input_kp.split(' ')\n",
    "p=int(input_list[0])\n",
    "k=int(input_list[1])\n",
    "    \n",
    "if p >= 0 and p <= 999:\n",
    "    for i in range(k,p+1):\n",
    "        pswd+=1\n",
    "    print(pswd)\n",
    "else:\n",
    "    print('범위를 초과')\n",
    "    \n",
    "\n",
    "\n",
    "    \n",
    "#문제 출처 https://swexpertacademy.com/main/code/problem/problemDetail.do?problemLevel=1&contestProbId=AV5QJ_8KAx8DFAUq&categoryId=AV5QJ_8KAx8DFAUq&categoryType=CODE&problemTitle=&orderBy=FIRST_REG_DATETIME&selectCodeLang=PYTHON&select-1=1&pageSize=10&pageIndex=2"
   ]
  },
  {
   "cell_type": "code",
   "execution_count": 41,
   "id": "ecb195b8",
   "metadata": {},
   "outputs": [
    {
     "name": "stdout",
     "output_type": "stream",
     "text": [
      "9\n",
      "55 42 85 15 97 26 45 27 52 \n",
      "52\n"
     ]
    }
   ],
   "source": [
    "#중간값 찾기\n",
    "import random\n",
    "\n",
    "N_score_l=[]\n",
    "N=int(input(''))\n",
    "\n",
    "if N in range(9,200,2):\n",
    "    for num in range(0,N):\n",
    "        N_score=random.randrange(0,100)\n",
    "        print(N_score,end=' ')\n",
    "        N_score_l.append(N_score)\n",
    "    N_score_l.sort()\n",
    "    print('')\n",
    "    print(N_score_l[int((N+1)/2)])\n",
    "    \n",
    "else:\n",
    "    print('조건을 만족하지 않았습니다.')\n",
    "      \n",
    "\n",
    "#문제 출처 https://swexpertacademy.com/main/code/problem/problemDetail.do?problemLevel=1&contestProbId=AV5QPsXKA2UDFAUq&categoryId=AV5QPsXKA2UDFAUq&categoryType=CODE&problemTitle=&orderBy=FIRST_REG_DATETIME&selectCodeLang=PYTHON&select-1=1&pageSize=10&pageIndex=1&&&&&&&&&&"
   ]
  },
  {
   "cell_type": "code",
   "execution_count": null,
   "id": "e4317124",
   "metadata": {},
   "outputs": [],
   "source": []
  }
 ],
 "metadata": {
  "kernelspec": {
   "display_name": "Python 3 (ipykernel)",
   "language": "python",
   "name": "python3"
  },
  "language_info": {
   "codemirror_mode": {
    "name": "ipython",
    "version": 3
   },
   "file_extension": ".py",
   "mimetype": "text/x-python",
   "name": "python",
   "nbconvert_exporter": "python",
   "pygments_lexer": "ipython3",
   "version": "3.9.7"
  }
 },
 "nbformat": 4,
 "nbformat_minor": 5
}
