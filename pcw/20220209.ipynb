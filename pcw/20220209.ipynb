{
  "nbformat": 4,
  "nbformat_minor": 0,
  "metadata": {
    "colab": {
      "name": "20220209.ipynb",
      "provenance": [],
      "collapsed_sections": []
    },
    "kernelspec": {
      "name": "python3",
      "display_name": "Python 3"
    },
    "language_info": {
      "name": "python"
    }
  },
  "cells": [
    {
      "cell_type": "code",
      "source": [
        "#기타줄\n",
        "\n",
        "N,M=map(int,input().split(' '))\n",
        "answer=0\n",
        "packages=[]\n",
        "individuallys=[]\n",
        "\n",
        "#제한 사항\n",
        "if 1<= N <= 100:\n",
        "    if 1<= M <= 50:\n",
        "        pass\n",
        "    else:\n",
        "        print('M의 범위 초과')\n",
        "else:\n",
        "    print('N의 범위 초과')\n",
        "\n",
        "for m in range(M):\n",
        "    pac,ind=map(int,input().split())\n",
        "\n",
        "    #제한 사항\n",
        "    if 0 <= ind <= pac <= 1000:\n",
        "        pass\n",
        "    else:\n",
        "        print('가격의 범위 초과')\n",
        "        break\n",
        "    \n",
        "    packages.append(pac)\n",
        "    individuallys.append(ind)\n",
        "\n",
        "#문제\n",
        "while 0 < N:\n",
        "    if (N - 6)  >= 0:\n",
        "        N = N-6\n",
        "        answer += min(packages)\n",
        "    else:\n",
        "        if (N - 1) >= 0:\n",
        "            N = N-1\n",
        "            answer += min(individuallys)\n",
        "        else:\n",
        "            pass\n",
        "\n",
        "print(answer)\n",
        "\n",
        "#문제 출처 https://www.acmicpc.net/problem/1049"
      ],
      "metadata": {
        "colab": {
          "base_uri": "https://localhost:8080/"
        },
        "id": "QFRpF2qwa3jI",
        "outputId": "9aab3dfe-8f75-4ce8-f63c-85b6237fd8cd"
      },
      "execution_count": null,
      "outputs": [
        {
          "output_type": "stream",
          "name": "stdout",
          "text": [
            "4 2\n",
            "12 3\n",
            "15 4\n",
            "12\n"
          ]
        }
      ]
    },
    {
      "cell_type": "code",
      "execution_count": null,
      "metadata": {
        "colab": {
          "base_uri": "https://localhost:8080/"
        },
        "id": "Ui-EISyYNPkK",
        "outputId": "a598ae9f-2de0-4857-9a4e-717bfc5d692d"
      },
      "outputs": [
        {
          "output_type": "stream",
          "name": "stdout",
          "text": [
            "10 3\n",
            "20 8\n",
            "40 7\n",
            "60 4\n",
            "52\n"
          ]
        }
      ],
      "source": [
        "#기타줄\n",
        "# 같은 브랜드를 사용한다는 가정하에\n",
        "\n",
        "N,M=map(int,input().split(' '))\n",
        "price=0\n",
        "answer=1001\n",
        "\n",
        "#제한 사항\n",
        "if 1<= N <= 100:\n",
        "    if 1<= M <= 50:\n",
        "        pass\n",
        "    else:\n",
        "        print('M의 범위 초과')\n",
        "else:\n",
        "    print('N의 범위 초과')\n",
        "\n",
        "for m in range(M):\n",
        "    pack,indi=map(int,input().split()) #패키지,낱개 변수\n",
        "\n",
        "    #제한 사항\n",
        "    if 0 <= pack <= indi <= 1000:\n",
        "        pass\n",
        "    else:\n",
        "        print('가격의 범위 초과')\n",
        "        break\n",
        "\n",
        "    #문제\n",
        "    while 0 < N:\n",
        "        if (N - 6)  >= 0:\n",
        "            N = N-6\n",
        "            price += pack\n",
        "        else:\n",
        "            if (N - 1) >= 0:\n",
        "                N = N-1\n",
        "                price += indi\n",
        "            else:\n",
        "                pass\n",
        "    if answer >= price:\n",
        "        answer = price\n",
        "\n",
        "print(answer)\n",
        "            "
      ]
    },
    {
      "cell_type": "code",
      "source": [
        "a='1 2'\n",
        "a.split(' ')\n",
        "print(a)"
      ],
      "metadata": {
        "colab": {
          "base_uri": "https://localhost:8080/"
        },
        "id": "WBrY6rntPKvr",
        "outputId": "7bdf7a2b-2d7f-44f6-d333-b5c288dfb446"
      },
      "execution_count": null,
      "outputs": [
        {
          "output_type": "stream",
          "name": "stdout",
          "text": [
            "1 2\n"
          ]
        }
      ]
    },
    {
      "cell_type": "code",
      "source": [
        "#최댓값 구하기\n",
        "#문제 출처 https://programmers.co.kr/learn/courses/30/lessons/59415\n",
        "\n",
        "SELECT max(DATETIME) as '시간' from ANIMAL_INS"
      ],
      "metadata": {
        "id": "pBYy4hhcNjdT"
      },
      "execution_count": null,
      "outputs": []
    },
    {
      "cell_type": "code",
      "source": [
        "#최솟값 구하기\n",
        "#문제 출처 https://programmers.co.kr/learn/courses/30/lessons/59038\n",
        "\n",
        "SELECT min(DATETIME) as '시간' from ANIMAL_INS"
      ],
      "metadata": {
        "id": "oibeCIY2NjjB"
      },
      "execution_count": null,
      "outputs": []
    }
  ]
}