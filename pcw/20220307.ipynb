{
  "nbformat": 4,
  "nbformat_minor": 0,
  "metadata": {
    "colab": {
      "name": "20220307.ipynb",
      "provenance": [],
      "collapsed_sections": []
    },
    "kernelspec": {
      "name": "python3",
      "display_name": "Python 3"
    },
    "language_info": {
      "name": "python"
    }
  },
  "cells": [
    {
      "cell_type": "code",
      "execution_count": 19,
      "metadata": {
        "colab": {
          "base_uri": "https://localhost:8080/"
        },
        "id": "OV-Q2NEgbHXu",
        "outputId": "90185968-467e-4f97-b0fd-2066e8fb0594"
      },
      "outputs": [
        {
          "output_type": "execute_result",
          "data": {
            "text/plain": [
              "2"
            ]
          },
          "metadata": {},
          "execution_count": 19
        }
      ],
      "source": [
        "# https://programmers.co.kr/learn/courses/30/lessons/43165\n",
        "# 타겟 넘버\n",
        "\n",
        "#답안\n",
        "def solution(numbers, target):\n",
        "    answer = 0\n",
        "    temp=[0]\n",
        "    for i in numbers:\n",
        "        cal=[]\n",
        "        for j in temp:\n",
        "            cal.append(j-i)\n",
        "            cal.append(j+i)\n",
        "        temp = cal\n",
        "    answer=temp.count(target)\n",
        "    return answer\n",
        "# solution([1, 1, 1, 1, 1],3)\n",
        "solution([4, 1, 2, 1],4)"
      ]
    },
    {
      "cell_type": "code",
      "source": [
        "# Draw The Triangle 1\n",
        "# https://www.hackerrank.com/challenges/draw-the-triangle-1/problem?isFullScreen=true\n",
        "\n",
        "#답안\n",
        "set @star = 21; #set @반복문명 < 21\n",
        "select repeat('* ',@star:=@star-1) from information_schema.tables where @star >0;\n",
        "# repeat(데이터,반복회수)"
      ],
      "metadata": {
        "id": "d9Mcymh8kyBN"
      },
      "execution_count": null,
      "outputs": []
    },
    {
      "cell_type": "code",
      "source": [
        "# Employee Salaries\n",
        "# https://www.hackerrank.com/challenges/salary-of-employees/problem?isFullScreen=true\n",
        "\n",
        "select name from employee where salary > 2000 and months < 10 order by employee_id asc"
      ],
      "metadata": {
        "id": "Mfhl3D_SkyH6"
      },
      "execution_count": null,
      "outputs": []
    }
  ]
}