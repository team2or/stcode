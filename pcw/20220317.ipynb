{
  "nbformat": 4,
  "nbformat_minor": 0,
  "metadata": {
    "colab": {
      "name": "20220317.ipynb",
      "provenance": [],
      "collapsed_sections": []
    },
    "kernelspec": {
      "name": "python3",
      "display_name": "Python 3"
    },
    "language_info": {
      "name": "python"
    }
  },
  "cells": [
    {
      "cell_type": "code",
      "execution_count": 4,
      "metadata": {
        "colab": {
          "base_uri": "https://localhost:8080/"
        },
        "id": "uNKM6qPFzh5R",
        "outputId": "1d817963-4e47-4533-b3f8-f27812649fe6"
      },
      "outputs": [
        {
          "name": "stdout",
          "output_type": "stream",
          "text": [
            "87 104\n",
            "14\n",
            "989 1022\n",
            "0\n",
            "22 25\n",
            "3\n",
            "1234 1234\n",
            "1\n",
            "\n"
          ]
        }
      ],
      "source": [
        "# 호텔 방 번호\n",
        "# https://www.acmicpc.net/problem/5671\n",
        "\n",
        "#따로 테스트케이스가 주워지지 않아 try로 멈춰줘야 된다고 함\n",
        "while True:\n",
        "    try:\n",
        "        N,M=map(int,input().split())\n",
        "\n",
        "        answer=0\n",
        "        for i in range(N,M+1):\n",
        "            i=list(str(i))\n",
        "            while i:\n",
        "                if i.pop(0) in i:\n",
        "                    a=0\n",
        "                    break\n",
        "                else:\n",
        "                    a=1\n",
        "            if a==1:\n",
        "                answer+=1\n",
        "        print(answer)\n",
        "    except:\n",
        "        break\n"
      ]
    },
    {
      "cell_type": "code",
      "source": [
        "# Weather Observation Station 13\n",
        "# https://www.hackerrank.com/challenges/weather-observation-station-13/problem?isFullScreen=true\n",
        "\n",
        "select round(sum(LAT_N),4) from station where LAT_N between 38.7880 and 137.2345;"
      ],
      "metadata": {
        "id": "KHm0b8Kxz7oC"
      },
      "execution_count": null,
      "outputs": []
    },
    {
      "cell_type": "code",
      "source": [
        "# The Blunder\n",
        "# https://www.hackerrank.com/challenges/the-blunder/problem?isFullScreen=true\n",
        "\n",
        "select ceil(avg(salary)-avg(replace(salary,0,''))) from EMPLOYEES;"
      ],
      "metadata": {
        "id": "etrUR1p3z7sx"
      },
      "execution_count": null,
      "outputs": []
    }
  ]
}