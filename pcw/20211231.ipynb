{
 "cells": [
  {
   "cell_type": "code",
   "execution_count": 65,
   "id": "030c63ae",
   "metadata": {},
   "outputs": [
    {
     "data": {
      "text/plain": [
       "3"
      ]
     },
     "execution_count": 65,
     "metadata": {},
     "output_type": "execute_result"
    }
   ],
   "source": [
    "# 1110번 더하기 사이클\n",
    "def solution(N):\n",
    "    if N >= 0 and N <= 99:\n",
    "        N_basic = N #입력 초기값\n",
    "        cycle = 0 #사이클 횟수\n",
    "        while True:\n",
    "            if N <= 10:\n",
    "                N = str(N) #문자형 변형\n",
    "                N = N.zfill(2) #앞에 0이 나오도록\n",
    "            else:\n",
    "                N = str(N) #문자형 변형\n",
    "            cycle += 1 #사이클 횟수\n",
    "            f_N = int(N[0]) # 십의 자리\n",
    "            s_N = int(N[1]) # 일의 자리\n",
    "            sum_N = f_N + s_N #더하기\n",
    "            sum_N = str(sum_N) #문자형 변형\n",
    "            N=int(N[-1]+sum_N[-1]) # N의 일의자리 + 더해진 값의 일의 자리\n",
    "            if N == N_basic: #입력 초기값과 대조\n",
    "                return cycle #사이클 횟수 출력\n",
    "            else:\n",
    "                continue\n",
    "solution(55)\n",
    "\n",
    "#문제 출처 https://www.acmicpc.net/problem/1110"
   ]
  },
  {
   "cell_type": "code",
   "execution_count": 74,
   "id": "e3e2882c",
   "metadata": {},
   "outputs": [
    {
     "name": "stdout",
     "output_type": "stream",
     "text": [
      "5\n",
      "54321\n"
     ]
    },
    {
     "data": {
      "text/plain": [
       "15"
      ]
     },
     "execution_count": 74,
     "metadata": {},
     "output_type": "execute_result"
    }
   ],
   "source": [
    "#11720번 숫자의 합\n",
    "\n",
    "def solution(N):\n",
    "    print_N=0 #초기값\n",
    "    N=str(N) #문자형 변형\n",
    "    if len(N) >= 1 and len(N) <= 100: #조건 \n",
    "        print(len(N)) #입력된 문자 길이\n",
    "        print(N) #입력된 값\n",
    "        for n in range(0,len(N)): #반복 범위\n",
    "            print_N+=int(N[n]) # 차례로 더하기\n",
    "        return print_N #출력\n",
    "    else:\n",
    "        return '범위를 초과하였습니다.' #출력\n",
    "    \n",
    "    \n",
    "solution(54321)\n",
    "        \n",
    "#문제 출처 https://www.acmicpc.net/problem/11720"
   ]
  },
  {
   "cell_type": "code",
   "execution_count": null,
   "id": "a1838fb3",
   "metadata": {},
   "outputs": [],
   "source": []
  }
 ],
 "metadata": {
  "kernelspec": {
   "display_name": "Python 3 (ipykernel)",
   "language": "python",
   "name": "python3"
  },
  "language_info": {
   "codemirror_mode": {
    "name": "ipython",
    "version": 3
   },
   "file_extension": ".py",
   "mimetype": "text/x-python",
   "name": "python",
   "nbconvert_exporter": "python",
   "pygments_lexer": "ipython3",
   "version": "3.9.7"
  }
 },
 "nbformat": 4,
 "nbformat_minor": 5
}
