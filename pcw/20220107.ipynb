{
  "nbformat": 4,
  "nbformat_minor": 0,
  "metadata": {
    "colab": {
      "name": "20220107.ipynb",
      "provenance": [],
      "collapsed_sections": []
    },
    "kernelspec": {
      "name": "python3",
      "display_name": "Python 3"
    },
    "language_info": {
      "name": "python"
    }
  },
  "cells": [
    {
      "cell_type": "code",
      "execution_count": 1,
      "metadata": {
        "colab": {
          "base_uri": "https://localhost:8080/"
        },
        "id": "E4XEwxBn7EBb",
        "outputId": "b6cfca51-f442-4fc6-8037-3be12917bce6"
      },
      "outputs": [
        {
          "output_type": "stream",
          "name": "stdout",
          "text": [
            "2 3\n",
            "B\n"
          ]
        }
      ],
      "source": [
        "# 1대1 가위바위보\n",
        "AB=input('')\n",
        "AB_sp=AB.split(' ')\n",
        "\n",
        "A=AB_sp[0]\n",
        "B=AB_sp[1]\n",
        "\n",
        "if '1'>'2' or '2'>'3' or '3'>'1':\n",
        "    if A > B:\n",
        "        print('A')\n",
        "    else:\n",
        "        print('B')\n",
        "\n",
        "#문제 출처 https://swexpertacademy.com/main/code/problem/problemDetail.do?problemLevel=1&problemLevel=2&contestProbId=AV5PjKXKALcDFAUq&categoryId=AV5PjKXKALcDFAUq&categoryType=CODE&problemTitle=&orderBy=FIRST_REG_DATETIME&selectCodeLang=PYTHON&select-1=2&pageSize=10&pageIndex=2&problemLevel=1%2C2&&&&&&&&&"
      ]
    },
    {
      "cell_type": "code",
      "source": [
        "#시각 덧셈\n",
        "\n",
        "H=[]\n",
        "M=[]\n",
        "\n",
        "T=int(input('테스트케이스 : '))\n",
        "\n",
        "for t in range(1,T+1):\n",
        "    HM=input('')\n",
        "    H_M=HM.split(' ')\n",
        "    h=0\n",
        "    m=0  \n",
        "    # 시간 분 나누기\n",
        "    for hour in range(0,len(H_M),2):\n",
        "        \n",
        "        h_int= int(H_M[hour])\n",
        "        h+=h_int\n",
        "        # print(h)\n",
        "        if h > 12 :\n",
        "            h -=  12\n",
        "        elif h < 1 :\n",
        "            h += 12\n",
        "\n",
        "    for min in range(1,len(H_M),2):     \n",
        "           \n",
        "        m_int= int(H_M[min])\n",
        "        m+=m_int\n",
        "        # print(m)\n",
        "        if m > 59 :\n",
        "            m -= 60\n",
        "            h += 1\n",
        "        elif m < 0 :\n",
        "            m += 60\n",
        "            h -= 1\n",
        "\n",
        "    H.append(h)\n",
        "    M.append(m)\n",
        "\n",
        "for t in range(1,T+1):\n",
        "    print('#{} {} {}'.format(t,H[t-1],M[t-1]))\n",
        "\n",
        "\n",
        "\n",
        "\n",
        "#문제 출처 https://swexpertacademy.com/main/code/problem/problemDetail.do?problemLevel=2&contestProbId=AV5PttaaAZIDFAUq&categoryId=AV5PttaaAZIDFAUq&categoryType=CODE&problemTitle=&orderBy=FIRST_REG_DATETIME&selectCodeLang=PYTHON&select-1=2&pageSize=10&pageIndex=2"
      ],
      "metadata": {
        "colab": {
          "base_uri": "https://localhost:8080/"
        },
        "id": "-CPNxpMz8E9X",
        "outputId": "3b97e8d4-596a-4f3f-f761-f1befd5bb2a4"
      },
      "execution_count": null,
      "outputs": [
        {
          "output_type": "stream",
          "name": "stdout",
          "text": [
            "테스트케이스 : 3\n",
            "3 17 1 39\n",
            "8 22 5 10\n",
            "6 53 2 12\n",
            "#1 4 56\n",
            "#2 1 32\n",
            "#3 9 5\n"
          ]
        }
      ]
    },
    {
      "cell_type": "code",
      "source": [
        ""
      ],
      "metadata": {
        "id": "v0yRze_jINZH"
      },
      "execution_count": null,
      "outputs": []
    }
  ]
}