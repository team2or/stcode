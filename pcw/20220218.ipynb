{
  "nbformat": 4,
  "nbformat_minor": 0,
  "metadata": {
    "colab": {
      "name": "20220218.ipynb",
      "provenance": [],
      "collapsed_sections": []
    },
    "kernelspec": {
      "name": "python3",
      "display_name": "Python 3"
    },
    "language_info": {
      "name": "python"
    }
  },
  "cells": [
    {
      "cell_type": "code",
      "execution_count": 29,
      "metadata": {
        "colab": {
          "base_uri": "https://localhost:8080/"
        },
        "id": "m4EGbEA9Qv3C",
        "outputId": "0736c4aa-c849-4321-960a-15add38e3680"
      },
      "outputs": [
        {
          "output_type": "stream",
          "name": "stdout",
          "text": [
            "3 2\n",
            "1 65\n",
            "5 23\n",
            "2 99\n",
            "10\n",
            "2\n",
            "[[2, 99], [1, 65], [5, 23]]\n",
            "164\n"
          ]
        }
      ],
      "source": [
        "#보석 도둑\n",
        "\n",
        "MV_list=[]\n",
        "C_list=[]\n",
        "\n",
        "N,K = map(int,input().split())\n",
        "\n",
        "#제한 사항\n",
        "if 1 <= N <= 300000 and 1 <= K <= 300000:\n",
        "    for n in range(N):\n",
        "        M,V=map(int,input().split())\n",
        "        if 0 <= M <= 1000000 and 0 <= V <= 1000000:\n",
        "            MV_list.append([M,V])\n",
        "        else:\n",
        "            print('M 또는 V의 범위 초과')\n",
        "    for k in range(K):\n",
        "        C=int(input())\n",
        "        if 1 <= C <= 100000000:\n",
        "            C_list.append(C)\n",
        "        else:\n",
        "            print('C의 범위 초과')\n",
        "else:\n",
        "    print('N 또는 K의 범위 초과')\n",
        "\n",
        "\n",
        "MV_list=sorted(MV_list,key=lambda x : x[1],reverse=True) # 가격기준으로 정렬\n",
        "print(MV_list)\n",
        "C_list.sort() #정렬\n",
        "\n",
        "\n",
        "answer=0\n",
        "for mv in MV_list:\n",
        "    if len(C_list) == 0:\n",
        "        break\n",
        "    else:\n",
        "        for c in C_list:\n",
        "            if c >= mv[0]:\n",
        "                C_list.remove(c)\n",
        "                answer+= mv[1]\n",
        "                break\n",
        "            \n",
        "print(answer)\n",
        "\n",
        "\n",
        "#문제 출처 https://www.acmicpc.net/problem/1202\n",
        "\n",
        "# 입력값\n",
        "\n",
        "# MV_list=[[5,10],[100,100]]\n",
        "# C_list=[11]\n",
        "\n",
        "# MV_list=[[1, 65], [5, 23], [2, 99]]\n",
        "# C_list=[10, 2]"
      ]
    },
    {
      "cell_type": "code",
      "source": [
        "#답안\n",
        "import sys #제한사항을 사용하기에 보류\n",
        "import heapq\n",
        "\n",
        "MV_list=[]\n",
        "C_list=[]\n",
        "\n",
        "N,K = map(int,input().split())\n",
        "\n",
        "#제한사항\n",
        "if 1 <= N <= 300000 and 1 <= K <= 300000:\n",
        "    for n in range(N):\n",
        "        M,V=map(int,input().split())\n",
        "        if 0 <= M <= 1000000 and 0 <= V <= 1000000:\n",
        "            heapq.heappush(MV_list,[M,V]) #heapq 사용\n",
        "        else:\n",
        "            print('M 또는 V의 범위 초과')\n",
        "    for k in range(K):\n",
        "        C=int(input())\n",
        "        if 1 <= C <= 100000000:\n",
        "            C_list.append(C)\n",
        "        else:\n",
        "            print('C의 범위 초과')\n",
        "else:\n",
        "    print('N 또는 K의 범위 초과')\n",
        "\n",
        "print(MV_list)\n",
        "\n",
        "C_list.sort()\n",
        "\n",
        "answer=0\n",
        "heap=[]\n",
        "for c in C_list:\n",
        "    while MV_list and c >= MV_list[0][0]:\n",
        "        m,v=heapq.heappop(MV_list)\n",
        "        heapq.heappush(heap,-v)\n",
        "\n",
        "    if heap:\n",
        "        answer -= heapq.heappop(heap)\n",
        "\n",
        "print(answer)"
      ],
      "metadata": {
        "colab": {
          "base_uri": "https://localhost:8080/"
        },
        "id": "0WoxEWPojgDY",
        "outputId": "3be84b7a-a251-4759-afc5-74adeceed132"
      },
      "execution_count": 23,
      "outputs": [
        {
          "output_type": "stream",
          "name": "stdout",
          "text": [
            "3 2\n",
            "1 65\n",
            "5 23\n",
            "2 99\n",
            "10\n",
            "2\n",
            "[[1, 65], [5, 23], [2, 99]]\n",
            "164\n"
          ]
        }
      ]
    },
    {
      "cell_type": "code",
      "source": [
        "# 오랜 기간 보호한 동물(2)\n",
        "# https://programmers.co.kr/learn/courses/30/lessons/59411\n",
        "\n",
        "SELECT i.ANIMAL_ID,i.NAME from ANIMAL_INS i, ANIMAL_OUTS o where  i.ANIMAL_ID = o.ANIMAL_ID order by case when o.DATETIME > i.DATETIME then o.DATETIME - i.DATETIME else 0 end desc limit 2"
      ],
      "metadata": {
        "id": "fWKqIQRPQyha"
      },
      "execution_count": null,
      "outputs": []
    },
    {
      "cell_type": "code",
      "source": [
        "# DATETIME에서 DATE로 형 변환\n",
        "# https://programmers.co.kr/learn/courses/30/lessons/59414\n",
        "\n",
        "SELECT ANIMAL_ID,NAME,date_format(DATETIME,'%Y-%m-%d') as 날짜 from ANIMAL_INS order by ANIMAL_ID asc"
      ],
      "metadata": {
        "id": "4-HYyGhaQ669"
      },
      "execution_count": null,
      "outputs": []
    }
  ]
}