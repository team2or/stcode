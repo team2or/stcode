{
  "nbformat": 4,
  "nbformat_minor": 0,
  "metadata": {
    "colab": {
      "name": "20220114.ipynb",
      "provenance": [],
      "collapsed_sections": []
    },
    "kernelspec": {
      "name": "python3",
      "display_name": "Python 3"
    },
    "language_info": {
      "name": "python"
    }
  },
  "cells": [
    {
      "cell_type": "code",
      "execution_count": 70,
      "metadata": {
        "colab": {
          "base_uri": "https://localhost:8080/"
        },
        "id": "YRW2mqvmZ3wc",
        "outputId": "fc45073e-a033-4033-f9af-1083c17d8bc4"
      },
      "outputs": [
        {
          "output_type": "execute_result",
          "data": {
            "text/plain": [
              "4"
            ]
          },
          "metadata": {},
          "execution_count": 70
        }
      ],
      "source": [
        "#크레인 인형뽑기 게임\n",
        "def solution(board,moves):\n",
        "    answer = 0\n",
        "    duplicate=[]\n",
        "    remv_duplicate=[]\n",
        "\n",
        "    #board 제한사항\n",
        "    if 5 <= len(board) <= 30:\n",
        "        for i in range(len(board)):\n",
        "            if len(board[i]) == len(board):\n",
        "                for j in board[i]:\n",
        "                    if 0 <= j <= 100:\n",
        "                        pass\n",
        "                    else:\n",
        "                        return 'board 정수의 범위를 초과하였습니다.'\n",
        "            else:\n",
        "                return 'board {}번 째가 범위를 초과하였습니다.'.format(i+1)\n",
        "    else:\n",
        "        return 'board 범위가 초과하였습니다.'\n",
        "\n",
        "    #moves 제한사항\n",
        "    if 1 <= len(moves) <= 1000:\n",
        "        for k in moves:\n",
        "            if 1<= k <= len(board[0]):\n",
        "                pass\n",
        "            else:\n",
        "                return 'moves 원소값의 범위를 초과하였습니다.'\n",
        "    else:\n",
        "        return 'moves 배열의 크기 범위를 초과하였습니다.'\n",
        "    \n",
        "    #인형뽑기\n",
        "    for i in range(len(moves)):\n",
        "        for j in range(len(board)):\n",
        "            if board[j][moves[i]-1] == 0:\n",
        "                pass\n",
        "            else:\n",
        "                duplicate.append(board[j].pop(moves[i]-1))\n",
        "                board[j].insert(moves[i]-1,0)\n",
        "                break\n",
        "\n",
        "    #연속된 중복값제거\n",
        "    while True:\n",
        "        for i in range(1,len(duplicate)):\n",
        "            if duplicate[i-1]==duplicate[i]:\n",
        "                remv_duplicate.extend(duplicate[i-1:i+1])\n",
        "                del duplicate[i-1:i+1]\n",
        "                # print(duplicate)\n",
        "                break\n",
        "            else:\n",
        "                pass\n",
        "        if i == len(duplicate)-1:\n",
        "            break\n",
        "    # print(remv_duplicate)\n",
        "    answer=len(remv_duplicate)\n",
        "    return answer\n",
        "\n",
        "# 배열\n",
        "# [0,0,0,0,0]   []\n",
        "# [0,0,1,0,3]   []\n",
        "# [0,2,5,0,1]   []\n",
        "# [4,2,4,4,2]   []\n",
        "# [3,5,1,3,1]   []\n",
        "\n",
        "solution([[0,0,0,0,0],[0,0,1,0,3],[0,2,5,0,1],[4,2,4,4,2],[3,5,1,3,1]],[1,5,3,5,1,2,1,4])\n",
        "\n",
        "#문제 출처 https://programmers.co.kr/learn/courses/30/lessons/64061"
      ]
    },
    {
      "cell_type": "code",
      "source": [
        "# k번째수\n",
        "def solution(array,commands):\n",
        "    answer = []\n",
        "    if 1 <= len(array) <= 100:\n",
        "        for arr in array:\n",
        "            if 1<= arr<=100 :\n",
        "                pass\n",
        "        else:\n",
        "             '범위를 초과하였습니다.'\n",
        "    else:\n",
        "        return '길이를 초과하였습니다.'\n",
        "\n",
        "    if 1<= len(commands) <= 50:\n",
        "        for com in commands:\n",
        "            if len(com) == 3:\n",
        "                pass\n",
        "            else:\n",
        "                '원소의 길이가 초과되었습니다.'\n",
        "    else:\n",
        "        return '길이가 초과되었습니다.'\n",
        "        \n",
        "    for i,j,k in commands:\n",
        "        array_list = array[i-1:j]\n",
        "        array_list.sort()\n",
        "        answer.append(array_list[k-1])\n",
        "\n",
        "    return answer\n",
        "\n",
        "solution([1, 5, 2, 6, 3, 7, 4],[[2, 5, 3], [4, 4, 1], [1, 7, 3]])\n",
        "\n",
        "#문제 출처 https://programmers.co.kr/learn/courses/30/lessons/42748"
      ],
      "metadata": {
        "colab": {
          "base_uri": "https://localhost:8080/"
        },
        "id": "S4k-qb68aOYF",
        "outputId": "4b43d503-978e-486f-9dc3-ad8e0d408304"
      },
      "execution_count": 71,
      "outputs": [
        {
          "output_type": "execute_result",
          "data": {
            "text/plain": [
              "[5, 6, 3]"
            ]
          },
          "metadata": {},
          "execution_count": 71
        }
      ]
    },
    {
      "cell_type": "code",
      "source": [
        ""
      ],
      "metadata": {
        "id": "ZSDC2hrAeVq9"
      },
      "execution_count": null,
      "outputs": []
    }
  ]
}