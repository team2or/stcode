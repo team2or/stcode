{
  "nbformat": 4,
  "nbformat_minor": 0,
  "metadata": {
    "colab": {
      "name": "20220208.ipynb",
      "provenance": [],
      "collapsed_sections": []
    },
    "kernelspec": {
      "name": "python3",
      "display_name": "Python 3"
    },
    "language_info": {
      "name": "python"
    }
  },
  "cells": [
    {
      "cell_type": "code",
      "execution_count": 44,
      "metadata": {
        "colab": {
          "base_uri": "https://localhost:8080/",
          "height": 35
        },
        "id": "GOwXDVAxFr1p",
        "outputId": "db44d1ed-c689-4ef6-8860-c76381cdc942"
      },
      "outputs": [
        {
          "output_type": "execute_result",
          "data": {
            "application/vnd.google.colaboratory.intrinsic+json": {
              "type": "string"
            },
            "text/plain": [
              "'114'"
            ]
          },
          "metadata": {},
          "execution_count": 44
        }
      ],
      "source": [
        "#124 나라의 숫자\n",
        "def solution(n):\n",
        "    answer=''\n",
        "    num=[1]\n",
        "    cnt=1\n",
        "\n",
        "    #제한사항\n",
        "    if 1 <= n <= 500000000:\n",
        "        pass\n",
        "    else:\n",
        "        return 'n의 값 초과'\n",
        "\n",
        "    #문제\n",
        "    while True:\n",
        "        for i in range(len(num)):\n",
        "            if num[i]%4 == 0:\n",
        "                if num[-1]%4 == 0:\n",
        "                    num.append(1)\n",
        "                num[i]=1\n",
        "            else:\n",
        "                num[i]+=1\n",
        "                if num[i] ==3:\n",
        "                    num[i]=4\n",
        "                break\n",
        "        cnt+=1\n",
        "        if cnt == n:\n",
        "            break\n",
        "    # print(num)\n",
        "\n",
        "    num=num[::-1]\n",
        "    for i in range(len(num)):\n",
        "        num[i]=str(num[i])\n",
        "    # print(num)\n",
        "\n",
        "    answer=''.join(num)\n",
        "    return answer\n",
        "\n",
        "# solution(1)\n",
        "# solution(2)\n",
        "# solution(3)\n",
        "# solution(4)\n",
        "solution(15)\n",
        "\n",
        "#문제 출처 https://programmers.co.kr/learn/courses/30/lessons/12899"
      ]
    },
    {
      "cell_type": "code",
      "source": [
        "#아픈 동물 찾기\n",
        "#문제 출처 https://programmers.co.kr/learn/courses/30/lessons/59036\n",
        "\n",
        "SELECT ANIMAL_ID,NAME from ANIMAL_INS where INTAKE_CONDITION = 'Sick' order by ANIMAL_ID;"
      ],
      "metadata": {
        "id": "gGRAanGpFubH"
      },
      "execution_count": null,
      "outputs": []
    },
    {
      "cell_type": "code",
      "source": [
        "#어린 동물 찾기\n",
        "#문제 출처 https://programmers.co.kr/learn/courses/30/lessons/59037\n",
        "\n",
        "SELECT ANIMAL_ID,NAME from ANIMAL_INS where SEX_UPON_INTAKE != 'Aged' order by ANIMAL_ID ;"
      ],
      "metadata": {
        "id": "1GxpiebxFzHl"
      },
      "execution_count": null,
      "outputs": []
    },
    {
      "cell_type": "code",
      "source": [
        ""
      ],
      "metadata": {
        "id": "7U9MpqD76VLh"
      },
      "execution_count": null,
      "outputs": []
    }
  ]
}