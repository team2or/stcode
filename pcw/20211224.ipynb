{
 "cells": [
  {
   "cell_type": "code",
   "execution_count": 146,
   "id": "a24823c5",
   "metadata": {},
   "outputs": [
    {
     "data": {
      "text/plain": [
       "['abcd', 'abce', 'cdx']"
      ]
     },
     "execution_count": 146,
     "metadata": {},
     "output_type": "execute_result"
    }
   ],
   "source": [
    "#문자열 내 마음대로 정렬하기\n",
    "\n",
    "def solution(strings,n):\n",
    "    answer=[] #result가 나올 리스트\n",
    "    min_str=[] #각 단어의 길이를 넣을 리스트\n",
    "    if len(strings) >= 1 and len(strings) <=50: #조건 1\n",
    "        \n",
    "        for i in range(0,len(strings)):\n",
    "            min_str.append(len(strings[i])) #조건4를 주기위해 len으로 단어 길이 넣어놓기\n",
    "            strings[i]=strings[i].lower() #조건 2\n",
    "                \n",
    "        if len(strings[i]) >= 1 and len(strings[i]) <= 100: #조건 3\n",
    "            if n < min(min_str): #조건 4\n",
    "                strings_sort_k=sorted(strings,key= lambda strings:strings[n]) #sorted 함수를 사용하여 특정 정렬\n",
    "                strings_sort=sorted(strings_sort_k) #조건 5\n",
    "                answer=strings_sort\n",
    "            else:\n",
    "                return 'n의 길이가 초과하였습니다.' #조건4 if\n",
    "        else:\n",
    "            return '원소의 길이를 초과하였습니다.' #조건 3 if\n",
    "    else:\n",
    "        return '배열 길이를 초과하였습니다.' # 조건 if\n",
    "    return answer\n",
    "\n",
    "solution([\"abce\", \"abcd\", \"cdx\"],2)\n",
    "\n",
    "# 문제출처 https://programmers.co.kr/learn/courses/30/lessons/12915?language=python3"
   ]
  }
 ],
 "metadata": {
  "kernelspec": {
   "display_name": "Python 3 (ipykernel)",
   "language": "python",
   "name": "python3"
  },
  "language_info": {
   "codemirror_mode": {
    "name": "ipython",
    "version": 3
   },
   "file_extension": ".py",
   "mimetype": "text/x-python",
   "name": "python",
   "nbconvert_exporter": "python",
   "pygments_lexer": "ipython3",
   "version": "3.9.7"
  }
 },
 "nbformat": 4,
 "nbformat_minor": 5
}
