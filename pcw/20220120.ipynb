{
  "nbformat": 4,
  "nbformat_minor": 0,
  "metadata": {
    "colab": {
      "name": "20220120.ipynb",
      "provenance": [],
      "collapsed_sections": []
    },
    "kernelspec": {
      "name": "python3",
      "display_name": "Python 3"
    },
    "language_info": {
      "name": "python"
    }
  },
  "cells": [
    {
      "cell_type": "code",
      "execution_count": 31,
      "metadata": {
        "colab": {
          "base_uri": "https://localhost:8080/"
        },
        "id": "6gsjnwqzgn_Y",
        "outputId": "2f3942c1-f1b5-4840-a4be-255fb5f54e34"
      },
      "outputs": [
        {
          "output_type": "execute_result",
          "data": {
            "text/plain": [
              "[4, 1, 2, 3]"
            ]
          },
          "metadata": {},
          "execution_count": 31
        }
      ],
      "source": [
        "#실패율\n",
        "def solution(N,stages):\n",
        "    answer=[]\n",
        "    stage={}\n",
        "    fail={}\n",
        "    sum=0 #실패율 사전형에 들어갈 변수\n",
        "    #제한 사항\n",
        "    if 1 <= N <= 500:\n",
        "        if 1 <= len(stages) <= 200000:\n",
        "            for i in stages:\n",
        "                if 1 <= i <= N+1:\n",
        "                    pass\n",
        "                else:\n",
        "                    return '자연수'\n",
        "        else:\n",
        "            return '스테이지 길이'\n",
        "    else:\n",
        "        return '스테이지 개수'\n",
        "    \n",
        "    #사전형 만들기\n",
        "    for i in stages:\n",
        "        # i=str(i)\n",
        "        cnt=stages.count(i)\n",
        "        stage[i]=cnt\n",
        "\n",
        "    #빈 번호에 0값 넣어주기\n",
        "    for j in range(1,6):\n",
        "        if j not in stage.keys():\n",
        "            stage[j]=0\n",
        "    \n",
        "    #실패율 사전형으로 만들기\n",
        "    for i,j in sorted(stage.items()):\n",
        "        if i != N+1:\n",
        "            fail[i]=j/(len(stages)-sum)\n",
        "        sum+=j\n",
        "        # print(fail)\n",
        "        # print(sum)\n",
        "\n",
        "    fail_sort_v=sorted(fail.items(), key = lambda item: (item[1],-item[0]),reverse=True)\n",
        "    for i,j in fail_sort_v:\n",
        "        answer.append(i)\n",
        "\n",
        "    return answer\n",
        "\n",
        "solution(4,[4,4,4,4,4])\n",
        "\n",
        "#문제 출처 https://programmers.co.kr/learn/courses/30/lessons/42889"
      ]
    },
    {
      "cell_type": "code",
      "source": [
        "#신고 결과 받기\n",
        "import re\n",
        "def solution(id_list,report,k):\n",
        "    answer=[]\n",
        "    id_list_dic={}\n",
        "    report_id_list=[]\n",
        "    report_id_dic={}\n",
        "    stop=[]\n",
        "    #제한사항\n",
        "    if 2 <= len(id_list) <= 1000: #문자열 길이\n",
        "        for id in id_list:\n",
        "            if 1 <= len(id) <= 10: #원소길이\n",
        "                if re.search('[a-z]+',id):\n",
        "                    if len(id_list) == len(set(id_list)): #중복값\n",
        "                        pass\n",
        "                    else:\n",
        "                        return 'id중복값'\n",
        "                else:\n",
        "                    return 'id문자열'\n",
        "            else:\n",
        "                return 'id원소길이'\n",
        "    else:\n",
        "        return 'id길이'\n",
        "    \n",
        "    if 1 <= len(report) <= 200000:\n",
        "        for rep in report:\n",
        "            if 3 <= len(rep) <= 21:\n",
        "                pass\n",
        "            else:\n",
        "                return 're원소길이'\n",
        "    else:\n",
        "        return 're길이'\n",
        "            \n",
        "    if 1 <= k <= 200:\n",
        "        pass\n",
        "    else:\n",
        "        return 'k자연수'\n",
        "\n",
        "    #문제\n",
        "    #유저 사전형\n",
        "    for id in id_list:\n",
        "        id_list_dic[id]=[]\n",
        "    # print(id_list_dic)\n",
        "\n",
        "    #신고한 유저를 사전형 value 값의 리스트로 추가\n",
        "    for report_ in report:\n",
        "        report_=report_.split()\n",
        "        if report_[1] not in id_list_dic[report_[0]]: #동일 유저 신고 1회 처리\n",
        "            id_list_dic[report_[0]].append(report_[1]) #value 리스트로 추가\n",
        "            report_id_list.append(report_[1]) \n",
        "    # print(id_list_dic)\n",
        "    # print(report_id_list)\n",
        "\n",
        "    # 신고한 유저 카운터하여 사전형으로 만들기\n",
        "    for report_id in report_id_list:\n",
        "        report_id_dic[report_id]=report_id_list.count(report_id)\n",
        "    # print(report_id_dic)\n",
        "\n",
        "    # k 값 이상의 신고한 유저를 stop 변수로 리스트화\n",
        "    for r_i_d_k , r_i_d_v in report_id_dic.items():\n",
        "        if r_i_d_v >= k:\n",
        "            stop.append(r_i_d_k)\n",
        "    # print(stop)\n",
        "\n",
        "    # stop 리스트의 있는 유저와 유저가 신고한 유저를 확인하여 숫자로 출력후 answer리스트로 저장\n",
        "    for dic_k,dic_v in id_list_dic.items(): \n",
        "        cnt=0\n",
        "        for dic_v_l in dic_v:\n",
        "            if dic_v_l in stop:\n",
        "                cnt+=1\n",
        "        id_list_dic[dic_k]=cnt\n",
        "        answer.append(id_list_dic[dic_k])\n",
        "    # print(id_list_dic)\n",
        "\n",
        "    return answer\n",
        "\n",
        "solution([\"con\", \"ryan\"],[\"ryan con\", \"ryan con\", \"ryan con\", \"ryan con\"],3)\n",
        "\n",
        "#문제 출처 https://programmers.co.kr/learn/courses/30/lessons/92334"
      ],
      "metadata": {
        "id": "Soz5UAZbhA9o",
        "colab": {
          "base_uri": "https://localhost:8080/"
        },
        "outputId": "39d40e88-9c13-4c0a-fc1d-cde12157e77b"
      },
      "execution_count": 24,
      "outputs": [
        {
          "output_type": "execute_result",
          "data": {
            "text/plain": [
              "[0, 0]"
            ]
          },
          "metadata": {},
          "execution_count": 24
        }
      ]
    },
    {
      "cell_type": "code",
      "source": [
        ""
      ],
      "metadata": {
        "id": "KLdAPaAJyqjd"
      },
      "execution_count": null,
      "outputs": []
    }
  ]
}