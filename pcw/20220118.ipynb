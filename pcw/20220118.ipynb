{
  "nbformat": 4,
  "nbformat_minor": 0,
  "metadata": {
    "colab": {
      "name": "20220118.ipynb",
      "provenance": [],
      "collapsed_sections": []
    },
    "kernelspec": {
      "name": "python3",
      "display_name": "Python 3"
    },
    "language_info": {
      "name": "python"
    }
  },
  "cells": [
    {
      "cell_type": "code",
      "execution_count": 79,
      "metadata": {
        "colab": {
          "base_uri": "https://localhost:8080/"
        },
        "id": "Nmlt_E7Rk_Gu",
        "outputId": "48f190ab-68eb-4a40-8479-3a6b238c9309"
      },
      "outputs": [
        {
          "output_type": "execute_result",
          "data": {
            "text/plain": [
              "168"
            ]
          },
          "metadata": {},
          "execution_count": 79
        }
      ],
      "source": [
        "# N개의 최소 공배수\n",
        "\n",
        "def solution(arr):\n",
        "    #변수\n",
        "    answer=0\n",
        "    arr_list=[]\n",
        "    cnt=1\n",
        "    arr_copy=arr.copy()\n",
        "    for i in range(len(arr)):\n",
        "        arr_list.append([1])\n",
        "    # print(arr_list)\n",
        "\n",
        "    #제한 사항\n",
        "    if 1 <= len(arr) <= 15:\n",
        "        for ar in arr:\n",
        "            if 0 <= ar <= 100:\n",
        "                pass\n",
        "            else:\n",
        "                return ''\n",
        "    else:\n",
        "        return ''\n",
        "\n",
        "    #문제\n",
        "    while True:\n",
        "        for i in range(len(arr)):\n",
        "            if arr_copy[i] < max(arr_copy):\n",
        "                arr_copy[i]=arr[i]*len(arr_list[i])\n",
        "                arr_list[i].append(cnt)\n",
        "\n",
        "            # elif max(b) == b[i]:\n",
        "            #     b[i]=a[i]*len(arr_list[i])\n",
        "\n",
        "        if len(set(arr_copy)) ==  1:\n",
        "            answer=list(set(arr_copy))[0]\n",
        "            break\n",
        "        else:\n",
        "            cnt+=1\n",
        "\n",
        "    # print(arr_list)\n",
        "    # print(answer)\n",
        "\n",
        "    return answer\n",
        "solution([2,6,8,14])\n",
        "#문제 출처 https://programmers.co.kr/learn/courses/30/lessons/12953"
      ]
    },
    {
      "cell_type": "code",
      "source": [
        "# 최댓값과 최솟값\n",
        "\n",
        "def solution(s):\n",
        "    answer=''\n",
        "    list_s=[]\n",
        "    s=s.split()\n",
        "\n",
        "    for i in s:\n",
        "        list_s.append(int(i))\n",
        "    # print(list_s)\n",
        "\n",
        "    mx=max(list_s)\n",
        "    # print(mx)\n",
        "    mn=min(list_s)\n",
        "    # print(mn)\n",
        "\n",
        "    answer='{} {}'.format(mn,mx)\n",
        "\n",
        "    return str(answer)\n",
        "\n",
        "solution(\"-1 -1\")\n",
        "\n",
        "#문제 출처 https://programmers.co.kr/learn/courses/30/lessons/12939"
      ],
      "metadata": {
        "colab": {
          "base_uri": "https://localhost:8080/",
          "height": 35
        },
        "id": "CMgfZ3DQmIgj",
        "outputId": "a2d8b3ab-0de9-43f4-9e48-ac2b3c4169c0"
      },
      "execution_count": 30,
      "outputs": [
        {
          "output_type": "execute_result",
          "data": {
            "application/vnd.google.colaboratory.intrinsic+json": {
              "type": "string"
            },
            "text/plain": [
              "'-1 -1'"
            ]
          },
          "metadata": {},
          "execution_count": 30
        }
      ]
    },
    {
      "cell_type": "code",
      "source": [
        ""
      ],
      "metadata": {
        "id": "6SYFRt-AmhrK"
      },
      "execution_count": null,
      "outputs": []
    }
  ]
}