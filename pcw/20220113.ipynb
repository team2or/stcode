{
  "nbformat": 4,
  "nbformat_minor": 0,
  "metadata": {
    "colab": {
      "name": "20220113.ipynb",
      "provenance": [],
      "collapsed_sections": []
    },
    "kernelspec": {
      "name": "python3",
      "display_name": "Python 3"
    },
    "language_info": {
      "name": "python"
    }
  },
  "cells": [
    {
      "cell_type": "code",
      "execution_count": null,
      "metadata": {
        "colab": {
          "base_uri": "https://localhost:8080/"
        },
        "id": "TE-HKDAd1oq5",
        "outputId": "bee6d71e-467a-4445-dc41-701582d6efde"
      },
      "outputs": [
        {
          "output_type": "stream",
          "name": "stdout",
          "text": [
            "테스트 케이스 개수 : 3\n",
            "2 2\n",
            "1\n",
            "1 5\n",
            "5\n",
            "13 29\n",
            "67863915\n"
          ]
        }
      ],
      "source": [
        "# 다리 놓기\n",
        "\n",
        "T=int(input('테스트 케이스 개수 : '))\n",
        "for i in range(T):\n",
        "    N_M=input('').split()\n",
        "    N=int(N_M[0])\n",
        "    M=int(N_M[1])\n",
        "\n",
        "    if 0<= N <= M <= 30:\n",
        "        n_fact,m_fact=1,1\n",
        "\n",
        "        for m in range(M,M-N,-1):\n",
        "            m_fact*=m\n",
        "        for n in range(N,0,-1):\n",
        "            n_fact*=n\n",
        "\n",
        "        answer=int(m_fact/n_fact)\n",
        "        print(answer)\n",
        "    else:\n",
        "        print('M보다 N이 더 큽니다.')\n",
        "\n",
        "#문제 출처 https://www.acmicpc.net/problem/1010"
      ]
    },
    {
      "cell_type": "code",
      "source": [
        "# 공 바꾸기\n",
        "\n",
        "N_M=str(input('')).split()\n",
        "\n",
        "# NM=N_M.split(' ')\n",
        "N=int(N_M[0])\n",
        "M=int(N_M[1])\n",
        "basket=[]\n",
        "\n",
        "for n in range(1,N+1):\n",
        "    basket.append(n)\n",
        "\n",
        "for m in range(M):\n",
        "    basket_change=input('').split()\n",
        "    i=int(basket_change[0])\n",
        "    j=int(basket_change[1])\n",
        "\n",
        "    if 1 <= i <= j <= N:\n",
        "        basket[i-1],basket[j-1]=basket[j-1],basket[i-1]\n",
        "\n",
        "print(basket)\n",
        "\n",
        "\n",
        "\n",
        "#문제 출처 https://www.acmicpc.net/problem/10813"
      ],
      "metadata": {
        "colab": {
          "base_uri": "https://localhost:8080/"
        },
        "id": "ElvmxhD81yU1",
        "outputId": "ed057e2d-4029-49a3-a603-e54107d511b3"
      },
      "execution_count": null,
      "outputs": [
        {
          "output_type": "stream",
          "name": "stdout",
          "text": [
            "5 4\n",
            "1 2\n",
            "3 4\n",
            "1 4\n",
            "2 2\n",
            "[3, 1, 4, 2, 5]\n"
          ]
        }
      ]
    },
    {
      "cell_type": "code",
      "source": [
        ""
      ],
      "metadata": {
        "id": "Q2GrV6tA_tBr"
      },
      "execution_count": null,
      "outputs": []
    }
  ]
}