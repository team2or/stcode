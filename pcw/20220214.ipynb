{
  "nbformat": 4,
  "nbformat_minor": 0,
  "metadata": {
    "colab": {
      "name": "20220214.ipynb",
      "provenance": [],
      "collapsed_sections": []
    },
    "kernelspec": {
      "name": "python3",
      "display_name": "Python 3"
    },
    "language_info": {
      "name": "python"
    }
  },
  "cells": [
    {
      "cell_type": "code",
      "execution_count": 40,
      "metadata": {
        "colab": {
          "base_uri": "https://localhost:8080/"
        },
        "id": "dYg6x3kxG5cI",
        "outputId": "607a90af-2688-43d5-fa7e-7330f42fbf6b"
      },
      "outputs": [
        {
          "output_type": "stream",
          "name": "stdout",
          "text": [
            "4\n",
            "3 3 4\n",
            "1 1 1 1\n",
            "10\n"
          ]
        }
      ],
      "source": [
        "#주유소 \n",
        "\n",
        "N=int(input())\n",
        "road=list(map(int,input().split()))\n",
        "price=list(map(int,input().split()))\n",
        "\n",
        "# 제한사항\n",
        "if 2 <= N <= 100000:\n",
        "    for r in road:\n",
        "        if 1 <= r <= 1000000000:\n",
        "            for p in price:\n",
        "                if 1 <= p <= 1000000000:\n",
        "                    pass\n",
        "                else:\n",
        "                    print('{} 가격의 범위가 초과되었습니다'.format(p))\n",
        "        else:\n",
        "            print('{} 길이의 범위가 초과되었습니다'.format(r))\n",
        "else:\n",
        "    print('도시의 범위가 초과되었습니다')\n",
        "\n",
        "r=road\n",
        "p=price\n",
        "oil_p=1000000001\n",
        "answer=0\n",
        "for n in range(0,N-1):\n",
        "    if oil_p >= p[n]:\n",
        "        oil_p = p[n]\n",
        "    answer += r[n]*oil_p\n",
        "print(answer)\n",
        "\n",
        "    \n",
        "#문제 출처 https://www.acmicpc.net/problem/13305"
      ]
    },
    {
      "cell_type": "code",
      "source": [
        "#입양 시각 구하기(1)\n",
        "#문제 출처 https://programmers.co.kr/learn/courses/30/lessons/59412\n",
        "\n",
        "SELECT distinct hour(DATETIME) as hour,count(DATETIME) count from ANIMAL_OUTS where hour(DATETIME) between '9' and '19' group by hour  order by hour asc"
      ],
      "metadata": {
        "id": "Q2ZeFNgIOrcs"
      },
      "execution_count": null,
      "outputs": []
    },
    {
      "cell_type": "code",
      "source": [
        "#입양 시각 구하기(2)\n",
        "#문제 출처 https://programmers.co.kr/learn/courses/30/lessons/59413\n",
        "\n",
        "#답\n",
        "SET @hour := -1; -- 변수 선언\n",
        "SELECT (@hour := @hour + 1) as HOUR,\n",
        "(SELECT COUNT(*) FROM ANIMAL_OUTS WHERE HOUR(DATETIME) = @hour) as COUNT\n",
        "FROM ANIMAL_OUTS\n",
        "WHERE @hour < 23"
      ],
      "metadata": {
        "id": "oNS6Vo5IOrge"
      },
      "execution_count": null,
      "outputs": []
    }
  ]
}