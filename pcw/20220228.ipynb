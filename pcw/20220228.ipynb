{
  "nbformat": 4,
  "nbformat_minor": 0,
  "metadata": {
    "colab": {
      "name": "20220228.ipynb",
      "provenance": []
    },
    "kernelspec": {
      "name": "python3",
      "display_name": "Python 3"
    },
    "language_info": {
      "name": "python"
    }
  },
  "cells": [
    {
      "cell_type": "code",
      "execution_count": 92,
      "metadata": {
        "colab": {
          "base_uri": "https://localhost:8080/"
        },
        "id": "OzJamHcIEl5z",
        "outputId": "971de5c8-58ec-44b3-e35f-2a31cac50668"
      },
      "outputs": [
        {
          "output_type": "execute_result",
          "data": {
            "text/plain": [
              "5"
            ]
          },
          "metadata": {},
          "execution_count": 92
        }
      ],
      "source": [
        "#정확성 부족\n",
        "def solution(clothes):\n",
        "    answer = 0\n",
        "    temps = []\n",
        "    for _ in range(len(clothes)):\n",
        "        if clothes[_] not in temps:\n",
        "            answer+=1\n",
        "            for __ in range(_,len(clothes)):\n",
        "                if clothes[_][1] != clothes[__][1]:\n",
        "                    c=[clothes[_][0],clothes[__][0]]\n",
        "                    temps.append(c)\n",
        "    temps=list(set([tuple(set(temp)) for temp in temps]))\n",
        "    answer+=len(temps)\n",
        "    return answer\n",
        "solution([[\"yellowhat\", \"headgear\"], [\"bluesunglasses\", \"eyewear\"], [\"green_turban\", \"headgear\"]])\n",
        "# solution([[\"crowmask\", \"face\"], [\"bluesunglasses\", \"face\"], [\"smoky_makeup\", \"face\"]])"
      ]
    },
    {
      "cell_type": "code",
      "source": [
        "# 답안\n",
        "def solution(clothes):\n",
        "    clothes_type = {}\n",
        "\n",
        "    for t in clothes:\n",
        "        if t not in clothes_type:\n",
        "            #처음엔 안입는 경우와 하나 입을 경우 2가지이므로 2로 시작\n",
        "            clothes_type[t[0]] = 2\n",
        "        else:\n",
        "            clothes_type[t[0]] += 1\n",
        "\n",
        "    cnt = 1\n",
        "    for num in clothes_type.values():\n",
        "        cnt *= num\n",
        "\n",
        "    return cnt - 1"
      ],
      "metadata": {
        "id": "5QtWUz4RA-Ns"
      },
      "execution_count": null,
      "outputs": []
    },
    {
      "cell_type": "code",
      "source": [
        "# Weather Observation Station 7\n",
        "#https://www.hackerrank.com/challenges/weather-observation-station-7/problem?isFullScreen=true\n",
        "\n",
        "#홈페이지 문제로 인한 확인 불가\n",
        "select distinct city from station where city like in ('%a','%e','%i','%o','%u');"
      ],
      "metadata": {
        "id": "hdV-ADl-MqKz"
      },
      "execution_count": null,
      "outputs": []
    },
    {
      "cell_type": "code",
      "source": [
        "# Weather Observation Station 6\n",
        "# https://www.hackerrank.com/challenges/weather-observation-station-6/problem?isFullScreen=true\n",
        "\n",
        "#홈페이지 문제로 인한 확인 불가\n",
        "select distinct city from station where city like in ('a%','e%','i%','o%','u%');"
      ],
      "metadata": {
        "id": "28sBXt5hMqQl"
      },
      "execution_count": null,
      "outputs": []
    }
  ]
}