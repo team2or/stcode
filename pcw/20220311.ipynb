{
  "nbformat": 4,
  "nbformat_minor": 0,
  "metadata": {
    "colab": {
      "name": "20220311.ipynb",
      "provenance": [],
      "collapsed_sections": []
    },
    "kernelspec": {
      "name": "python3",
      "display_name": "Python 3"
    },
    "language_info": {
      "name": "python"
    }
  },
  "cells": [
    {
      "cell_type": "code",
      "source": [
        "# DFS와 BFS\n",
        "# https://www.acmicpc.net/problem/1260\n",
        "# 틀림\n",
        "import copy\n",
        "\n",
        "N,M,V=map(int,input().split())\n",
        "M_list=[]\n",
        "for _ in range(M):\n",
        "    M_list.append(list(map(int,input().split())))\n",
        "\n",
        "M_list.sort(key=lambda x:x[1])\n",
        "M_list2=copy.deepcopy(M_list)\n",
        "\n",
        "dfs=[V]\n",
        "for i in dfs:\n",
        "    for j in M_list:\n",
        "        if i in j and len(j) > 1:\n",
        "            j.remove(i)\n",
        "            j_p=j.pop()\n",
        "            if j_p not in dfs:\n",
        "                dfs.append(j_p)\n",
        "                break\n",
        "    \n",
        "bfs=[V]\n",
        "for i in bfs:\n",
        "    for j in M_list2:\n",
        "         if i in j and len(j) > 1:\n",
        "                j.remove(i)\n",
        "                j_p=j.pop()\n",
        "                if j_p not in bfs:\n",
        "                    bfs.append(j_p)\n",
        "\n",
        "print(dfs)\n",
        "print(bfs)\n"
      ],
      "metadata": {
        "id": "M-JGtxKhHZZk"
      },
      "execution_count": null,
      "outputs": []
    },
    {
      "cell_type": "code",
      "source": [
        "#답안\n",
        "# https://blog.naver.com/dhkimxx/222680138826\n",
        "\n",
        "from collections import deque\n",
        "\n",
        "N, M, V = map(int, input().split())\n",
        "visited = [False] * (N + 1)\n",
        "graph = [[] for _ in range(N + 1)]\n",
        "for m in range(M):\n",
        "    A, B = map(int, input().split())\n",
        "    graph[A].append(B)\n",
        "    graph[B].append(A)\n",
        "\n",
        "def dfs(graph, v, visited):\n",
        "    visited[v] = True\n",
        "    print(v, end=' ')\n",
        "    for i in sorted(graph[v]):\n",
        "        if not visited[i]:\n",
        "            dfs(graph, i, visited)\n",
        "\n",
        "def bfs(graph, start, visited):\n",
        "    queue = deque([start])\n",
        "    visited[start] = True\n",
        "    while queue:\n",
        "        v = queue.popleft()\n",
        "        print(v, end=' ')\n",
        "        for i in sorted(graph[v]):\n",
        "            if not visited[i]:\n",
        "                queue.append(i)\n",
        "                visited[i] = True\n",
        "\n",
        "\n",
        "dfs(graph, V, visited.copy())\n",
        "print()\n",
        "bfs(graph, V, visited.copy())"
      ],
      "metadata": {
        "colab": {
          "base_uri": "https://localhost:8080/"
        },
        "id": "ErOpD8shIiED",
        "outputId": "8c3d034f-095e-44a7-fef7-39c9c725e89f"
      },
      "execution_count": 11,
      "outputs": [
        {
          "output_type": "stream",
          "name": "stdout",
          "text": [
            "4 5 1\n",
            "1 2\n",
            "1 3\n",
            "1 4\n",
            "2 4\n",
            "3 4\n",
            "1 2 4 3 \n",
            "1 2 3 4 "
          ]
        }
      ]
    },
    {
      "cell_type": "code",
      "source": [
        "# Population Density Difference\n",
        "# https://www.hackerrank.com/challenges/population-density-difference/problem?isFullScreen=true\n",
        "\n",
        "select max(population) - min(population) from city;"
      ],
      "metadata": {
        "id": "cUczW6wpC7y_"
      },
      "execution_count": null,
      "outputs": []
    },
    {
      "cell_type": "code",
      "source": [
        "# Revising Aggregations - The Sum Function\n",
        "# https://www.hackerrank.com/challenges/revising-aggregations-sum/problem?isFullScreen=true\n",
        "\n",
        "select sum(population) from city where district like 'California'"
      ],
      "metadata": {
        "id": "yDcTiakRC75i"
      },
      "execution_count": null,
      "outputs": []
    }
  ]
}