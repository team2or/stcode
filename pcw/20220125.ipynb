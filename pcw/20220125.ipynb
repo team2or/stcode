{
  "nbformat": 4,
  "nbformat_minor": 0,
  "metadata": {
    "colab": {
      "name": "20220125.ipynb",
      "provenance": [],
      "collapsed_sections": []
    },
    "kernelspec": {
      "name": "python3",
      "display_name": "Python 3"
    },
    "language_info": {
      "name": "python"
    }
  },
  "cells": [
    {
      "cell_type": "code",
      "execution_count": 8,
      "metadata": {
        "colab": {
          "base_uri": "https://localhost:8080/"
        },
        "id": "SLc4_AJlqjGN",
        "outputId": "065198f6-6848-4760-ec5a-178973381cd8"
      },
      "outputs": [
        {
          "output_type": "stream",
          "name": "stdout",
          "text": [
            "1\n",
            "15\n"
          ]
        }
      ],
      "source": [
        "# 거스름돈\n",
        "\n",
        "money=1000 #지불한 돈\n",
        "k_o_money =[500,100,50,10,5,1] #돈종류\n",
        "pay=int(input('')) #지불할 돈\n",
        "answer=0 #출력을 위한 변수\n",
        "if 1 <= pay < 1000:#조건\n",
        "    changes = money - pay #거스름돈\n",
        "    for i in k_o_money:\n",
        "        if changes <= i:\n",
        "            pass\n",
        "        else:\n",
        "            sum=changes//i #몫\n",
        "            changes-=sum*i\n",
        "            answer+=sum\n",
        "    print(answer)\n",
        "else:\n",
        "    print('금액 범위가 초과 되었습니다.') \n",
        "\n",
        "#문제 출처 https://www.acmicpc.net/problem/5585"
      ]
    },
    {
      "cell_type": "code",
      "source": [
        "# ATM\n",
        "answer=0\n",
        "N=int(input('')) #입력\n",
        "if 1 <= N <= 1000:\n",
        "    P=list(map(int,input('').split())) #입력후 리스트로 만들기\n",
        "    if N == len(P):\n",
        "        P.sort() #빠른순으로 정렬\n",
        "    else:\n",
        "        print('입력이 다릅니다.')\n",
        "    for i in range(N,0,-1):\n",
        "        answer+=(i*P[N-i])\n",
        "    print(answer)\n",
        "else:\n",
        "    print('N의 범위값 초과')\n",
        "\n",
        "#문제 출처 https://www.acmicpc.net/problem/11399"
      ],
      "metadata": {
        "colab": {
          "base_uri": "https://localhost:8080/"
        },
        "id": "HDuBqan8wLbk",
        "outputId": "5233ec86-bc22-425f-9ffc-b007f69088b1"
      },
      "execution_count": 5,
      "outputs": [
        {
          "output_type": "stream",
          "name": "stdout",
          "text": [
            "5\n",
            "3 1 4 3 2\n",
            "32\n"
          ]
        }
      ]
    },
    {
      "cell_type": "code",
      "source": [
        ""
      ],
      "metadata": {
        "id": "F8jpZwJszzde"
      },
      "execution_count": null,
      "outputs": []
    }
  ]
}