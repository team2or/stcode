{
 "cells": [
  {
   "cell_type": "code",
   "execution_count": 11,
   "id": "b4bde795",
   "metadata": {},
   "outputs": [
    {
     "data": {
      "text/plain": [
       "True"
      ]
     },
     "execution_count": 11,
     "metadata": {},
     "output_type": "execute_result"
    }
   ],
   "source": [
    "#문자열 다루기 기본\n",
    "def solution(s):\n",
    "    answer = True\n",
    "    if len(s) >= 1 and len(s) <= 8:\n",
    "        if len(s) == 4 or len(s) == 6:\n",
    "            if s.isdigit() == True:\n",
    "                return answer\n",
    "            else:\n",
    "                return not answer\n",
    "        else:\n",
    "            return not answer\n",
    "            \n",
    "    else:\n",
    "        return '길이가 초과 되었습니다.'\n",
    "    \n",
    "solution('1234')\n",
    "\n",
    "#문제 출처 https://programmers.co.kr/learn/courses/30/lessons/12918"
   ]
  },
  {
   "cell_type": "code",
   "execution_count": 34,
   "id": "dceede94",
   "metadata": {},
   "outputs": [
    {
     "data": {
      "text/plain": [
       "11"
      ]
     },
     "execution_count": 34,
     "metadata": {},
     "output_type": "execute_result"
    }
   ],
   "source": [
    "#나머지가 1이 되는 수 찾기\n",
    "def solution(n):\n",
    "    answer = 0\n",
    "    if n >= 3 and n<=1000000:\n",
    "        for x in range(3,n):\n",
    "            if n%x==1:\n",
    "                answer=x\n",
    "                break\n",
    "    else:\n",
    "        return 'n의 범위를 초과하였습니다.'\n",
    "    \n",
    "    return answer\n",
    "\n",
    "solution(12)\n",
    "\n",
    "#문제 출처 https://programmers.co.kr/learn/courses/30/lessons/87389"
   ]
  },
  {
   "cell_type": "code",
   "execution_count": null,
   "id": "c3a61f73",
   "metadata": {},
   "outputs": [],
   "source": []
  }
 ],
 "metadata": {
  "kernelspec": {
   "display_name": "Python 3 (ipykernel)",
   "language": "python",
   "name": "python3"
  },
  "language_info": {
   "codemirror_mode": {
    "name": "ipython",
    "version": 3
   },
   "file_extension": ".py",
   "mimetype": "text/x-python",
   "name": "python",
   "nbconvert_exporter": "python",
   "pygments_lexer": "ipython3",
   "version": "3.9.7"
  }
 },
 "nbformat": 4,
 "nbformat_minor": 5
}
