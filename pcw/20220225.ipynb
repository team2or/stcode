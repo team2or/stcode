{
  "nbformat": 4,
  "nbformat_minor": 0,
  "metadata": {
    "colab": {
      "name": "20220225.ipynb",
      "provenance": [],
      "collapsed_sections": []
    },
    "kernelspec": {
      "name": "python3",
      "display_name": "Python 3"
    },
    "language_info": {
      "name": "python"
    }
  },
  "cells": [
    {
      "cell_type": "code",
      "source": [
        "# 컵홀더 \n",
        "# https://www.acmicpc.net/problem/2810\n",
        "N=int(input())\n",
        "if 1 <= N <= 50:\n",
        "    C=list(input())\n",
        "else:\n",
        "    print('범위 초과')\n",
        "\n",
        "seat=['*']\n",
        "while len(C) > 0:\n",
        "    if C[0] == 'S':\n",
        "        s=C.pop(0)\n",
        "        if seat[-1] != '*':\n",
        "            seat.append('*')\n",
        "            seat.append('S')\n",
        "        else:\n",
        "            seat.append('S')\n",
        "            \n",
        "    elif C[0] == 'L':\n",
        "        if C[1].upper() =='L':\n",
        "            C.pop(0)\n",
        "            C.pop(0)\n",
        "            if seat[-1] != '*':\n",
        "                seat.append('*')    \n",
        "                seat.append('LL')\n",
        "                seat.append('*')    \n",
        "            else:\n",
        "                seat.append('LL')\n",
        "\n",
        "if 'LL' in seat and seat[-1] != '*':\n",
        "    seat.append('*')           \n",
        "# print(seat)\n",
        "\n",
        "answer=seat.count('*')     \n",
        "print(answer) "
      ],
      "metadata": {
        "colab": {
          "base_uri": "https://localhost:8080/"
        },
        "id": "8F44G_uI4INx",
        "outputId": "1b1fa9fa-eddb-4c19-8436-f8cf102e0435"
      },
      "execution_count": 56,
      "outputs": [
        {
          "output_type": "stream",
          "name": "stdout",
          "text": [
            "9\n",
            "SLLLLSSLL\n",
            "['*', 'S', '*', 'LL', '*', 'LL', '*', 'S', '*', 'S', '*', 'LL', '*']\n",
            "7\n"
          ]
        }
      ]
    },
    {
      "cell_type": "code",
      "source": [
        "# Weather Observation Station 5\n",
        "# https://www.hackerrank.com/challenges/weather-observation-station-5/problem?isFullScreen=true\n",
        "\n",
        "select city, length(city) from station order by length(city), city limit 1;\n",
        "select city, length(city) from station order by length(city) desc, city limit 1;"
      ],
      "metadata": {
        "id": "rnpGPHKqVJ-n"
      },
      "execution_count": null,
      "outputs": []
    },
    {
      "cell_type": "code",
      "source": [
        "#Revising the Select Query II\n",
        "#https://www.hackerrank.com/challenges/revising-the-select-query-2/problem?isFullScreen=true\n",
        "\n",
        "select name from city where countrycode = 'USA' and population > 120000;"
      ],
      "metadata": {
        "id": "AvvzaFXnzkfi"
      },
      "execution_count": null,
      "outputs": []
    }
  ]
}