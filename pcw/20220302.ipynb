{
  "nbformat": 4,
  "nbformat_minor": 0,
  "metadata": {
    "colab": {
      "name": "20220302.ipynb",
      "provenance": [],
      "collapsed_sections": []
    },
    "kernelspec": {
      "name": "python3",
      "display_name": "Python 3"
    },
    "language_info": {
      "name": "python"
    }
  },
  "cells": [
    {
      "cell_type": "code",
      "execution_count": 43,
      "metadata": {
        "colab": {
          "base_uri": "https://localhost:8080/"
        },
        "id": "ubpKBKkdIVcR",
        "outputId": "c7810922-8e0e-4ecf-b1d7-d97f1ad612ee"
      },
      "outputs": [
        {
          "output_type": "execute_result",
          "data": {
            "text/plain": [
              "2"
            ]
          },
          "metadata": {},
          "execution_count": 43
        }
      ],
      "source": [
        "from itertools import permutations\n",
        "import re\n",
        "\n",
        "def solution(numbers):\n",
        "    if 1 <= len(numbers) <= 7:\n",
        "        for num in numbers:\n",
        "            if re.findall('[0-9]+',num):\n",
        "                pass\n",
        "            else:\n",
        "                return '숫자 X'\n",
        "    else:\n",
        "        return '길이 초과'\n",
        "    answer = 0\n",
        "    per_list=[]\n",
        "    for i in range(len(numbers)):\n",
        "        # permutations 사용하여 순열 구하기\n",
        "        temp_per=permutations(numbers,i+1)\n",
        "        for i in temp_per:\n",
        "            temp_join=''.join(i)\n",
        "            per_list.append(int(temp_join))\n",
        "    #공약수를 확인하여 소수인지 확인\n",
        "    for i in set(per_list): #중복제외\n",
        "        cnt=0\n",
        "        for j in range(1,i+1):\n",
        "            if i % j == 0:\n",
        "                cnt += 1\n",
        "            if cnt > 3:\n",
        "                break\n",
        "        if cnt == 2:\n",
        "            answer+=1\n",
        "\n",
        "    return answer\n",
        "\n",
        "# solution(\"17\")\n",
        "solution(\"011\")"
      ]
    },
    {
      "cell_type": "code",
      "source": [
        "# Weather Observation Station 8\n",
        "# https://www.hackerrank.com/challenges/weather-observation-station-8/problem?isFullScreen=true\n",
        "\n",
        "# mysql\n",
        "select distinct city from station where city regexp '[aeiou]$' and city regexp '^[aeiou]';\n",
        "\n",
        "select distinct city from station where regexp_like (city,'^a|^e|^i|^o|^u') and regexp_like (city,'a$|e$|i$|o$|u$');"
      ],
      "metadata": {
        "id": "PBGAndJvfpVb"
      },
      "execution_count": null,
      "outputs": []
    },
    {
      "cell_type": "code",
      "source": [
        "# Weather Observation Station 9\n",
        "# https://www.hackerrank.com/challenges/weather-observation-station-9/problem?isFullScreen=true\n",
        "\n",
        "# mysql\n",
        "select distinct city from station where city regexp '^[^aeiou]';"
      ],
      "metadata": {
        "id": "i-oxEdiTfpML"
      },
      "execution_count": null,
      "outputs": []
    }
  ]
}