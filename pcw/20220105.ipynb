{
  "nbformat": 4,
  "nbformat_minor": 0,
  "metadata": {
    "colab": {
      "name": "20220105.ipynb",
      "provenance": [],
      "collapsed_sections": []
    },
    "kernelspec": {
      "name": "python3",
      "display_name": "Python 3"
    },
    "language_info": {
      "name": "python"
    }
  },
  "cells": [
    {
      "cell_type": "code",
      "source": [
        "#패턴 마디의 길이\n",
        "dupli=[] #duplication , 중복범위 인덱스 저장\n",
        "dupli_str=[] #duplication_str , 인덱스를 문자형으로 저장\n",
        "z=[]\n",
        "testcase_len='' # 버전 호환을 위해 지정\n",
        "\n",
        "T=int(input('테스트 케이스의 개수 : ')) #테스트케이스 개수 입력\n",
        "\n",
        "for t in range(1,T+1):\n",
        "\n",
        "    str_tc=input('') #글 입력\n",
        "\n",
        "    for dup_l in range(1,30):\n",
        "        if str_tc[0:dup_l] == str_tc[dup_l:dup_l+dup_l]:\n",
        "            dupli.append(dup_l)\n",
        "            # print(dup_l) #출력 확인용\n",
        "        else:\n",
        "            pass\n",
        "    \n",
        "    for dup_s in dupli:\n",
        "        dupli_str.append(str_tc[0:dup_s])\n",
        "\n",
        "    for dup_str_s in dupli_str:\n",
        "        for dup_str_l in range(3,31):\n",
        "            if len(dup_str_s)*dup_str_l >= 30:\n",
        "                testcase_len=dup_str_s*dup_str_l\n",
        "                testcase_len=testcase_len[:30]\n",
        "                break #첫번째 값이 나오면 나가기 위해\n",
        "        if len(a) >= 30 and str_tc == testcase_len:\n",
        "            # print(dup_str_s) #출력 확인\n",
        "            break #첫번째 값이 나오면 나가기 위해\n",
        "        else:\n",
        "            pass\n",
        "    print('#{} {}'.format(t,len(dup_str_s)))\n",
        "\n",
        "#문제 출처 https://swexpertacademy.com/main/code/problem/problemDetail.do?contestProbId=AV5P1kNKAl8DFAUq"
      ],
      "metadata": {
        "colab": {
          "base_uri": "https://localhost:8080/"
        },
        "id": "xKZxhiYwuFup",
        "outputId": "ffcad2a2-9b6c-4e49-9257-9fe70853e0a2"
      },
      "execution_count": 39,
      "outputs": [
        {
          "output_type": "stream",
          "name": "stdout",
          "text": [
            "테스트 케이스의 개수 : 3\n",
            "aaaaaaaaaaaaaaaaaaaaaaaaaaaaaa\n",
            "#1 1\n",
            "assassassassassassassassassass\n",
            "#2 3\n",
            "aaaaasssssaaaaasssssaaaaasssss\n",
            "#3 10\n"
          ]
        }
      ]
    },
    {
      "cell_type": "code",
      "source": [
        "#입력해본 값\n",
        "    # str_tc='aaaaaaaaaaaaaaaaaaaaaaaaaaaaaa'\n",
        "    # str_tc='assassassassassassassassassass'\n",
        "    # str_tc='asasasasasasasasasasasasasasas'\n",
        "    # str_tc='aaaaasssssaaaaasssssaaaaasssss'\n",
        "    # str_tc='aaasssdddaaasssdddaaasssdddaaa'\n",
        "    # str_tc='aaaassssaaaassssaaaassssaaaass'\n",
        "    # str_tc='aaaaaasssaaaaaasssaaaaaasssaaa'\n",
        "    # str_tc='asdasdasdasdasdasdasd'  o\n",
        "    # str_tc='12341234123412341234' o\n",
        "    # str_tc='1234as1234as1234as1234as1234as'o\n",
        "    # str_tc='1234asd1234asd1234asd1234asd1234a'o\n",
        "    # str_tc='KOREAKOREAKOREAKOREAKOREAKOREA' o\n",
        "    # str_tc='SAMSUNGSAMSUNGSAMSUNGSAMSUNGSA' o"
      ],
      "metadata": {
        "id": "jUvbQ1YnKS9b"
      },
      "execution_count": 31,
      "outputs": []
    },
    {
      "cell_type": "code",
      "source": [
        "#대각선 출력하기\n",
        "text=[]\n",
        "\n",
        "for ver in range(0,5):\n",
        "    text.clear()\n",
        "    text.insert(ver,'#')\n",
        "    for wid in range(0,5):\n",
        "        if  ver != wid:\n",
        "            text.insert(wid,'+')\n",
        "            \n",
        "        else:\n",
        "            pass\n",
        "    # print(text)\n",
        "    text2=','.join(text)\n",
        "    # print(text2)\n",
        "    print(text2.replace(',',''))\n",
        "\n",
        "#문제 출처 https://swexpertacademy.com/main/code/problem/problemDetail.do?contestProbId=AV5QFuZ6As0DFAUq"
      ],
      "metadata": {
        "colab": {
          "base_uri": "https://localhost:8080/"
        },
        "id": "NMmfOS1wpNOq",
        "outputId": "98ec769b-2eba-4704-8852-8ac051274c2a"
      },
      "execution_count": null,
      "outputs": [
        {
          "output_type": "stream",
          "name": "stdout",
          "text": [
            "#++++\n",
            "+#+++\n",
            "++#++\n",
            "+++#+\n",
            "++++#\n"
          ]
        }
      ]
    },
    {
      "cell_type": "code",
      "source": [
        ""
      ],
      "metadata": {
        "id": "NErkqMpvrOQf"
      },
      "execution_count": null,
      "outputs": []
    }
  ]
}