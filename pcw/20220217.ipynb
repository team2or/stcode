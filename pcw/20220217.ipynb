{
  "nbformat": 4,
  "nbformat_minor": 0,
  "metadata": {
    "colab": {
      "name": "20220217.ipynb",
      "provenance": [],
      "collapsed_sections": []
    },
    "kernelspec": {
      "name": "python3",
      "display_name": "Python 3"
    },
    "language_info": {
      "name": "python"
    }
  },
  "cells": [
    {
      "cell_type": "code",
      "execution_count": 29,
      "metadata": {
        "colab": {
          "base_uri": "https://localhost:8080/"
        },
        "id": "1vI74KuZEiNZ",
        "outputId": "6403b1a3-e3e6-4ded-8592-46d77660a50e"
      },
      "outputs": [
        {
          "output_type": "stream",
          "name": "stdout",
          "text": [
            "4\n"
          ]
        }
      ],
      "source": [
        "#바이러스\n",
        "\n",
        "N=int(input())\n",
        "C=int(input())\n",
        "c_list=[]\n",
        "virus=[1] # 바이러스 걸린 컴퓨터\n",
        "\n",
        "# 받은 C 값 리스트화\n",
        "for c in range(C):\n",
        "    c_list.append(list(map(int,input().split())))\n",
        "print(c_list)\n",
        "\n",
        "# 제한사항\n",
        "if 1<= N <= 100:\n",
        "    for c in c_list:\n",
        "        for i in c:\n",
        "            if i <= 7:\n",
        "                pass\n",
        "            else:\n",
        "                print('c_list가 C의 값을 초과')\n",
        "else:\n",
        "    print('N의 범위가 초과')\n",
        "\n",
        "#문제\n",
        "for i in range(len(c_list)):\n",
        "    for j in c_list[i]:\n",
        "        if j in virus:\n",
        "            virus.extend(c_list[i])\n",
        "            break\n",
        "        else:\n",
        "            pass\n",
        "\n",
        "answer=len(set(virus))-1 # 중복제외한 개수 - 초기에 걸린 컴퓨터\n",
        "print(answer)\n",
        "\n",
        "\n",
        "#문제 출처 https://www.acmicpc.net/problem/2606"
      ]
    },
    {
      "cell_type": "code",
      "source": [
        "#입력값\n",
        "N=7\n",
        "c_list=[[1, 2], [2, 3], [1, 5], [5, 2], [5, 6], [4, 7]]"
      ],
      "metadata": {
        "id": "AJEctxJ7esye"
      },
      "execution_count": null,
      "outputs": []
    },
    {
      "cell_type": "code",
      "source": [
        "#이름에 el이 들어가는 동물 찾기\n",
        "# https://programmers.co.kr/learn/courses/30/lessons/59047\n",
        "\n",
        "SELECT ANIMAL_ID, NAME from ANIMAL_INS where NAME like '%el%' and ANIMAL_TYPE = 'dog' order by NAME asc"
      ],
      "metadata": {
        "id": "zi8tCVYCO0of"
      },
      "execution_count": null,
      "outputs": []
    },
    {
      "cell_type": "code",
      "source": [
        "#중성화 여부 파악하기\n",
        "#https://programmers.co.kr/learn/courses/30/lessons/59409\n",
        "\n",
        "SELECT ANIMAL_ID,NAME, case when SEX_UPON_INTAKE like 'Neutered%' or  SEX_UPON_INTAKE like 'Spayed%' then 'O' else 'X' end as 중성화 from ANIMAL_INS order by ANIMAL_ID asc"
      ],
      "metadata": {
        "id": "hCV5h59GO0r8"
      },
      "execution_count": null,
      "outputs": []
    }
  ]
}