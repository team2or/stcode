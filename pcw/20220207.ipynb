{
  "nbformat": 4,
  "nbformat_minor": 0,
  "metadata": {
    "colab": {
      "name": "20220207.ipynb",
      "provenance": [],
      "collapsed_sections": []
    },
    "kernelspec": {
      "name": "python3",
      "display_name": "Python 3"
    },
    "language_info": {
      "name": "python"
    }
  },
  "cells": [
    {
      "cell_type": "code",
      "execution_count": 58,
      "metadata": {
        "colab": {
          "base_uri": "https://localhost:8080/"
        },
        "id": "FUy9QSrZYugU",
        "outputId": "d7c4a3ba-2b88-463d-ba50-f37df708662e"
      },
      "outputs": [
        {
          "output_type": "execute_result",
          "data": {
            "text/plain": [
              "[3, 3]"
            ]
          },
          "metadata": {},
          "execution_count": 58
        }
      ],
      "source": [
        "# 영어 끝말잇기\n",
        "import re\n",
        "def solution(n,words):\n",
        "    answer=''\n",
        "\n",
        "    #제한 사항\n",
        "    if 2 <= n <= 10:\n",
        "        if n <= len(words) <= 100:\n",
        "            for word in words:\n",
        "                if 2 <= len(word) <= 50:\n",
        "                    if re.compile('[a-z]').match(word):\n",
        "                        pass\n",
        "                    else:\n",
        "                        return '소문자가 아닙니다.'\n",
        "                else:\n",
        "                    return '단어의 길이가 초과'\n",
        "        else:\n",
        "            return 'word 배열의 범위가 초과'\n",
        "    else:\n",
        "        return 'n의 값이 잘못 되었습니다.'\n",
        "        \n",
        "    #풀이\n",
        "    for i in range(0,len(words)):\n",
        "        if words[i] in words[:i] or words[i-1][-1] != words[i][-1]: # 중복단어 or 단어틀림\n",
        "            answer=[(i%n)+1,(len(words[:i+1])//n)]\n",
        "        else:\n",
        "            answer=[0,0]\n",
        "    return answer\n",
        "\n",
        "solution(3,[\"tank\", \"kick\", \"know\", \"wheel\", \"land\", \"dream\", \"mother\", \"robot\", \"tank\"])\n",
        "# solution(5,[\"hello\", \"observe\", \"effect\", \"take\", \"either\", \"recognize\", \"encourage\", \"ensure\", \"establish\", \"hang\", \"gather\", \"refer\", \"reference\", \"estimate\", \"executive\"])\n",
        "# solution(2,[\"hello\", \"one\", \"even\", \"never\", \"now\", \"world\", \"draw\"])\n",
        "\n",
        "#문제 출처 https://programmers.co.kr/learn/courses/30/lessons/12981"
      ]
    },
    {
      "cell_type": "code",
      "source": [
        "# 여러 기준으로 정렬하기\n",
        "# 문제 출처 https://programmers.co.kr/learn/courses/30/lessons/59404\n",
        "\n",
        "SELECT ANIMAL_ID,NAME,DATETIME from ANIMAL_INS order by NAME,DATETIME desc"
      ],
      "metadata": {
        "id": "1o7Q54RYYyLf"
      },
      "execution_count": null,
      "outputs": []
    },
    {
      "cell_type": "code",
      "source": [
        "# 역순 정렬하기\n",
        "# 문제 출처 https://programmers.co.kr/learn/courses/30/lessons/59035\n",
        "\n",
        "SELECT NAME,DATETIME from ANIMAL_INS order by ANIMAL_ID desc"
      ],
      "metadata": {
        "id": "M1GUBe46YyWs"
      },
      "execution_count": null,
      "outputs": []
    }
  ]
}