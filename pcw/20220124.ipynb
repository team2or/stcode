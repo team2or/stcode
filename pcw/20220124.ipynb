{
  "nbformat": 4,
  "nbformat_minor": 0,
  "metadata": {
    "colab": {
      "name": "20220124.ipynb",
      "provenance": [],
      "collapsed_sections": []
    },
    "kernelspec": {
      "name": "python3",
      "display_name": "Python 3"
    },
    "language_info": {
      "name": "python"
    }
  },
  "cells": [
    {
      "cell_type": "code",
      "execution_count": 66,
      "metadata": {
        "colab": {
          "base_uri": "https://localhost:8080/"
        },
        "id": "ykGT_KRwmIuy",
        "outputId": "f5643495-4b0b-41a4-c419-99e68e249908"
      },
      "outputs": [
        {
          "output_type": "stream",
          "name": "stdout",
          "text": [
            "10 4790\n",
            "12\n"
          ]
        }
      ],
      "source": [
        "#동전0\n",
        "A=[]\n",
        "NK=input('')\n",
        "nk=NK.split()\n",
        "N=int(nk[0])\n",
        "K=int(nk[1])\n",
        "answer=0\n",
        "if 1 <= N <= 10 and 1 <= K <= 100000000:\n",
        "    for n in range(1,N):\n",
        "        na=int(input(''))\n",
        "        if 1<= na <= 1000000:\n",
        "            A.append(na)\n",
        "        \n",
        "        else:\n",
        "            'na범위값 초과'\n",
        "    # A=[1,5,10,50,100,500,1000,5000,10000,50000]\n",
        "    A.reverse()\n",
        "    for a in A:\n",
        "        if a >= K:\n",
        "            pass\n",
        "        else:\n",
        "            sum=K//a\n",
        "            answer+=sum\n",
        "            K-=a*sum\n",
        "\n",
        "    print(answer)\n",
        "else:\n",
        "    '범위값 초과'\n",
        "\n",
        "#문제 출처 https://www.acmicpc.net/problem/11047"
      ]
    },
    {
      "cell_type": "code",
      "source": [
        "#대회 or 인턴\n",
        "\n",
        "NMK=input('')\n",
        "nmk=NMK.split()\n",
        "N=int(nmk[0])\n",
        "M=int(nmk[1])\n",
        "K=int(nmk[2])\n",
        "answer=[]\n",
        "\n",
        "if 0 <= M <= 100 and 0 <= N <= 100 and 0 <= K <= M+N :\n",
        "    for k in range(0,K):\n",
        "        team=[]\n",
        "        n=N-k\n",
        "        m=M-(K-k)\n",
        "        while True: \n",
        "            if n <= 1 or m <=0:\n",
        "                break\n",
        "            else:\n",
        "                team.append([2,1])\n",
        "            n=n-2\n",
        "            m=m-1\n",
        "\n",
        "        answer.append(len(team))\n",
        "    print(max(answer))\n",
        "else:\n",
        "    '범위값 초과'\n",
        "\n",
        "#문제 출처 https://www.acmicpc.net/problem/2875"
      ],
      "metadata": {
        "colab": {
          "base_uri": "https://localhost:8080/"
        },
        "id": "lM6X-7evoDfm",
        "outputId": "0e796c0d-808a-4e7b-ffec-47fdee705259"
      },
      "execution_count": 48,
      "outputs": [
        {
          "output_type": "stream",
          "name": "stdout",
          "text": [
            "6 10 3\n",
            "3\n"
          ]
        }
      ]
    },
    {
      "cell_type": "code",
      "source": [
        ""
      ],
      "metadata": {
        "id": "saVI4M7qyef7"
      },
      "execution_count": null,
      "outputs": []
    }
  ]
}