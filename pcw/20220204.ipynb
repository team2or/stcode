{
  "nbformat": 4,
  "nbformat_minor": 0,
  "metadata": {
    "colab": {
      "name": "20220204.ipynb",
      "provenance": [],
      "collapsed_sections": []
    },
    "kernelspec": {
      "name": "python3",
      "display_name": "Python 3"
    },
    "language_info": {
      "name": "python"
    }
  },
  "cells": [
    {
      "cell_type": "code",
      "source": [
        "#30\n",
        "#함수\n",
        "from itertools import permutations\n",
        "\n",
        "#변수\n",
        "answer=0\n",
        "n=[]\n",
        "\n",
        "#입력\n",
        "N=input()\n",
        "\n",
        "#제한\n",
        "if 0 < len(N) <= 10**5:\n",
        "    if N[0] != '0':\n",
        "        pass\n",
        "    else:\n",
        "        print('앞자리가 0입니다')\n",
        "else:\n",
        "    print('n의 범위 초과')\n",
        "# print(n_sp)\n",
        "\n",
        "#문제\n",
        "for i in N:\n",
        "    n.append(i)\n",
        "\n",
        "per_n=list(map(''.join,permutations(n)))\n",
        "# print(per_n)\n",
        "\n",
        "for i in per_n:\n",
        "    i=int(i)\n",
        "    if answer <= i and i%30 == 0:\n",
        "        answer = i\n",
        "    if answer == 0:\n",
        "        answer = -1\n",
        "print(answer)\n"
      ],
      "metadata": {
        "colab": {
          "base_uri": "https://localhost:8080/"
        },
        "id": "pRoyx9BjcYRu",
        "outputId": "6a9bc227-5886-460e-b7a6-31cac43f19f0"
      },
      "execution_count": null,
      "outputs": [
        {
          "output_type": "stream",
          "name": "stdout",
          "text": [
            "80875542\n",
            "88755420\n"
          ]
        }
      ]
    },
    {
      "cell_type": "code",
      "source": [
        "#30 #답안\n",
        "n = input()\n",
        "n = ''.join(sorted(n, reverse=True))\n",
        "if int(n)%30 == 0:\n",
        "    print(n)\n",
        "else:\n",
        "    print(-1)"
      ],
      "metadata": {
        "id": "OjtE00HVeW7w",
        "colab": {
          "base_uri": "https://localhost:8080/"
        },
        "outputId": "7ffa9775-bed9-4c34-f6f6-a0b9d44e8aff"
      },
      "execution_count": null,
      "outputs": [
        {
          "output_type": "stream",
          "name": "stdout",
          "text": [
            "150\n",
            "510\n"
          ]
        }
      ]
    },
    {
      "cell_type": "code",
      "source": [
        "# 모든 레코드 조회하기 \n",
        "#문제 출처 https://programmers.co.kr/learn/courses/30/lessons/59034\n",
        "select * from ANIMAL_INS order by ANIMAL_ID;"
      ],
      "metadata": {
        "id": "tnMyB1PDxcrc"
      },
      "execution_count": null,
      "outputs": []
    },
    {
      "cell_type": "code",
      "source": [
        "# 상위 n개 레코드\n",
        "#문제 출처 https://programmers.co.kr/learn/courses/30/lessons/59405\n",
        "select NAME from ANIMAL_INS ORDER BY DATETIME LIMIT 1;"
      ],
      "metadata": {
        "id": "BymqYetay_6y"
      },
      "execution_count": null,
      "outputs": []
    }
  ]
}