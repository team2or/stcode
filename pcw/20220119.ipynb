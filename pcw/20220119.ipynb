{
  "nbformat": 4,
  "nbformat_minor": 0,
  "metadata": {
    "colab": {
      "name": "20220119.ipynb",
      "provenance": [],
      "collapsed_sections": []
    },
    "kernelspec": {
      "name": "python3",
      "display_name": "Python 3"
    },
    "language_info": {
      "name": "python"
    }
  },
  "cells": [
    {
      "cell_type": "code",
      "execution_count": 81,
      "metadata": {
        "colab": {
          "base_uri": "https://localhost:8080/",
          "height": 35
        },
        "id": "_-Dry1riuk7g",
        "outputId": "9ef590ce-829c-44d3-9992-92f7f21a2430"
      },
      "outputs": [
        {
          "output_type": "execute_result",
          "data": {
            "application/vnd.google.colaboratory.intrinsic+json": {
              "type": "string"
            },
            "text/plain": [
              "'gfedcbZA'"
            ]
          },
          "metadata": {},
          "execution_count": 81
        }
      ],
      "source": [
        "#문자열 내림차순으로 배차하기\n",
        "import re\n",
        "def solution(s):\n",
        "    s=list(s)\n",
        "    answer=''\n",
        "    if 1<= len(s):\n",
        "        for i in s:\n",
        "            if 'a' <= i <= 'z' or 'A' <= i <= 'Z':\n",
        "                pass\n",
        "            else:\n",
        "                return ''\n",
        "    else:\n",
        "        return ''\n",
        "\n",
        "    s.sort(reverse=True)\n",
        "    answer=''.join(s)\n",
        "\n",
        "    return answer\n",
        "solution('bcZdefAg')\n",
        "#문제 출처 https://programmers.co.kr/learn/courses/30/lessons/12917"
      ]
    },
    {
      "cell_type": "code",
      "source": [
        "#가운데 글자 가져오기\n",
        "\n",
        "def solution(s):\n",
        "    answer=''\n",
        "    if 1 <= len(s) <= 100:\n",
        "        pass\n",
        "    else:\n",
        "        return ''\n",
        "\n",
        "    # s=s.split()\n",
        "    if len(s)%2==0:\n",
        "        answer=s[len(s)//2-1:len(s)//2+1]\n",
        "    else:\n",
        "        answer=s[(len(s)//2)]\n",
        "\n",
        "\n",
        "    return answer\n",
        "solution(\"abcde\")\n",
        "\n",
        "#문제 출처 https://programmers.co.kr/learn/courses/30/lessons/12903"
      ],
      "metadata": {
        "colab": {
          "base_uri": "https://localhost:8080/",
          "height": 35
        },
        "id": "os_6O3R1xIhc",
        "outputId": "41abddf9-2290-4b1b-9685-bbbf90696c44"
      },
      "execution_count": 18,
      "outputs": [
        {
          "output_type": "execute_result",
          "data": {
            "application/vnd.google.colaboratory.intrinsic+json": {
              "type": "string"
            },
            "text/plain": [
              "'c'"
            ]
          },
          "metadata": {},
          "execution_count": 18
        }
      ]
    }
  ]
}