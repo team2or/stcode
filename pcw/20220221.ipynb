{
  "nbformat": 4,
  "nbformat_minor": 0,
  "metadata": {
    "colab": {
      "name": "20220221.ipynb",
      "provenance": [],
      "collapsed_sections": []
    },
    "kernelspec": {
      "name": "python3",
      "display_name": "Python 3"
    },
    "language_info": {
      "name": "python"
    }
  },
  "cells": [
    {
      "cell_type": "code",
      "execution_count": 14,
      "metadata": {
        "colab": {
          "base_uri": "https://localhost:8080/"
        },
        "id": "WEQDeuAavT0l",
        "outputId": "c9a053e4-f446-4936-bd53-38cbbc0bdf51"
      },
      "outputs": [
        {
          "output_type": "stream",
          "name": "stdout",
          "text": [
            "3\n",
            "10\n",
            "20\n",
            "40\n",
            "100\n"
          ]
        }
      ],
      "source": [
        "#카드 정렬하기\n",
        "\n",
        "N=int(input())\n",
        "\n",
        "if 1 <= N <= 100000:\n",
        "    pass\n",
        "else:\n",
        "    print('N의 범위 초과')\n",
        "\n",
        "\n",
        "N_list=[]\n",
        "for n in range(N):\n",
        "    N_list.append(input())\n",
        "\n",
        "\n",
        "for n in N_list:\n",
        "    if 1 <= int(n) <= 1000:\n",
        "        pass\n",
        "    else:\n",
        "        print('n의 범위 초과')\n",
        "\n",
        "N_list.sort()\n",
        "\n",
        "answer=0\n",
        "while len(N_list) > 1:\n",
        "    sum=(int(N_list[0])+int(N_list[1]))\n",
        "    N_list.pop(0)\n",
        "    N_list.pop(0)\n",
        "    N_list.insert(0,str(sum))\n",
        "    answer+=sum\n",
        "\n",
        "print(answer)\n",
        "\n",
        "\n",
        "#문제 출처 https://www.acmicpc.net/problem/1715"
      ]
    },
    {
      "cell_type": "code",
      "source": [
        "import heapq\n",
        "import sys\n",
        "\n",
        "N=int(input())\n",
        "\n",
        "if 1 <= N <= 100000:\n",
        "    pass\n",
        "else:\n",
        "    print('N의 범위 초과')\n",
        "\n",
        "N_list=[]\n",
        "for n in range(N):\n",
        "    h=input()\n",
        "    heapq.heappush(N_list,h)\n",
        "\n",
        "for n in N_list:\n",
        "    if 1 <= int(n) <= 1000:\n",
        "        pass\n",
        "    else:\n",
        "        print('n의 범위 초과')\n",
        "\n",
        "\n",
        "answer=0\n",
        "while len(N_list) > 1:\n",
        "    sum=(int(N_list[0])+int(N_list[1]))\n",
        "    heapq.heappop(N_list)\n",
        "    heapq.heappop(N_list)\n",
        "    heapq.heappush(N_list,str(sum))\n",
        "    answer+=sum\n",
        "\n",
        "print(answer)\n"
      ],
      "metadata": {
        "colab": {
          "base_uri": "https://localhost:8080/"
        },
        "id": "rLrfBdMa6Ka1",
        "outputId": "d0b8fc20-b7d6-48ee-da82-4c4be6533505"
      },
      "execution_count": 40,
      "outputs": [
        {
          "output_type": "stream",
          "name": "stdout",
          "text": [
            "3\n",
            "10\n",
            "20\n",
            "40\n",
            "100\n"
          ]
        }
      ]
    },
    {
      "cell_type": "code",
      "source": [
        "#없어진 기록 찾기\n",
        "#https://programmers.co.kr/learn/courses/30/lessons/59042\n",
        "\n",
        "SELECT o.ANIMAL_ID, o.NAME from ANIMAL_OUTS o left outer join ANIMAL_INS i on o.ANIMAL_ID  = i.ANIMAL_ID  where i.ANIMAL_ID  is null order by o.ANIMAL_ID"
      ],
      "metadata": {
        "id": "MOm-mD_N-RBL"
      },
      "execution_count": null,
      "outputs": []
    },
    {
      "cell_type": "code",
      "source": [
        "#있었는데요 없었습니다\n",
        "# https://programmers.co.kr/learn/courses/30/lessons/59043\n",
        "\n",
        "SELECT o.ANIMAL_ID,o.NAME from ANIMAL_OUTS o left outer join ANIMAL_INS i on o.ANIMAL_ID = i.ANIMAL_ID where o.DATETIME < i.DATETIME order by i.DATETIME"
      ],
      "metadata": {
        "id": "_TMullTdLLJU"
      },
      "execution_count": null,
      "outputs": []
    }
  ]
}