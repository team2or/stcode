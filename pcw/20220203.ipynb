{
  "nbformat": 4,
  "nbformat_minor": 0,
  "metadata": {
    "colab": {
      "name": "20220203.ipynb",
      "provenance": [],
      "collapsed_sections": []
    },
    "kernelspec": {
      "name": "python3",
      "display_name": "Python 3"
    },
    "language_info": {
      "name": "python"
    }
  },
  "cells": [
    {
      "cell_type": "code",
      "execution_count": 59,
      "metadata": {
        "colab": {
          "base_uri": "https://localhost:8080/"
        },
        "id": "DZMf67rGNBFu",
        "outputId": "6b2399b7-2746-4810-aeac-a43004c3a76a"
      },
      "outputs": [
        {
          "output_type": "execute_result",
          "data": {
            "text/plain": [
              "['######', '###  #', '##  ##', ' #### ', ' #####', '### # ']"
            ]
          },
          "metadata": {},
          "execution_count": 59
        }
      ],
      "source": [
        "#비밀지도\n",
        "\n",
        "def solution(n,arr1,arr2):\n",
        "    arr1_list=[] #2진수 변경 리스트\n",
        "    arr2_list=[] #2진수 변경 리스트\n",
        "    arr=[] #\n",
        "    answer=[] #출력\n",
        "\n",
        "    #제한사항\n",
        "    if 1 <= n <= 16:\n",
        "        if len(arr1) == n and len(arr2) == n:\n",
        "            for arr1_ in arr1:\n",
        "                if 0 <= len(bin(arr1_)) <= (2**n)-1:\n",
        "                    #2진수 변경 및 zfill을 사용하여 앞지리 0으로 자리 맞추기\n",
        "                    a1= bin(arr1_)[2:].zfill(n)\n",
        "                    arr1_list.append(a1)\n",
        "\n",
        "                else:\n",
        "                    return 'arr1의 정수 배열값 초과'\n",
        "            for arr2_ in arr2:\n",
        "                if 0 <= len(bin(arr2_)) <= (2**n)-1:\n",
        "                    #2진수 변경 및 zfill을 사용하여 앞지리 0으로 자리 맞추기\n",
        "                    a2= bin(arr2_)[2:].zfill(n)\n",
        "                    arr2_list.append(a2)\n",
        "\n",
        "                else:\n",
        "                    return 'arr2의 정수 배열값 초과'\n",
        "        else:\n",
        "            return '정수 배열의 길이 초과'\n",
        "    else:\n",
        "        return 'n의 값 범위 초과'\n",
        "\n",
        "    #확인용\n",
        "    # print(arr1_list)\n",
        "    # print(arr2_list)\n",
        "\n",
        "    #풀이 \n",
        "    for arr1_,arr2_ in  zip(arr1_list,arr2_list):\n",
        "        arr.clear()\n",
        "        for ar1,ar2 in zip(arr1_,arr2_):\n",
        "            if ar1 == '0' and ar2 == '0':\n",
        "                arr.append(' ')\n",
        "            else:\n",
        "                arr.append('#')\n",
        "        # print(arr) #확인용\n",
        "        answer.append(''.join(arr))\n",
        "        \n",
        "    return answer\n",
        "\n",
        "# solution(5,[9, 20, 28, 18, 11],[30, 1, 21, 17, 28] )\n",
        "solution(6,[46, 33, 33 ,22, 31, 50],[27 ,56, 19, 14, 14, 10])\n",
        "\n",
        "#문제 출처 https://programmers.co.kr/learn/courses/30/lessons/17681"
      ]
    }
  ]
}