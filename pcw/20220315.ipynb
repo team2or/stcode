{
  "nbformat": 4,
  "nbformat_minor": 0,
  "metadata": {
    "colab": {
      "name": "20220315.ipynb",
      "provenance": [],
      "collapsed_sections": []
    },
    "kernelspec": {
      "name": "python3",
      "display_name": "Python 3"
    },
    "language_info": {
      "name": "python"
    }
  },
  "cells": [
    {
      "cell_type": "code",
      "source": [
        "# 1, 2, 3 더하기\n",
        "# 답안\n",
        "#https://tooo1.tistory.com/112\n",
        "\n",
        "def f(x):\n",
        "    if x == 3:\n",
        "        return 4\n",
        "    if x == 2:\n",
        "        return 2\n",
        "    if x == 1:\n",
        "       return 1\n",
        "    else:\n",
        "        answer=f(x-1)+f(x-2)+f(x-3)\n",
        "        return answer\n",
        "\n",
        "T=int(input())\n",
        "\n",
        "for _ in range(T):\n",
        "    temp = int(input())\n",
        "    print(f(temp))"
      ],
      "metadata": {
        "colab": {
          "base_uri": "https://localhost:8080/"
        },
        "id": "jk3DvBt7aD_c",
        "outputId": "04dd88ed-63b5-4db4-bf52-bb166a1069a7"
      },
      "execution_count": 3,
      "outputs": [
        {
          "output_type": "stream",
          "name": "stdout",
          "text": [
            "3\n",
            "4\n",
            "7\n",
            "7\n",
            "44\n",
            "10\n",
            "274\n"
          ]
        }
      ]
    },
    {
      "cell_type": "code",
      "source": [
        "# Japan Population\n",
        "# https://www.hackerrank.com/challenges/japan-population/problem?isFullScreen=true\n",
        "\n",
        "select sum(population) from city where countrycode = 'jpn';"
      ],
      "metadata": {
        "id": "VHmsolwJjPyc"
      },
      "execution_count": null,
      "outputs": []
    },
    {
      "cell_type": "code",
      "source": [
        "# Top Earners\n",
        "# https://www.hackerrank.com/challenges/earnings-of-employees/problem?isFullScreen=true\n",
        "\n",
        "select max(m),max(c) from (select salary * months as m,count(*) as c from employee group by salary * months) as result;"
      ],
      "metadata": {
        "id": "by1uyGgTjP3n"
      },
      "execution_count": null,
      "outputs": []
    }
  ]
}