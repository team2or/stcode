{
 "cells": [
  {
   "cell_type": "code",
   "execution_count": 147,
   "metadata": {
    "colab": {
     "base_uri": "https://localhost:8080/",
     "height": 376
    },
    "executionInfo": {
     "elapsed": 343,
     "status": "error",
     "timestamp": 1640754479228,
     "user": {
      "displayName": "CW Park",
      "photoUrl": "https://lh3.googleusercontent.com/a/default-user=s64",
      "userId": "18212891703674381783"
     },
     "user_tz": -540
    },
    "id": "XACfXYfen5ye",
    "outputId": "494e1447-69db-4e31-f57d-b2d2d90c39b4"
   },
   "outputs": [
    {
     "data": {
      "text/plain": [
       "[1, 2, 3]"
      ]
     },
     "execution_count": 147,
     "metadata": {},
     "output_type": "execute_result"
    }
   ],
   "source": [
    "# 모의고사\n",
    "\n",
    "def solution(answers):\n",
    "    stu_1=[]\n",
    "    stu_2=[]\n",
    "    stu_3=[]\n",
    "    s1,s2,s3 = 0,0,0\n",
    "    answer_return=[]\n",
    "    for i in range(0,1000):         \n",
    "        for ans1 in range(1,6):\n",
    "            if len(stu_1) == 10000:\n",
    "                break\n",
    "            else:\n",
    "                stu_1.append(ans1)\n",
    "            \n",
    "        for ans2 in [1,3,4,5]:\n",
    "            if len(stu_2) == 10000:\n",
    "                break\n",
    "            else:\n",
    "                stu_2.append(2)\n",
    "                stu_2.append(ans2)\n",
    "\n",
    "        for ans3 in [3,1,2,4,5]:\n",
    "            if len(stu_3) == 10000:\n",
    "                break\n",
    "            else:\n",
    "                stu_3.append(ans3)\n",
    "                stu_3.append(ans3)\n",
    "                \n",
    "    for i in range(0,len(answers)):\n",
    "        if (stu_1[i]==answers[i]):\n",
    "            s1+=1\n",
    "        if (stu_2[i]==answers[i]):\n",
    "            s2+=1\n",
    "        if (stu_3[i]==answers[i]):\n",
    "            s3+=1\n",
    "            \n",
    "    s_num={1:s1,2:s2,3:s3}\n",
    "    answer_return=list(key for key, value in s_num.items() if value == max(s_num.values()))\n",
    "            \n",
    "    return  answer_return\n",
    "\n",
    "solution([1,3,2,4,2])\n",
    "\n",
    "\n",
    "#문제 출처 https://programmers.co.kr/learn/courses/30/lessons/42840"
   ]
  },
  {
   "cell_type": "code",
   "execution_count": 96,
   "metadata": {
    "colab": {
     "base_uri": "https://localhost:8080/"
    },
    "executionInfo": {
     "elapsed": 276,
     "status": "ok",
     "timestamp": 1640752027543,
     "user": {
      "displayName": "CW Park",
      "photoUrl": "https://lh3.googleusercontent.com/a/default-user=s64",
      "userId": "18212891703674381783"
     },
     "user_tz": -540
    },
    "id": "0_2ZX5uXqGil",
    "outputId": "01a99086-7ba5-482a-f3e8-f34bd81fc22b"
   },
   "outputs": [
    {
     "data": {
      "text/plain": [
       "[1, 10]"
      ]
     },
     "execution_count": 96,
     "metadata": {},
     "output_type": "execute_result"
    }
   ],
   "source": [
    "#최대공약수와 최소공배수\n",
    "def solution(n,m):\n",
    "    answer=''\n",
    "    if n <= 1000000 and n >=1 and m <= 1000000 and m >= 1:\n",
    "        fact_n=[] # n이 나누어 떨어지는 정수를 리스트화\n",
    "        fact_m=[] # m이 나누어 떨어지는 정수를 리스트화\n",
    "\n",
    "        mult_n=[] # n의 곱을 리스트화\n",
    "        mult_m=[] # m의 곱을 리스트화\n",
    "\n",
    "        num=1 #반복문을 쓸때 차례로 곱하기 위해\n",
    "\n",
    "        #최대 공약수\n",
    "        for i in range(1,n+1):\n",
    "            if n%i==0:\n",
    "                fact_n.append(i) \n",
    "        for i in range(1,m+1):\n",
    "            if m%i==0:\n",
    "                fact_m.append(i)\n",
    "\n",
    "        fact=set(fact_n)&set(fact_m)\n",
    "        m_fact=max(fact)\n",
    "\n",
    "        #최소 공배수\n",
    "        while True:\n",
    "            mult_n.append(n*num)\n",
    "            mult_m.append(m*num)\n",
    "            num+=1 \n",
    "            if set(mult_n)&set(mult_m):\n",
    "                m_mult=set(mult_n)&set(mult_m)\n",
    "                m_mult=list(m_mult)[0]\n",
    "                break\n",
    "\n",
    "        answer=[m_fact,m_mult]\n",
    "    else:\n",
    "        return '입력값이 초과 하였습니다.'\n",
    "\n",
    "    return answer\n",
    "\n",
    "solution(2,5)\n",
    "\n",
    "#문제 출처 https://programmers.co.kr/learn/courses/30/lessons/12940"
   ]
  }
 ],
 "metadata": {
  "colab": {
   "authorship_tag": "ABX9TyObQqsA7gf4vMLUFiub+G6O",
   "collapsed_sections": [],
   "name": "20211229.ipynb",
   "provenance": []
  },
  "kernelspec": {
   "display_name": "Python 3 (ipykernel)",
   "language": "python",
   "name": "python3"
  },
  "language_info": {
   "codemirror_mode": {
    "name": "ipython",
    "version": 3
   },
   "file_extension": ".py",
   "mimetype": "text/x-python",
   "name": "python",
   "nbconvert_exporter": "python",
   "pygments_lexer": "ipython3",
   "version": "3.9.7"
  }
 },
 "nbformat": 4,
 "nbformat_minor": 1
}
