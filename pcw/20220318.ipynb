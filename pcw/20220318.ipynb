{
  "nbformat": 4,
  "nbformat_minor": 0,
  "metadata": {
    "colab": {
      "name": "20220318.ipynb",
      "provenance": [],
      "collapsed_sections": []
    },
    "kernelspec": {
      "name": "python3",
      "display_name": "Python 3"
    },
    "language_info": {
      "name": "python"
    }
  },
  "cells": [
    {
      "cell_type": "code",
      "execution_count": 6,
      "metadata": {
        "colab": {
          "base_uri": "https://localhost:8080/"
        },
        "id": "Bd7-oRjCzzDF",
        "outputId": "21f539e8-6ac1-4e22-fa35-8f04bbc13674"
      },
      "outputs": [
        {
          "output_type": "stream",
          "name": "stdout",
          "text": [
            "8 9\n",
            "84\n"
          ]
        }
      ],
      "source": [
        "# 거꾸로 구구단\n",
        "# https://www.acmicpc.net/problem/13410\n",
        "\n",
        "N,K=map(int,input().split())\n",
        "\n",
        "if 1 <= N <= 1000: \n",
        "    if 1 <= K <= 1000:\n",
        "        pass\n",
        "    else:\n",
        "        print('K의 범위 초과')\n",
        "else:\n",
        "    print('N의 범위 초과')\n",
        "\n",
        "\n",
        "temp=[]\n",
        "for i in range(1,K+1):\n",
        "    temp.append(int(str(N*i)[::-1])) #문자열로 변경후 슬라이싱으로 위치를 바꾼뒤 정수형으로 변경\n",
        "\n",
        "print(max(temp))"
      ]
    },
    {
      "cell_type": "code",
      "source": [
        "# Weather Observation Station 14\n",
        "# https://www.hackerrank.com/challenges/weather-observation-station-14/problem?isFullScreen=true\n",
        "\n",
        "select round(max(LAT_N),4) from station where LAT_N <= 137.2345;"
      ],
      "metadata": {
        "id": "ISzgkaxs5j9w"
      },
      "execution_count": null,
      "outputs": []
    },
    {
      "cell_type": "code",
      "source": [
        "# Average Population of Each Continent\n",
        "# https://www.hackerrank.com/challenges/average-population-of-each-continent/problem?isFullScreen=true\n",
        "\n",
        "select country.continent , floor(avg(city.population)) from city join country on city.countrycode = country.code group by country.continent;"
      ],
      "metadata": {
        "id": "KcQRv-Bb5kBN"
      },
      "execution_count": null,
      "outputs": []
    }
  ]
}