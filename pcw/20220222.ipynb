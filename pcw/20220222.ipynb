{
  "nbformat": 4,
  "nbformat_minor": 0,
  "metadata": {
    "colab": {
      "name": "20220222.ipynb",
      "provenance": [],
      "collapsed_sections": []
    },
    "kernelspec": {
      "name": "python3",
      "display_name": "Python 3"
    },
    "language_info": {
      "name": "python"
    }
  },
  "cells": [
    {
      "cell_type": "code",
      "execution_count": 12,
      "metadata": {
        "colab": {
          "base_uri": "https://localhost:8080/"
        },
        "id": "rcMBdT5hD8dK",
        "outputId": "84aaec5b-181d-4ea1-a273-bc2f76ef326a"
      },
      "outputs": [
        {
          "output_type": "stream",
          "name": "stdout",
          "text": [
            "4\n",
            "2 3 4 3\n",
            "7\n"
          ]
        }
      ],
      "source": [
        "# 이장님 초대\n",
        "\n",
        "N=int(input())\n",
        "\n",
        "if 1 <= N <= 100000:\n",
        "    pass\n",
        "else:\n",
        "    print('N의 범위 초과')\n",
        "\n",
        "t_list=list(map(int,input().split()))\n",
        "\n",
        "if len(t_list) == N:\n",
        "    pass\n",
        "else:\n",
        "    print('t_list의 길이가 N값과 다릅니다.')\n",
        "\n",
        "for t_ in t_list:\n",
        "    if 1 <= t_ <= 1000000:\n",
        "        pass\n",
        "    else:\n",
        "        print('t의 범위 초과')\n",
        "\n",
        "t_list.sort(reverse=True)\n",
        "\n",
        "for t in range(len(t_list)):\n",
        "    t_list[t]+=t+2 # 구입한날 심은 1일 + 다 자란 다음날 1일 = 2\n",
        "\n",
        "answer=max(t_list)\n",
        "\n",
        "print(answer)\n",
        "\n",
        "\n",
        "\n",
        "#문제 출처 https://www.acmicpc.net/problem/9237"
      ]
    },
    {
      "cell_type": "code",
      "source": [
        "#오랜 기간 보호한 동물(1)\n",
        "#https://programmers.co.kr/learn/courses/30/lessons/59044\n",
        "\n",
        "SELECT i.NAME, i.DATETIME from ANIMAL_INS i left join ANIMAL_OUTS o on i.ANIMAL_ID = o.ANIMAL_ID where o.DATETIME is null order by i.DATETIME limit 3"
      ],
      "metadata": {
        "id": "sJ6YPq5cF8_m"
      },
      "execution_count": null,
      "outputs": []
    },
    {
      "cell_type": "code",
      "source": [
        "#보호소에서 중성화한 동물\n",
        "#https://programmers.co.kr/learn/courses/30/lessons/59045\n",
        "\n",
        "SELECT o.ANIMAL_ID,o.ANIMAL_TYPE,o.NAME from ANIMAL_INS i left join ANIMAL_OUTS o on i.ANIMAL_ID = o.ANIMAL_ID where SEX_UPON_INTAKE like 'Intact%' and SEX_UPON_OUTCOME not like 'Intact%' order by ANIMAL_ID"
      ],
      "metadata": {
        "id": "WgS1iACKRh4F"
      },
      "execution_count": null,
      "outputs": []
    }
  ]
}