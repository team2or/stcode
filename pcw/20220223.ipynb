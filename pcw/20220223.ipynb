{
  "nbformat": 4,
  "nbformat_minor": 0,
  "metadata": {
    "colab": {
      "name": "20220223.ipynb",
      "provenance": [],
      "collapsed_sections": []
    },
    "kernelspec": {
      "name": "python3",
      "display_name": "Python 3"
    },
    "language_info": {
      "name": "python"
    }
  },
  "cells": [
    {
      "cell_type": "code",
      "execution_count": 7,
      "metadata": {
        "colab": {
          "base_uri": "https://localhost:8080/"
        },
        "id": "Cu-zgdTOeCpM",
        "outputId": "adc9105c-e8ed-41dc-b299-c83a5fef227c"
      },
      "outputs": [
        {
          "output_type": "execute_result",
          "data": {
            "text/plain": [
              "[8, 6]"
            ]
          },
          "metadata": {},
          "execution_count": 7
        }
      ],
      "source": [
        "# 카펫\n",
        "# https://programmers.co.kr/learn/courses/30/lessons/42842\n",
        "\n",
        "def solution(brown,yellow):\n",
        "    #제한사항\n",
        "    if 8 <= brown <= 5000:\n",
        "        if 1 <= yellow <= 2000000:\n",
        "            pass\n",
        "        else:\n",
        "            return 'yellow의 범위 초과'\n",
        "    else:\n",
        "        return 'brown의 범위 초과'\n",
        "    \n",
        "    sum_meas=[] #약수를 넣을 리스트\n",
        "    sum=brown+yellow #합\n",
        "    #약수 추출\n",
        "    for sum_ in range(1,sum+1):\n",
        "        if sum%sum_ == 0:\n",
        "            sum_meas.append(sum_)\n",
        "\n",
        "    v=sum #최솟값을 넣기위해 지정\n",
        "    h=0\n",
        "    for i in sum_meas:\n",
        "        for j in sum_meas:\n",
        "            if i >= j:\n",
        "                if i*j == sum:\n",
        "                    if v >= i: #최솟값\n",
        "                        v=i\n",
        "                    if h <= j: #최대값\n",
        "                        h=j\n",
        "    answer=[v,h]\n",
        "    return answer\n",
        "\n",
        "# solution(10,2)\n",
        "# solution(8,1)\n",
        "# solution(24,24)"
      ]
    },
    {
      "cell_type": "code",
      "source": [
        "#Weather Observation Station 1\n",
        "#https://www.hackerrank.com/challenges/weather-observation-station-1/problem?isFullScreen=true\n",
        "\n",
        "select city, state from station;"
      ],
      "metadata": {
        "id": "16RdAdIje7S2"
      },
      "execution_count": null,
      "outputs": []
    },
    {
      "cell_type": "code",
      "source": [
        "#Weather Observation Station 3\n",
        "#https://www.hackerrank.com/challenges/weather-observation-station-3/problem?isFullScreen=true\n",
        "\n",
        "select distinct city from station where mod(id,2) = 0;"
      ],
      "metadata": {
        "id": "9Brj_DKWe7VR"
      },
      "execution_count": null,
      "outputs": []
    },
    {
      "cell_type": "markdown",
      "source": [
        ""
      ],
      "metadata": {
        "id": "8_pgfdnLgBvM"
      }
    }
  ]
}