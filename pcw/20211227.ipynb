{
 "cells": [
  {
   "cell_type": "code",
   "execution_count": 59,
   "id": "9c6752ef",
   "metadata": {},
   "outputs": [
    {
     "data": {
      "text/plain": [
       "'Ba aC'"
      ]
     },
     "execution_count": 59,
     "metadata": {},
     "output_type": "execute_result"
    }
   ],
   "source": [
    "#시버암호\n",
    "def solution(s,n):\n",
    "    answer=''\n",
    "    s_ord=[]\n",
    "    if len(s) <= 8000 and n >= 1 and n <= 25 :\n",
    "            \n",
    "            for i in range(0,len(s)):\n",
    "                o_s=ord(s[i])\n",
    "                if o_s==32 or o_s in range(65,91) or o_s in range(97,123):\n",
    "                    s_ord.append(o_s)\n",
    "                    if s_ord[i] == 32:\n",
    "                        s_ord[i]=32\n",
    "                    else:\n",
    "                        s_ord_ov=s_ord[i]+n\n",
    "                        s_ord[i]=s_ord_ov\n",
    "                        if s_ord_ov >= 91:\n",
    "                            s_ord[i]=(s_ord_ov-90)+64\n",
    "                        elif s_ord_ov >= 123:\n",
    "                            s_ord[i]=(s_ord_ov-122)+96\n",
    "                    s_ord[i]=chr(s_ord[i])\n",
    "                    answer=''.join(s_ord)\n",
    "                else:\n",
    "                    return '조건 2번과 일치하지 않습니다.'\n",
    "    else:\n",
    "        return '조건3 or 조건4 에 대해 일치하지 않습니다.'\n",
    "\n",
    "    return answer\n",
    "\n",
    "solution('Az zB',1)\n",
    "\n",
    "#문제 출처 https://programmers.co.kr/learn/courses/30/lessons/12926"
   ]
  }
 ],
 "metadata": {
  "kernelspec": {
   "display_name": "Python 3 (ipykernel)",
   "language": "python",
   "name": "python3"
  },
  "language_info": {
   "codemirror_mode": {
    "name": "ipython",
    "version": 3
   },
   "file_extension": ".py",
   "mimetype": "text/x-python",
   "name": "python",
   "nbconvert_exporter": "python",
   "pygments_lexer": "ipython3",
   "version": "3.9.7"
  }
 },
 "nbformat": 4,
 "nbformat_minor": 5
}
