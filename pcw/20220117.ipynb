{
  "nbformat": 4,
  "nbformat_minor": 0,
  "metadata": {
    "colab": {
      "name": "20220117.ipynb",
      "provenance": [],
      "collapsed_sections": []
    },
    "kernelspec": {
      "name": "python3",
      "display_name": "Python 3"
    },
    "language_info": {
      "name": "python"
    }
  },
  "cells": [
    {
      "cell_type": "code",
      "source": [
        "# [카카오 인턴] 키패드 누르기\n",
        "def solution(numbers,hand):\n",
        "    # 키패드 배열 사전형으로 만들기\n",
        "    num={}\n",
        "    pad=[1,2,3,4,5,6,7,8,9,'*',0,'#']\n",
        "    arr=[]\n",
        "    for i in range(4):\n",
        "        for j in range(3):\n",
        "            arr.append((i,j))\n",
        "\n",
        "    for k in range(len(pad)):\n",
        "        num[pad[k]]=arr[k]\n",
        "    # print(num)\n",
        "\n",
        "    #변수\n",
        "    answer=''\n",
        "    left=num['*']\n",
        "    right=num['#']\n",
        "\n",
        "    #제한 사항\n",
        "    if 1 <= len(numbers) <= 1000:\n",
        "        for number in numbers:\n",
        "            if 0 <= number <= 9:\n",
        "                pass\n",
        "            else:\n",
        "                return '원소값이 초과 되었습니다.'\n",
        "    else:\n",
        "        return '배열의 크기가 초과 되었습니다.'\n",
        "\n",
        "    if hand.lower() == 'left' or hand.lower() == 'right':\n",
        "        pass\n",
        "    else:\n",
        "        return '손잡이를 바르게 입력해주세요'\n",
        "\n",
        "    #문제\n",
        "    for i in numbers:\n",
        "        if i in [1,4,7]:\n",
        "            answer+='L'\n",
        "            left=num[i]\n",
        "        elif i in [3,6,9]:\n",
        "            answer+='R'\n",
        "            right=num[i]\n",
        "        else:\n",
        "            num_dict=num[i]\n",
        "            left_squ=(num_dict[0]-left[0])**2 + (num_dict[1]-left[1])**2\n",
        "            right_squ=(num_dict[0]-right[0])**2 + (num_dict[1]-right[1])**2\n",
        "            \n",
        "\n",
        "            if left_squ < right_squ:\n",
        "                left=num[i]\n",
        "                answer+='L'\n",
        "            elif left_squ > right_squ:\n",
        "                right=num[i]\n",
        "                answer+='R'\n",
        "            else:\n",
        "                if hand == 'left':\n",
        "                    answer+='L'\n",
        "                    left=num[i]\n",
        "                else:\n",
        "                    answer+='R'\n",
        "                    right=num[i]\n",
        "\n",
        "\n",
        "    return answer\n",
        "solution([7, 0, 8, 2, 8, 3, 1, 5, 7, 6, 2],\"left\")\n",
        "\n",
        "# 문제 출처 https://programmers.co.kr/learn/courses/30/lessons/67256"
      ],
      "metadata": {
        "colab": {
          "base_uri": "https://localhost:8080/",
          "height": 35
        },
        "id": "BVdX9-YeFzjb",
        "outputId": "f4f21399-f59d-4a14-bed5-139988d9cdc0"
      },
      "execution_count": null,
      "outputs": [
        {
          "output_type": "execute_result",
          "data": {
            "application/vnd.google.colaboratory.intrinsic+json": {
              "type": "string"
            },
            "text/plain": [
              "'LRLLRRLLLRR'"
            ]
          },
          "metadata": {},
          "execution_count": 2
        }
      ]
    },
    {
      "cell_type": "code",
      "source": [
        "# 수박수박수박수박수박수?\n",
        "def solution(n):\n",
        "    answer=''\n",
        "    if 0 <= n <= 10000:\n",
        "        for i in range(n):\n",
        "            if i % 2 ==1:\n",
        "                answer+='박'\n",
        "            else:\n",
        "                answer+='수'\n",
        "\n",
        "    return answer\n",
        "solution(10)\n",
        "\n",
        "# 문제 출처 https://programmers.co.kr/learn/courses/30/lessons/12922"
      ],
      "metadata": {
        "colab": {
          "base_uri": "https://localhost:8080/",
          "height": 35
        },
        "id": "OG3G3k0WeVRL",
        "outputId": "3473cf43-ecac-4c7c-9ef9-54acfd261109"
      },
      "execution_count": null,
      "outputs": [
        {
          "output_type": "execute_result",
          "data": {
            "application/vnd.google.colaboratory.intrinsic+json": {
              "type": "string"
            },
            "text/plain": [
              "'수박수박수박수박수박'"
            ]
          },
          "metadata": {},
          "execution_count": 4
        }
      ]
    }
  ]
}