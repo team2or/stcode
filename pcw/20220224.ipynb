{
  "nbformat": 4,
  "nbformat_minor": 0,
  "metadata": {
    "colab": {
      "name": "20220224.ipynb",
      "provenance": [],
      "collapsed_sections": []
    },
    "kernelspec": {
      "name": "python3",
      "display_name": "Python 3"
    },
    "language_info": {
      "name": "python"
    }
  },
  "cells": [
    {
      "cell_type": "code",
      "execution_count": null,
      "metadata": {
        "id": "lPVGpcoXO6a4"
      },
      "outputs": [],
      "source": [
        "#전화번호 목록\n",
        "# https://programmers.co.kr/learn/courses/30/lessons/42577\n",
        "\n",
        "def solution(phone_book):\n",
        "    if 1 <= phone_book <= 1000000:\n",
        "        for p in phone_book:\n",
        "            if 1<= len(p) <= 20:\n",
        "                if set(phone_book) == phone_book:\n",
        "                    pass\n",
        "                else:\n",
        "                    return '중복값'\n",
        "            else:\n",
        "                return '각 번호 길의 범위 초과'\n",
        "    else:\n",
        "        return 'phone_book의 길이 초과'\n",
        "\n",
        "    answer = True\n",
        "    phone_book.sort(key=len)\n",
        "    for i in range(len(phone_book)):\n",
        "        for j in range(len(phone_book)):\n",
        "            if i < j and phone_book[i] in phone_book[j][:len(phone_book[i])]:\n",
        "                return not answer\n",
        "    return answer\n",
        "    \n",
        "#효율성 3,4 불합격"
      ]
    },
    {
      "cell_type": "code",
      "source": [
        "#Revising the Select Query I\n",
        "#https://www.hackerrank.com/challenges/revising-the-select-query/problem?isFullScreen=true\n",
        "\n",
        "select * from city where population > 100000 and countrycode = 'usa';"
      ],
      "metadata": {
        "id": "sLTmW6ghQmL7"
      },
      "execution_count": null,
      "outputs": []
    },
    {
      "cell_type": "code",
      "source": [
        "#Weather Observation Station 4\n",
        "# https://www.hackerrank.com/challenges/weather-observation-station-4/problem?isFullScreen=true\n",
        "\n",
        "select count(city)-count(distinct city) from station;"
      ],
      "metadata": {
        "id": "Zj1gGbboQmOh"
      },
      "execution_count": null,
      "outputs": []
    }
  ]
}