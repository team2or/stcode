{
  "nbformat": 4,
  "nbformat_minor": 0,
  "metadata": {
    "colab": {
      "name": "20220128.ipynb",
      "provenance": [],
      "collapsed_sections": []
    },
    "kernelspec": {
      "name": "python3",
      "display_name": "Python 3"
    },
    "language_info": {
      "name": "python"
    }
  },
  "cells": [
    {
      "cell_type": "code",
      "execution_count": 53,
      "metadata": {
        "colab": {
          "base_uri": "https://localhost:8080/"
        },
        "id": "-RNEzwzQvtHY",
        "outputId": "1eb1ef0f-90dc-488e-eb8a-8ce194960635"
      },
      "outputs": [
        {
          "output_type": "stream",
          "name": "stdout",
          "text": [
            "11\n",
            "1 4\n",
            "3 5\n",
            "0 6\n",
            "5 7\n",
            "3 8\n",
            "5 9\n",
            "6 10\n",
            "8 11\n",
            "8 12\n",
            "2 13\n",
            "12 14\n",
            "4\n"
          ]
        }
      ],
      "source": [
        "#회의실 배정\n",
        "time_list=[]\n",
        "answer=[]\n",
        "N=int(input())\n",
        "if 1 <= N <= 100000: #조건\n",
        "    for i in range(N):\n",
        "        time=list(map(int,input().split()))\n",
        "        time_list.append(time)\n",
        "        # print(time)\n",
        "\n",
        "        # 입력 생략 (윗줄 주석처리)\n",
        "        # time_list=[[1,4],[3,5],[0,6],[5,7],[3,8],[5,9],[6,10],[8,11],[8,12],[2,13],[12,14]]\n",
        "\n",
        "    #조건\n",
        "    for s,e in time_list:\n",
        "        if 0 <= s <= e <= (2**31)-1:\n",
        "            pass\n",
        "        else:\n",
        "            print('time 범위 값 초과')\n",
        "\n",
        "    #시작시간을 기준으로 정렬\n",
        "    time_list.sort(key=lambda x:x[0])\n",
        "    # print(time_list)\n",
        "\n",
        "    \n",
        "    for i in range(0,len(time_list)-1):\n",
        "        time_order=[]\n",
        "        time_order.clear()\n",
        "        time_order.append(time_list[i])\n",
        "\n",
        "        #time_order 리스트의 추가된 끝나는 시작보다 시작시간이 클경우 time_order에 추가\n",
        "        for j in range(i+1,len(time_list)-1): \n",
        "            if time_order[-1][1] <= time_list[j+1][0]:\n",
        "                time_order.append(time_list[j])\n",
        "            else:\n",
        "                pass\n",
        "\n",
        "        #숫자로 추가\n",
        "        answer.append(len(time_order))\n",
        "        # print(time_order)\n",
        "\n",
        "    #최댓값 출력\n",
        "    print(max(answer))\n",
        "\n",
        "#문제 출처 https://www.acmicpc.net/problem/1931"
      ]
    },
    {
      "cell_type": "code",
      "source": [
        "#로프\n",
        "W_list=[]\n",
        "answer=0\n",
        "N=int(input(''))\n",
        "if 1 <= N <= 100000:\n",
        "    for n in range(N):\n",
        "        W=int(input(''))\n",
        "        if 1 <= W <= 10000:\n",
        "            W_list.append(W)\n",
        "        else:\n",
        "            print('W의 범위 초과')\n",
        "            break\n",
        "    answer=min(W_list)*N\n",
        "else:\n",
        "    print('N의 범위 값 초과')\n",
        "print(answer)\n",
        "\n",
        "\n",
        "\n",
        "#문제 출처 https://www.acmicpc.net/problem/2217"
      ],
      "metadata": {
        "id": "AhTJIDRH2OIi"
      },
      "execution_count": null,
      "outputs": []
    },
    {
      "cell_type": "code",
      "source": [
        "1"
      ],
      "metadata": {
        "id": "5BucgWU15rB7"
      },
      "execution_count": null,
      "outputs": []
    }
  ]
}