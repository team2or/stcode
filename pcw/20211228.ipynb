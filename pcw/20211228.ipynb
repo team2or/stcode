{
 "cells": [
  {
   "cell_type": "code",
   "execution_count": 45,
   "id": "6c7f6421",
   "metadata": {},
   "outputs": [
    {
     "data": {
      "text/plain": [
       "'조건을 초과하였습니다.'"
      ]
     },
     "execution_count": 45,
     "metadata": {},
     "output_type": "execute_result"
    }
   ],
   "source": [
    "#자연수 뒤집어 배열로 만들기\n",
    "\n",
    "def solution(n):\n",
    "    answer=[]\n",
    "    try:\n",
    "        if n<=10000000000 and n > 0:\n",
    "            n_str=str(n)\n",
    "            for i in range(0,len(n_str)):\n",
    "                answer.append(n_str[i])\n",
    "            answer.reverse()\n",
    "        else:\n",
    "            return '조건을 초과하였습니다.'\n",
    "    except TypeError:\n",
    "        return '자연수가 아닙니다.'\n",
    "    else:\n",
    "\n",
    "        return answer\n",
    "\n",
    "solution(1232132113213)\n",
    "\n",
    "#문제 출처 https://programmers.co.kr/learn/courses/30/lessons/12932"
   ]
  },
  {
   "cell_type": "code",
   "execution_count": 157,
   "id": "ef16afb4",
   "metadata": {},
   "outputs": [
    {
     "data": {
      "text/plain": [
       "'날짜가 맞지 않습니다.'"
      ]
     },
     "execution_count": 157,
     "metadata": {},
     "output_type": "execute_result"
    }
   ],
   "source": [
    "# 2016년\n",
    "\n",
    "def solution(a,b):\n",
    "    answer=''\n",
    "    week=['MON','TUE','WED','THU','FRI','SAT','SUN']\n",
    "    m_days=[31,29,31,30,31,30,31,31,30,31,30,31]\n",
    "    m_d={} #월일:요일 사전형\n",
    "    md=[] #사전형으로 만들기 위한 월일 리스트\n",
    "    we=[] #사전형으로 만들기 위한 요일 리스트\n",
    "    if a >= 1 and a <=12 and b >= 1 and b <= m_days[a]:\n",
    "        for m in range(1,13):\n",
    "            for d in range(1,(m_days[m-1]+1)):\n",
    "                md.append((m,d))\n",
    "\n",
    "                for w in range(0,len(week)):\n",
    "                    we.append(week[w-3])\n",
    "\n",
    "        for i in range(0,sum(m_days)):\n",
    "            m_d[md[i]]=we[i]\n",
    "        md=(a,b)\n",
    "        answer=m_d[md]\n",
    "\n",
    "        return answer\n",
    "    else:\n",
    "        return '날짜가 맞지 않습니다.'\n",
    "\n",
    "solution(5,55)\n",
    "\n",
    "#문제 출처 https://programmers.co.kr/learn/courses/30/lessons/12901"
   ]
  },
  {
   "cell_type": "code",
   "execution_count": 154,
   "id": "771ddb4d",
   "metadata": {},
   "outputs": [
    {
     "data": {
      "text/plain": [
       "'TUE'"
      ]
     },
     "execution_count": 154,
     "metadata": {},
     "output_type": "execute_result"
    }
   ],
   "source": [
    "# 2016년 다른 방법\n",
    "\n",
    "import calendar\n",
    "def solution(a,b):\n",
    "    week=['MON','TUE','WED','THU','FRI','SAT','SUN']\n",
    "    answer=''\n",
    "    week_num=calendar.weekday(2016,a,b)\n",
    "    answer=week[week_num]\n",
    "    return answer\n",
    "solution(5,24)"
   ]
  },
  {
   "cell_type": "code",
   "execution_count": null,
   "id": "92558cce",
   "metadata": {},
   "outputs": [],
   "source": []
  }
 ],
 "metadata": {
  "kernelspec": {
   "display_name": "Python 3 (ipykernel)",
   "language": "python",
   "name": "python3"
  },
  "language_info": {
   "codemirror_mode": {
    "name": "ipython",
    "version": 3
   },
   "file_extension": ".py",
   "mimetype": "text/x-python",
   "name": "python",
   "nbconvert_exporter": "python",
   "pygments_lexer": "ipython3",
   "version": "3.9.7"
  }
 },
 "nbformat": 4,
 "nbformat_minor": 5
}
