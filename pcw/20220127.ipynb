{
  "nbformat": 4,
  "nbformat_minor": 0,
  "metadata": {
    "colab": {
      "name": "20220127.ipynb",
      "provenance": [],
      "collapsed_sections": []
    },
    "kernelspec": {
      "name": "python3",
      "display_name": "Python 3"
    },
    "language_info": {
      "name": "python"
    }
  },
  "cells": [
    {
      "cell_type": "code",
      "execution_count": 6,
      "metadata": {
        "colab": {
          "base_uri": "https://localhost:8080/"
        },
        "id": "WSqUjReLAMEp",
        "outputId": "9fa69273-a347-4c8a-c315-6a6d83214867"
      },
      "outputs": [
        {
          "output_type": "execute_result",
          "data": {
            "text/plain": [
              "52"
            ]
          },
          "metadata": {},
          "execution_count": 6
        }
      ],
      "source": [
        "#약수의 개수와 덧셈\n",
        "\n",
        "def solution(left,right):\n",
        "    answer=0\n",
        "    measure=[] #약수를 넣기 위한 변수\n",
        "    if 1 <= left <= right <= 1000:\n",
        "        for LR in range(left,right+1):\n",
        "            measure.clear() #변수 초기화\n",
        "            for i in range(1,LR+1):\n",
        "                if LR % i == 0:\n",
        "                    measure.append(i) #약수 추가\n",
        "                else:\n",
        "                    pass\n",
        "            if len(measure)%2==0: #짝수\n",
        "                answer+=i\n",
        "            else:\n",
        "                answer-=i\n",
        "    else:\n",
        "        return '범위값 초과'\n",
        "\n",
        "    return answer\n",
        "\n",
        "# solution(13,17)\n",
        "solution(24,27)\n",
        "\n",
        "#문제 출처 https://programmers.co.kr/learn/courses/30/lessons/77884"
      ]
    },
    {
      "cell_type": "code",
      "source": [
        "#[1차]다트 게임\n",
        "import re\n",
        "def solution(dartResult):\n",
        "    answer=0\n",
        "    dart_list=[]\n",
        "    dart_num=[]\n",
        "    #정규식 확인 후 리스트로 나타내기\n",
        "    for dart in dartResult:\n",
        "        if re.search('[0-9SDT*#]+',dart):\n",
        "                dart_list.append(dart)\n",
        "        else:\n",
        "            return 'dartResult 정규식 x'\n",
        "    # print(dart_list)\n",
        "\n",
        "    #10을 나타내기 위해서\n",
        "    for i in range(1,len(dart_list)):\n",
        "        if dart_list[i-1:i+1]==['1','0']:\n",
        "            dart_list[i-1:i+1]=['10']\n",
        "        else:\n",
        "            pass\n",
        "\n",
        "    #표현식\n",
        "    for dart_ in dart_list:\n",
        "        if dart_ in re.compile('\\d+').findall(dartResult): # 숫자값만 추가하기 위한 정규식 리스트\n",
        "            dart_num.append(int(dart_))\n",
        "        else:\n",
        "            if dart_ == 'S':\n",
        "                dart_num[-1]**=1\n",
        "            if dart_ == 'D':\n",
        "                dart_num[-1]**=2\n",
        "            if dart_ == 'T':\n",
        "                dart_num[-1]**=3\n",
        "            if dart_ == '*':\n",
        "                for num in range(-1,-3,-1): # 전 리스트 까지\n",
        "                    dart_num[num]*=2\n",
        "            if dart_ == '#':\n",
        "                dart_num[-1]*=(-1)\n",
        "    #합\n",
        "    for i in dart_num:\n",
        "        answer+=i\n",
        "\n",
        "    return answer\n",
        "# solution('1S2D*3T')\n",
        "# solution('1D2S#10S')\n",
        "# solution('1D2S0T')\n",
        "# solution('1S*2T*3S')\n",
        "# solution('1D#2S*3S')\n",
        "# solution('1T2D3D#')\n",
        "solution('1D2S3T*')\n",
        "\n",
        "#문제 출처 https://programmers.co.kr/learn/courses/30/lessons/17682"
      ],
      "metadata": {
        "colab": {
          "base_uri": "https://localhost:8080/"
        },
        "id": "EifQztmDBWJ8",
        "outputId": "a4b3bc81-17d4-4c5c-b108-ba856cd49e0f"
      },
      "execution_count": 167,
      "outputs": [
        {
          "output_type": "execute_result",
          "data": {
            "text/plain": [
              "-4"
            ]
          },
          "metadata": {},
          "execution_count": 167
        }
      ]
    },
    {
      "cell_type": "code",
      "source": [
        ""
      ],
      "metadata": {
        "id": "Hq3zAmJyMVCa"
      },
      "execution_count": null,
      "outputs": []
    }
  ]
}