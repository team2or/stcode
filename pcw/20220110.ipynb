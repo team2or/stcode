{
  "nbformat": 4,
  "nbformat_minor": 0,
  "metadata": {
    "colab": {
      "name": "20220110.ipynb",
      "provenance": [],
      "collapsed_sections": []
    },
    "kernelspec": {
      "name": "python3",
      "display_name": "Python 3"
    },
    "language_info": {
      "name": "python"
    }
  },
  "cells": [
    {
      "cell_type": "code",
      "execution_count": null,
      "metadata": {
        "colab": {
          "base_uri": "https://localhost:8080/"
        },
        "id": "mapg2ceECBL-",
        "outputId": "fc825c52-812d-4e9e-d86e-fcc48fc3c927"
      },
      "outputs": [
        {
          "output_type": "execute_result",
          "data": {
            "text/plain": [
              "6"
            ]
          },
          "metadata": {},
          "execution_count": 44
        }
      ],
      "source": [
        "#없는 숫자 더하기\n",
        "def solution(numbers):\n",
        "    \n",
        "    answer=0\n",
        "    num=[]\n",
        "    if len(numbers) != len(set(number)):\n",
        "        if len(numbers) >= 1 and len(numbers) <= 9:\n",
        "            for i in range(0,10):\n",
        "                if i not in numbers:\n",
        "                    answer=answer+i\n",
        "            return answer\n",
        "        else:\n",
        "            return '길이가 초과하였습니다.'\n",
        "    else:\n",
        "        return '중복값이 있습니다.'\n",
        "                        \n",
        "solution([5,8,4,0,6,7,9])\n",
        "\n",
        "#문제 출처 https://programmers.co.kr/learn/courses/30/lessons/86051"
      ]
    },
    {
      "cell_type": "code",
      "source": [
        ""
      ],
      "metadata": {
        "id": "xwFvfcAeELec"
      },
      "execution_count": null,
      "outputs": []
    }
  ]
}