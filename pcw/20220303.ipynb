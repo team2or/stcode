{
  "nbformat": 4,
  "nbformat_minor": 0,
  "metadata": {
    "colab": {
      "name": "20220303.ipynb",
      "provenance": [],
      "collapsed_sections": []
    },
    "kernelspec": {
      "name": "python3",
      "display_name": "Python 3"
    },
    "language_info": {
      "name": "python"
    }
  },
  "cells": [
    {
      "cell_type": "code",
      "execution_count": 17,
      "metadata": {
        "colab": {
          "base_uri": "https://localhost:8080/",
          "height": 35
        },
        "id": "DUVd2UVcQ9oy",
        "outputId": "e44901d7-45b7-47ad-e85d-89d0c82fcee5"
      },
      "outputs": [
        {
          "output_type": "execute_result",
          "data": {
            "application/vnd.google.colaboratory.intrinsic+json": {
              "type": "string"
            },
            "text/plain": [
              "'6210'"
            ]
          },
          "metadata": {},
          "execution_count": 17
        }
      ],
      "source": [
        "#문제를 잘못 인식\n",
        "from itertools import permutations\n",
        "\n",
        "def solution(numbers):\n",
        "    answer = ''\n",
        "    temp=[]\n",
        "    numbers_str=list(map(str,numbers))\n",
        "    per=permutations(numbers_str,len(numbers))\n",
        "    for i in per:\n",
        "        temp_join=''.join(i)\n",
        "        temp.append(temp_join)\n",
        "    answer=max(temp)\n",
        "    return answer\n",
        "\n",
        "# solution([6,10,2])\n",
        "solution([3, 30, 34, 5, 9])"
      ]
    },
    {
      "cell_type": "code",
      "source": [
        "def solution(numbers):\n",
        "    if 1 <= len(numbers) <= 100000:\n",
        "        for i in numbers:\n",
        "            if 0 <= i <= 1000:\n",
        "                pass\n",
        "            else:\n",
        "                return '원소의 범위 초과'\n",
        "    else:\n",
        "        return '길이의 범위 초과'\n",
        "\n",
        "    answer = ''\n",
        "    #문자형으로 나타내기위해\n",
        "    number=map(str,numbers)\n",
        "    # lambda를 이용하여 x[0]값이 같은 값의 x에 곱을 하여 순서를 비교하여 정렬\n",
        "    number_sort=sorted(number,key=lambda x:x*len(numbers),reverse=True)\n",
        "    # int를 해줌으로써 '000'같은 값을 0으로 만들어 주기 위함이라고 함 \n",
        "    # 참고하였음\n",
        "    answer=int(''.join(number_sort))\n",
        "    #문자열로 return\n",
        "    return str(answer)\n",
        "\n",
        "# solution([6,10,2])\n",
        "solution([3, 30, 34, 5, 9])"
      ],
      "metadata": {
        "colab": {
          "base_uri": "https://localhost:8080/",
          "height": 35
        },
        "id": "OpZ0LvhAqUUj",
        "outputId": "102d1d94-ffcf-44d3-fe97-9489a90cff75"
      },
      "execution_count": 50,
      "outputs": [
        {
          "output_type": "execute_result",
          "data": {
            "application/vnd.google.colaboratory.intrinsic+json": {
              "type": "string"
            },
            "text/plain": [
              "'9534330'"
            ]
          },
          "metadata": {},
          "execution_count": 50
        }
      ]
    },
    {
      "cell_type": "code",
      "source": [
        "# Weather Observation Station 10\n",
        "# https://www.hackerrank.com/challenges/weather-observation-station-10/problem?isFullScreen=true\n",
        "\n",
        "# mysql\n",
        "select distinct city from station where city regexp '[^aeiou]$';"
      ],
      "metadata": {
        "id": "blpWlWBqQ_rs"
      },
      "execution_count": null,
      "outputs": []
    },
    {
      "cell_type": "code",
      "source": [
        "# Higher Than 75 Marks\n",
        "# https://www.hackerrank.com/challenges/more-than-75-marks/problem?isFullScreen=true\n",
        "\n",
        "# mysql\n",
        "select name from students where marks > 75 order by right(name,3),id"
      ],
      "metadata": {
        "id": "YK5dzdeyQ_uJ"
      },
      "execution_count": null,
      "outputs": []
    }
  ]
}