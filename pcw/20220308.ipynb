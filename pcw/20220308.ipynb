{
  "nbformat": 4,
  "nbformat_minor": 0,
  "metadata": {
    "colab": {
      "name": "20220308.ipynb",
      "provenance": [],
      "collapsed_sections": []
    },
    "kernelspec": {
      "name": "python3",
      "display_name": "Python 3"
    },
    "language_info": {
      "name": "python"
    }
  },
  "cells": [
    {
      "cell_type": "code",
      "execution_count": 16,
      "metadata": {
        "colab": {
          "base_uri": "https://localhost:8080/"
        },
        "id": "z04GaAKs7m3Q",
        "outputId": "4ee22772-1fa1-4bff-f8b2-6d50ffe0fcad"
      },
      "outputs": [
        {
          "output_type": "stream",
          "name": "stdout",
          "text": [
            "1\n",
            "13\n",
            "OOIOIOIOIIOII\n",
            "4\n"
          ]
        }
      ],
      "source": [
        "# IOIOI\n",
        "# https://www.acmicpc.net/problem/5525\n",
        "# 채점 50\n",
        "import re\n",
        "\n",
        "N=int(input())\n",
        "M=int(input())\n",
        "S=input()\n",
        "\n",
        "if 1 <= N <= 1000000:\n",
        "    if (2*N)+1 <= M <= 1000000:\n",
        "        if len(S) == M:\n",
        "            if re.findall('[IO]+',S):\n",
        "                pass\n",
        "            else:\n",
        "                print('IO가 아닙니다.')\n",
        "        else:\n",
        "            print('S의 길이 다름')\n",
        "    else:\n",
        "        print('M의 범위 초과')\n",
        "else:\n",
        "    print('N의 범위 초과')\n",
        "\n",
        "answer=0\n",
        "p='I'\n",
        "for _ in range(N):\n",
        "    p+='OI'\n",
        "\n",
        "for i in range(len(S)-len(p)):\n",
        "    # s=S[i:i+len(p)]\n",
        "    if p == S[i:i+len(p)]:\n",
        "        answer+=1\n",
        "        \n",
        "print(answer)\n",
        "\n"
      ]
    },
    {
      "cell_type": "code",
      "source": [
        "1# Type of Triangle\n",
        "# https://www.hackerrank.com/challenges/what-type-of-triangle/problem?isFullScreen=true\n",
        "\n",
        "# 1\n",
        "select case when A=B and B=C then 'Equilateral' when A+B<=C or A+C<=B or B+C<=A then 'Not A Triangle' when A=B or A=C or B=C then 'Isosceles' else 'Scalene' end from triangles;\n",
        "# 2\n",
        "select case when A=B and B=C then 'Equilateral' when A+B <= C then 'Not A Triangle' when A!=B and A!=C and B!=C then 'Scalene' else 'Isosceles' end from triangles;"
      ],
      "metadata": {
        "colab": {
          "base_uri": "https://localhost:8080/"
        },
        "id": "rlHvsDaj7p67",
        "outputId": "37e4f769-8a97-4e82-884f-aa621a8c384a"
      },
      "execution_count": 12,
      "outputs": [
        {
          "output_type": "execute_result",
          "data": {
            "text/plain": [
              "1"
            ]
          },
          "metadata": {},
          "execution_count": 12
        }
      ]
    },
    {
      "cell_type": "code",
      "source": [
        "# Weather Observation Station 2\n",
        "# https://www.hackerrank.com/challenges/weather-observation-station-2/problem?isFullScreen=true\n",
        "\n",
        "select round(sum(LAT_N),2) as lat, round(sum(LONG_W),2) as lon from station;"
      ],
      "metadata": {
        "id": "6hENALQg7wK9"
      },
      "execution_count": null,
      "outputs": []
    }
  ]
}