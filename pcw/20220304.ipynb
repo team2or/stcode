{
  "nbformat": 4,
  "nbformat_minor": 0,
  "metadata": {
    "colab": {
      "name": "20220304.ipynb",
      "provenance": [],
      "collapsed_sections": []
    },
    "kernelspec": {
      "name": "python3",
      "display_name": "Python 3"
    },
    "language_info": {
      "name": "python"
    }
  },
  "cells": [
    {
      "cell_type": "code",
      "source": [
        "# 기능개발\n",
        "# https://programmers.co.kr/learn/courses/30/lessons/42586?language=python3\n",
        "\n",
        "#while 문 사용\n",
        "import math\n",
        "\n",
        "def solution(progresses, speeds):\n",
        "    if len(progresses) <= 100 and len(speeds) <= 100:\n",
        "        for p in progresses:\n",
        "            if p < 100:\n",
        "                pass\n",
        "            else:\n",
        "                return 'progresses의 범위 초과'\n",
        "        for s in speeds:\n",
        "            if s <= 100:\n",
        "                pass\n",
        "            else:\n",
        "                return 'speeds의 범위 초과'\n",
        "    else:\n",
        "        return '배열의 길이 초과'\n",
        "\n",
        "    answer = []\n",
        "    temp=[]\n",
        "\n",
        "    # 배포까지의 날짜 리스트 화\n",
        "    for p,s in zip(progresses,speeds):\n",
        "        ceil = math.ceil((100 - p)/s)\n",
        "        temp.append(ceil+1)\n",
        "    \n",
        "    while len(temp) > 0:\n",
        "        t_p = temp.pop(0)\n",
        "        cnt=1\n",
        "        for t in temp[:]:\n",
        "            if t_p >= temp[0]:\n",
        "                temp.pop(0)\n",
        "                cnt+=1\n",
        "            else:\n",
        "                break\n",
        "        answer.append(cnt)\n",
        "\n",
        "    return answer\n",
        "\n",
        "solution([93, 30, 55],[1, 30, 5])\n",
        "# solution([95, 90, 99, 99, 80, 99],[1, 1, 1, 1, 1, 1]    )"
      ],
      "metadata": {
        "colab": {
          "base_uri": "https://localhost:8080/"
        },
        "id": "rnNswnLFeefq",
        "outputId": "0cd7ba83-707d-4bb7-e06a-84059542f3ee"
      },
      "execution_count": 26,
      "outputs": [
        {
          "output_type": "execute_result",
          "data": {
            "text/plain": [
              "[2, 1]"
            ]
          },
          "metadata": {},
          "execution_count": 26
        }
      ]
    },
    {
      "cell_type": "code",
      "source": [
        "#for 문 사용\n",
        "import math\n",
        "\n",
        "def solution(progresses, speeds):\n",
        "    if len(progresses) <= 100 and len(speeds) <= 100:\n",
        "        for p in progresses:\n",
        "            if p < 100:\n",
        "                pass\n",
        "            else:\n",
        "                return 'progresses의 범위 초과'\n",
        "        for s in speeds:\n",
        "            if s <= 100:\n",
        "                pass\n",
        "            else:\n",
        "                return 'speeds의 범위 초과'\n",
        "    else:\n",
        "        return '배열의 길이 초과'\n",
        "    answer = []\n",
        "    temp=[]\n",
        "    \n",
        "    for p,s in zip(progresses,speeds):\n",
        "        ceil = math.ceil((100 - p)/s)\n",
        "        temp.append(ceil+1)\n",
        "    \n",
        "    temp_=temp[0]\n",
        "    cnt=1 \n",
        "    for t in range(1,len(temp)):\n",
        "        if temp_ >= temp[t]:\n",
        "            cnt+=1\n",
        "        else:\n",
        "            answer.append(cnt)\n",
        "            cnt=1\n",
        "            temp_=temp[t]\n",
        "    answer.append(cnt)\n",
        "\n",
        "    return answer\n",
        "\n",
        "# solution([93, 30, 55],[1, 30, 5])\n",
        "solution([95, 90, 99, 99, 80, 99],[1, 1, 1, 1, 1, 1])"
      ],
      "metadata": {
        "colab": {
          "base_uri": "https://localhost:8080/"
        },
        "id": "_LONJiHpdNuD",
        "outputId": "a1cdb8dc-51eb-4bae-f2c3-9a7479a6f814"
      },
      "execution_count": 28,
      "outputs": [
        {
          "output_type": "execute_result",
          "data": {
            "text/plain": [
              "[1, 3, 2]"
            ]
          },
          "metadata": {},
          "execution_count": 28
        }
      ]
    },
    {
      "cell_type": "code",
      "source": [
        "# Weather Observation Station 11\n",
        "# https://www.hackerrank.com/challenges/weather-observation-station-11/problem?isFullScreen=true\n",
        "\n",
        "select distinct city from station where city regexp '^[^aeiou]' or city regexp '[^aeiou]$';"
      ],
      "metadata": {
        "id": "9aBgp-GXPzVd"
      },
      "execution_count": null,
      "outputs": []
    },
    {
      "cell_type": "code",
      "source": [
        "# Employee Names\n",
        "# https://www.hackerrank.com/challenges/name-of-employees/problem?isFullScreen=true\n",
        "\n",
        "select name from employee order by name asc"
      ],
      "metadata": {
        "id": "n6M4bLPJPzcK"
      },
      "execution_count": null,
      "outputs": []
    }
  ]
}